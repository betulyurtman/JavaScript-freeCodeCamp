{
  "nbformat": 4,
  "nbformat_minor": 0,
  "metadata": {
    "colab": {
      "provenance": []
    },
    "kernelspec": {
      "name": "python3",
      "display_name": "Python 3"
    },
    "language_info": {
      "name": "python"
    }
  },
  "cells": [
    {
      "cell_type": "markdown",
      "source": [
        "Apply the regex myRegex on the string myString using the .test() method."
      ],
      "metadata": {
        "id": "qS834zfrJhH5"
      }
    },
    {
      "cell_type": "code",
      "execution_count": null,
      "metadata": {
        "id": "7W9_0KM8JLX8"
      },
      "outputs": [],
      "source": [
        "let myString = \"Hello, World!\";\n",
        "let myRegex = /Hello/;\n",
        "let result = myRegex.test(myString); // Change this line"
      ]
    },
    {
      "cell_type": "markdown",
      "source": [
        "Complete the regex waldoRegex to find \"Waldo\" in the string waldoIsHiding with a literal match."
      ],
      "metadata": {
        "id": "GR1oZKkiJh9O"
      }
    },
    {
      "cell_type": "code",
      "source": [
        "let waldoIsHiding = \"Somewhere Waldo is hiding in this text.\";\n",
        "let waldoRegex = /Waldo/; // Change this line\n",
        "let result = waldoRegex.test(waldoIsHiding);"
      ],
      "metadata": {
        "id": "eHgjAtZ6JiFw"
      },
      "execution_count": null,
      "outputs": []
    },
    {
      "cell_type": "markdown",
      "source": [
        "Complete the regex petRegex to match the pets dog, cat, bird, or fish."
      ],
      "metadata": {
        "id": "X47lH2s_JiNl"
      }
    },
    {
      "cell_type": "code",
      "source": [
        "let petString = \"James has a pet cat.\";\n",
        "let petRegex = /dog|cat|bird|fish/; // Change this line\n",
        "let result = petRegex.test(petString);"
      ],
      "metadata": {
        "id": "tvZSshBQJiV2"
      },
      "execution_count": null,
      "outputs": []
    },
    {
      "cell_type": "markdown",
      "source": [
        "\n",
        "Write a regex fccRegex to match freeCodeCamp, no matter its case. Your regex should not match any abbreviations or variations with spaces."
      ],
      "metadata": {
        "id": "cmJt8iGVJibk"
      }
    },
    {
      "cell_type": "code",
      "source": [
        "let myString = \"freeCodeCamp\";\n",
        "let fccRegex = /freeCodeCamp/i; // Change this line\n",
        "let result = fccRegex.test(myString);"
      ],
      "metadata": {
        "id": "6piqc4sQJijw"
      },
      "execution_count": null,
      "outputs": []
    },
    {
      "cell_type": "markdown",
      "source": [
        "Apply the .match() method to extract the string coding."
      ],
      "metadata": {
        "id": "raJ0uDvzJip6"
      }
    },
    {
      "cell_type": "code",
      "source": [
        "let extractStr = \"Extract the word 'coding' from this string.\";\n",
        "let codingRegex = /coding/; // Change this line\n",
        "let result = extractStr.match(codingRegex); // Change this line"
      ],
      "metadata": {
        "id": "-rYiSii4JivS"
      },
      "execution_count": null,
      "outputs": []
    },
    {
      "cell_type": "markdown",
      "source": [
        "Using the regex starRegex, find and extract both Twinkle words from the string twinkleStar.\n",
        "\n",
        "Note\n",
        "You can have multiple flags on your regex like /search/gi"
      ],
      "metadata": {
        "id": "uPwal8rZJi21"
      }
    },
    {
      "cell_type": "code",
      "source": [
        "let twinkleStar = \"Twinkle, twinkle, little star\";\n",
        "let starRegex = /twinkle/gi; // Change this line\n",
        "let result = twinkleStar.match(starRegex); // Change this line"
      ],
      "metadata": {
        "id": "gyqbLrmuJi9r"
      },
      "execution_count": null,
      "outputs": []
    },
    {
      "cell_type": "markdown",
      "source": [
        "Complete the regex unRegex so that it matches the strings run, sun, fun, pun, nun, and bun. Your regex should use the wildcard character."
      ],
      "metadata": {
        "id": "kG-h0-hFJjDn"
      }
    },
    {
      "cell_type": "code",
      "source": [
        "let exampleStr = \"Let's have fun with regular expressions!\";\n",
        "let unRegex = /.un/; // Change this line\n",
        "let result = unRegex.test(exampleStr);"
      ],
      "metadata": {
        "id": "BM8bfmw3JjLZ"
      },
      "execution_count": null,
      "outputs": []
    },
    {
      "cell_type": "markdown",
      "source": [
        "Use a character class with vowels (a, e, i, o, u) in your regex vowelRegex to find all the vowels in the string quoteSample.\n",
        "\n",
        "Note: Be sure to match both upper- and lowercase vowels."
      ],
      "metadata": {
        "id": "b7tDU5Q2JjQo"
      }
    },
    {
      "cell_type": "code",
      "source": [
        "let quoteSample = \"Beware of bugs in the above code; I have only proved it correct, not tried it.\";\n",
        "let vowelRegex = /[aeiou]/gi; // Change this line\n",
        "let result = quoteSample.match(vowelRegex); // Change this line"
      ],
      "metadata": {
        "id": "UFBa9DKyJjXp"
      },
      "execution_count": null,
      "outputs": []
    },
    {
      "cell_type": "markdown",
      "source": [
        "Match all the letters in the string quoteSample.\n",
        "\n",
        "Note: Be sure to match both uppercase and lowercase letters."
      ],
      "metadata": {
        "id": "sCNQxQGUJjec"
      }
    },
    {
      "cell_type": "code",
      "source": [
        "let quoteSample = \"The quick brown fox jumps over the lazy dog.\";\n",
        "let alphabetRegex = /[a-z]/gi; // Change this line\n",
        "let result = quoteSample.match(alphabetRegex); // Change this line"
      ],
      "metadata": {
        "id": "XmR8c-wyJjlC"
      },
      "execution_count": null,
      "outputs": []
    },
    {
      "cell_type": "markdown",
      "source": [
        "Create a single regex that matches a range of letters between h and s, and a range of numbers between 2 and 6. Remember to include the appropriate flags in the regex."
      ],
      "metadata": {
        "id": "Zzw35t_gJjsJ"
      }
    },
    {
      "cell_type": "code",
      "source": [
        "let quoteSample = \"Blueberry 3.141592653s are delicious.\";\n",
        "let myRegex = /[h-s2-6]/ig; // Change this line\n",
        "let result = quoteSample.match(myRegex); // Change this line"
      ],
      "metadata": {
        "id": "egE3kiAlJjyP"
      },
      "execution_count": null,
      "outputs": []
    },
    {
      "cell_type": "markdown",
      "source": [
        "Create a single regex that matches all characters that are not a number or a vowel. Remember to include the appropriate flags in the regex."
      ],
      "metadata": {
        "id": "bBfvNe_SJj58"
      }
    },
    {
      "cell_type": "code",
      "source": [
        "let quoteSample = \"3 blind mice.\";\n",
        "let myRegex = /[^aeiou^0-9]/ig; // Change this line\n",
        "let result = quoteSample.match(myRegex); // Change this line"
      ],
      "metadata": {
        "id": "nidYsl6HJj_x"
      },
      "execution_count": null,
      "outputs": []
    },
    {
      "cell_type": "markdown",
      "source": [
        "You want to find matches when the letter s occurs one or more times in Mississippi. Write a regex that uses the + sign."
      ],
      "metadata": {
        "id": "R0XXdcKXJkIJ"
      }
    },
    {
      "cell_type": "code",
      "source": [
        "let difficultSpelling = \"Mississippi\";\n",
        "let myRegex = /s+/g; // Change this line\n",
        "let result = difficultSpelling.match(myRegex);"
      ],
      "metadata": {
        "id": "zGmdbd7MJkOy"
      },
      "execution_count": null,
      "outputs": []
    },
    {
      "cell_type": "markdown",
      "source": [
        "For this challenge, chewieQuote has been initialized as the string Aaaaaaaaaaaaaaaarrrgh! behind the scenes. Create a regex chewieRegex that uses the * character to match an uppercase A character immediately followed by zero or more lowercase a characters in chewieQuote. Your regex does not need flags or character classes, and it should not match any of the other quotes."
      ],
      "metadata": {
        "id": "xkgAYFgqJkWM"
      }
    },
    {
      "cell_type": "code",
      "source": [
        "let chewieRegex = /Aa*/; // Change this line\n",
        "\n",
        "let result = chewieQuote.match(chewieRegex);"
      ],
      "metadata": {
        "id": "k2d8ACMwJkdo"
      },
      "execution_count": null,
      "outputs": []
    },
    {
      "cell_type": "markdown",
      "source": [
        "Fix the regex /<.*>/ to return the HTML tag <h1> \n",
        "\n",
        "and not the text \"<h1>Winter is coming</h1>\". \n",
        "\n",
        "Remember the wildcard . in a regular expression matches any character."
      ],
      "metadata": {
        "id": "7C9LFftGJkjf"
      }
    },
    {
      "cell_type": "code",
      "source": [
        "let text = \"<h1>Winter is coming</h1>\";\n",
        "let myRegex = /<.*?>/; // Change this line\n",
        "let result = text.match(myRegex);"
      ],
      "metadata": {
        "id": "kOUIEYFmJkqc"
      },
      "execution_count": null,
      "outputs": []
    },
    {
      "cell_type": "markdown",
      "source": [
        "Write a greedy regex that finds one or more criminals within a group of other people. A criminal is represented by the capital letter C."
      ],
      "metadata": {
        "id": "nHV6q7xfJkxV"
      }
    },
    {
      "cell_type": "code",
      "source": [
        "let reCriminals = /C+/; // Change this line"
      ],
      "metadata": {
        "id": "ilYkCOa6Jk31"
      },
      "execution_count": null,
      "outputs": []
    },
    {
      "cell_type": "markdown",
      "source": [
        "Use the caret character in a regex to find Cal only in the beginning of the string rickyAndCal."
      ],
      "metadata": {
        "id": "XX_IywkVJk_f"
      }
    },
    {
      "cell_type": "code",
      "source": [
        "let rickyAndCal = \"Cal and Ricky both like racing.\";\n",
        "let calRegex = /^Cal/; // Change this line\n",
        "let result = calRegex.test(rickyAndCal);"
      ],
      "metadata": {
        "id": "TaHWUug8JlGg"
      },
      "execution_count": null,
      "outputs": []
    },
    {
      "cell_type": "markdown",
      "source": [
        "Use the anchor character ($) to match the string caboose at the end of the string caboose."
      ],
      "metadata": {
        "id": "YVfU5TGcJlSD"
      }
    },
    {
      "cell_type": "code",
      "source": [
        "let caboose = \"The last car on a train is the caboose\";\n",
        "let lastRegex = /caboose$/; // Change this line\n",
        "let result = lastRegex.test(caboose);"
      ],
      "metadata": {
        "id": "QPFLh8uUJlUm"
      },
      "execution_count": null,
      "outputs": []
    },
    {
      "cell_type": "markdown",
      "source": [
        "Use the shorthand character class \\w to count the number of alphanumeric characters in various quotes and strings."
      ],
      "metadata": {
        "id": "1e19kwkZJmtY"
      }
    },
    {
      "cell_type": "code",
      "source": [
        "let quoteSample = \"The five boxing wizards jump quickly.\";\n",
        "let alphabetRegexV2 = /\\w/g; // Change this line\n",
        "let result = quoteSample.match(alphabetRegexV2).length;"
      ],
      "metadata": {
        "id": "EVx_ERThJm0Z"
      },
      "execution_count": null,
      "outputs": []
    },
    {
      "cell_type": "markdown",
      "source": [
        "Use the shorthand character class \\W to count the number of non-alphanumeric characters in various quotes and strings."
      ],
      "metadata": {
        "id": "UUVQUoftJm9O"
      }
    },
    {
      "cell_type": "code",
      "source": [
        "let quoteSample = \"The five boxing wizards jump quickly.\";\n",
        "let nonAlphabetRegex = /\\W/g; // Change this line\n",
        "let result = quoteSample.match(nonAlphabetRegex).length;"
      ],
      "metadata": {
        "id": "otXFOwMZJnFa"
      },
      "execution_count": null,
      "outputs": []
    },
    {
      "cell_type": "markdown",
      "source": [
        "Use the shorthand character class \\d to count how many digits are in movie titles. Written out numbers (\"six\" instead of 6) do not count."
      ],
      "metadata": {
        "id": "DHDeZPS0JnPI"
      }
    },
    {
      "cell_type": "code",
      "source": [
        "let movieName = \"2001: A Space Odyssey\";\n",
        "let numRegex = /\\d/g; // Change this line\n",
        "let result = movieName.match(numRegex).length;"
      ],
      "metadata": {
        "id": "7JCD5CgmJnWK"
      },
      "execution_count": null,
      "outputs": []
    },
    {
      "cell_type": "markdown",
      "source": [
        "Use the shorthand character class for non-digits \\D to count how many non-digits are in movie titles."
      ],
      "metadata": {
        "id": "NtgcwfzCJnc8"
      }
    },
    {
      "cell_type": "code",
      "source": [
        "let movieName = \"2001: A Space Odyssey\";\n",
        "let noNumRegex = /\\D/g; // Change this line\n",
        "let result = movieName.match(noNumRegex).length;"
      ],
      "metadata": {
        "id": "2NTJtvNDJnk6"
      },
      "execution_count": null,
      "outputs": []
    },
    {
      "cell_type": "markdown",
      "source": [
        "Usernames can only use alpha-numeric characters.\n",
        "\n",
        "The only numbers in the username have to be at the end. There can be zero or more of them at the end. Username cannot start with the number.\n",
        "\n",
        "Username letters can be lowercase and uppercase.\n",
        "\n",
        "Usernames have to be at least two characters long. A two-character username can only use alphabet letters as characters.\n",
        "\n",
        "Change the regex userCheck to fit the constraints listed above."
      ],
      "metadata": {
        "id": "059oEVnjGhOq"
      }
    },
    {
      "cell_type": "code",
      "source": [
        "let username = \"JackOfAllTrades\";\n",
        "let userCheck = /^[a-z]([0-9]{2,}|[a-z]+\\d*)$/i; // Change this line\n",
        "let result = userCheck.test(username);"
      ],
      "metadata": {
        "id": "C6lC0Az2GhXg"
      },
      "execution_count": null,
      "outputs": []
    },
    {
      "cell_type": "markdown",
      "source": [
        "Change the regex countWhiteSpace to look for multiple whitespace characters in a string."
      ],
      "metadata": {
        "id": "9LTnVym9GhgK"
      }
    },
    {
      "cell_type": "code",
      "source": [
        "let sample = \"Whitespace is important in separating words\";\n",
        "let countWhiteSpace = /\\s/g; // Change this line\n",
        "let result = sample.match(countWhiteSpace);"
      ],
      "metadata": {
        "id": "ESuK2acpGhoF"
      },
      "execution_count": null,
      "outputs": []
    },
    {
      "cell_type": "markdown",
      "source": [
        "Change the regex countNonWhiteSpace to look for multiple non-whitespace characters in a string."
      ],
      "metadata": {
        "id": "Zw56g0VRGhru"
      }
    },
    {
      "cell_type": "code",
      "source": [
        "let sample = \"Whitespace is important in separating words\";\n",
        "let countNonWhiteSpace = /\\S/g; // Change this line\n",
        "let result = sample.match(countNonWhiteSpace);"
      ],
      "metadata": {
        "id": "wFnUgJoNGhxb"
      },
      "execution_count": null,
      "outputs": []
    },
    {
      "cell_type": "markdown",
      "source": [
        "Change the regex ohRegex to match the entire phrase Oh no only when it has 3 to 6 letter h's.\n",
        "\n"
      ],
      "metadata": {
        "id": "6o8LTllCGh3h"
      }
    },
    {
      "cell_type": "code",
      "source": [
        "let ohStr = \"Ohhh no\";\n",
        "let ohRegex = /Oh{3,6}\\sno/; // Change this line\n",
        "let result = ohRegex.test(ohStr);"
      ],
      "metadata": {
        "id": "WpYdy-2FGh9z"
      },
      "execution_count": null,
      "outputs": []
    },
    {
      "cell_type": "markdown",
      "source": [
        "Change the regex haRegex to match the word Hazzah only when it has four or more letter z's.\n",
        "\n"
      ],
      "metadata": {
        "id": "HY6S7aLbGiC9"
      }
    },
    {
      "cell_type": "code",
      "source": [
        "let haStr = \"Hazzzzah\";\n",
        "let haRegex = /Haz{4,}ah/; // Change this line\n",
        "let result = haRegex.test(haStr);"
      ],
      "metadata": {
        "id": "ZFHB90GQGiIO"
      },
      "execution_count": null,
      "outputs": []
    },
    {
      "cell_type": "markdown",
      "source": [
        "Change the regex timRegex to match the word Timber only when it has four letter m's.\n",
        "\n"
      ],
      "metadata": {
        "id": "ItVlU-DEGiNm"
      }
    },
    {
      "cell_type": "code",
      "source": [
        "let timStr = \"Timmmmber\";\n",
        "let timRegex = /Tim{4}ber/; // Change this line\n",
        "let result = timRegex.test(timStr);"
      ],
      "metadata": {
        "id": "nBQlRVViGiS2"
      },
      "execution_count": null,
      "outputs": []
    },
    {
      "cell_type": "markdown",
      "source": [
        "\n",
        "Change the regex favRegex to match both the American English (favorite) and the British English (favourite) version of the word.\n",
        "\n"
      ],
      "metadata": {
        "id": "L5eK3vxnGiZm"
      }
    },
    {
      "cell_type": "code",
      "source": [
        "let favWord = \"favorite\";\n",
        "let favRegex = /favou?rite/; // Change this line\n",
        "let result = favRegex.test(favWord);"
      ],
      "metadata": {
        "id": "HPy1dBJFGifY"
      },
      "execution_count": null,
      "outputs": []
    },
    {
      "cell_type": "markdown",
      "source": [
        "Use lookaheads in the pwRegex to match passwords that are greater than 5 characters long, and have two consecutive digits.\n",
        "\n"
      ],
      "metadata": {
        "id": "dkcZwZ5pI_Uv"
      }
    },
    {
      "cell_type": "code",
      "source": [
        "let sampleWord = \"astronaut\";\n",
        "let pwRegex = /(?=\\w{6})(?=\\w*\\d{2})/; // Change this line\n",
        "let result = pwRegex.test(sampleWord);"
      ],
      "metadata": {
        "id": "QV2dJvpXI_dE"
      },
      "execution_count": null,
      "outputs": []
    },
    {
      "cell_type": "markdown",
      "source": [
        "Fix the regex so that it checks for the names of Franklin Roosevelt or Eleanor Roosevelt in a case sensitive manner and it should make concessions for middle names.\n",
        "\n",
        "Then fix the code so that the regex that you have created is checked against myString and either true or false is returned depending on whether the regex matches."
      ],
      "metadata": {
        "id": "8V72295yI_jy"
      }
    },
    {
      "cell_type": "code",
      "source": [
        "let myString = \"Eleanor Roosevelt\";\n",
        "let myRegex = /(Franklin|Eleanor) (([A-Z]\\.?|[A-Z][a-z]+) )?Roosevelt/;\n",
        "// Change this line\n",
        "let result = myRegex.test(myString); // Change this line\n",
        "// After passing the challenge experiment with myString and see how the grouping works"
      ],
      "metadata": {
        "id": "Op2I_qY6I_tT"
      },
      "execution_count": null,
      "outputs": []
    },
    {
      "cell_type": "markdown",
      "source": [
        "Use capture groups in reRegex to match a string that consists of only the same number repeated exactly three times separated by single spaces.\n",
        "\n"
      ],
      "metadata": {
        "id": "Y01eLq0aJAuc"
      }
    },
    {
      "cell_type": "code",
      "source": [
        "let repeatNum = \"42 42 42\";\n",
        "let reRegex = /^(\\d+) \\1 \\1$/; // Change this line\n",
        "let result = reRegex.test(repeatNum);"
      ],
      "metadata": {
        "id": "hubRiPE4JA3o"
      },
      "execution_count": null,
      "outputs": []
    },
    {
      "cell_type": "markdown",
      "source": [
        "Write a regex fixRegex using three capture groups that will search for each word in the string one two three. Then update the replaceText variable to replace one two three with the string three two one and assign the result to the result variable. Make sure you are utilizing capture groups in the replacement string using the dollar sign ($) syntax."
      ],
      "metadata": {
        "id": "G_48Sw0aJA_V"
      }
    },
    {
      "cell_type": "code",
      "source": [
        "let str = \"one two three\";\n",
        "let fixRegex = /(\\w+)\\s(\\w+)\\s(\\w+)/; // Change this line\n",
        "let replaceText = \"$3 $2 $1\"; // Change this line\n",
        "let result = str.replace(fixRegex, replaceText);"
      ],
      "metadata": {
        "id": "82qpVahFJBKj"
      },
      "execution_count": null,
      "outputs": []
    },
    {
      "cell_type": "markdown",
      "source": [
        "Write a regex and use the appropriate string methods to remove whitespace at the beginning and end of strings.\n",
        "\n",
        "Note: The String.prototype.trim() method would work here, but you'll need to complete this challenge using regular expressions.\n",
        "\n"
      ],
      "metadata": {
        "id": "g66tNgiXJBP2"
      }
    },
    {
      "cell_type": "code",
      "source": [
        "let hello = \"   Hello, World!  \";\n",
        "let wsRegex = /^\\s+|\\s+$/g; // Change this line\n",
        "let result = hello.replace(wsRegex, \"\"); // Change this line"
      ],
      "metadata": {
        "id": "0jWVJfb_JBXy"
      },
      "execution_count": null,
      "outputs": []
    }
  ]
}
