{
  "nbformat": 4,
  "nbformat_minor": 0,
  "metadata": {
    "colab": {
      "provenance": []
    },
    "kernelspec": {
      "name": "python3",
      "display_name": "Python 3"
    },
    "language_info": {
      "name": "python"
    }
  },
  "cells": [
    {
      "cell_type": "markdown",
      "source": [
        "We have defined a variable called yourArray. Complete the statement by assigning an array of at least 5 elements in length to the yourArray variable. Your array should contain at least one string, one number, and one boolean."
      ],
      "metadata": {
        "id": "BslNq3HSVHsN"
      }
    },
    {
      "cell_type": "code",
      "execution_count": null,
      "metadata": {
        "id": "04KxRUWnUsGz"
      },
      "outputs": [],
      "source": [
        "let yourArray = [\"betül\", 23, true, null, 0]; # Change this line"
      ]
    },
    {
      "cell_type": "markdown",
      "source": [
        "In order to complete this challenge, set the 2nd position (index 1) of myArray to anything you want, besides the letter b."
      ],
      "metadata": {
        "id": "MKjidi4pVIf2"
      }
    },
    {
      "cell_type": "code",
      "source": [
        "let myArray = [\"a\", \"b\", \"c\", \"d\"];\n",
        "# Only change code below this line\n",
        "myArray[1] = \"bet\"\n",
        "# Only change code above this line\n",
        "console.log(myArray);"
      ],
      "metadata": {
        "id": "3XQ1_i3fVIkg"
      },
      "execution_count": null,
      "outputs": []
    },
    {
      "cell_type": "markdown",
      "source": [
        "We have defined a function, mixedNumbers, which we are passing an array as an argument. Modify the function by using push() and unshift() to add 'I', 2, 'three' to the beginning of the array and 7, 'VIII', 9 to the end so that the returned array contains representations of the numbers 1-9 in order."
      ],
      "metadata": {
        "id": "vbL9KoIxVIqL"
      }
    },
    {
      "cell_type": "code",
      "source": [
        "function mixedNumbers(arr) {\n",
        "  // Only change code below this line\n",
        "  arr.unshift('I', 2, 'three')\n",
        "  arr.push(7, 'VIII', 9)\n",
        "  // Only change code above this line\n",
        "  return arr;\n",
        "}\n",
        "\n",
        "console.log(mixedNumbers(['IV', 5, 'six']));"
      ],
      "metadata": {
        "id": "qz6nC2oeVIvJ"
      },
      "execution_count": null,
      "outputs": []
    },
    {
      "cell_type": "markdown",
      "source": [
        "We have defined a function, popShift, which takes an array as an argument and returns a new array. Modify the function, using pop() and shift(), to remove the first and last elements of the argument array, and assign the removed elements to their corresponding variables, so that the returned array contains their values."
      ],
      "metadata": {
        "id": "oiDosLLyVIz0"
      }
    },
    {
      "cell_type": "code",
      "source": [
        "function popShift(arr) {\n",
        "  let popped = arr.pop(); // Change this line\n",
        "  let shifted = arr.shift(); // Change this line\n",
        "  return [shifted, popped];\n",
        "}\n",
        "\n",
        "console.log(popShift(['challenge', 'is', 'not', 'complete']));"
      ],
      "metadata": {
        "id": "yUoOiJNPVI6d"
      },
      "execution_count": null,
      "outputs": []
    },
    {
      "cell_type": "markdown",
      "source": [
        "\n",
        "We've initialized an array arr. Use splice() to remove elements from arr, so that it only contains elements that sum to the value of 10."
      ],
      "metadata": {
        "id": "AJVHyirCVI-X"
      }
    },
    {
      "cell_type": "code",
      "source": [
        "const arr = [2, 4, 5, 1, 7, 5, 2, 1];\n",
        "// Only change code below this line\n",
        "arr.splice(1, 4)\n",
        "// Only change code above this line\n",
        "console.log(arr);"
      ],
      "metadata": {
        "id": "7BX7q7Q2VJD1"
      },
      "execution_count": null,
      "outputs": []
    },
    {
      "cell_type": "markdown",
      "source": [
        "We have defined a function, htmlColorNames, which takes an array of HTML colors as an argument. Modify the function using splice() to remove the first two elements of the array and add 'DarkSalmon' and 'BlanchedAlmond' in their respective places."
      ],
      "metadata": {
        "id": "Cyeu6bkEVJH-"
      }
    },
    {
      "cell_type": "code",
      "source": [
        "function htmlColorNames(arr) {\n",
        "  // Only change code below this line\n",
        "  arr.splice(0, 2, 'DarkSalmon', 'BlanchedAlmond')\n",
        "  // Only change code above this line\n",
        "  return arr;\n",
        "}\n",
        "\n",
        "console.log(htmlColorNames(['DarkGoldenRod', 'WhiteSmoke', 'LavenderBlush', 'PaleTurquoise', 'FireBrick']));"
      ],
      "metadata": {
        "id": "tlBx2Rt-VJOG"
      },
      "execution_count": null,
      "outputs": []
    },
    {
      "cell_type": "markdown",
      "source": [],
      "metadata": {
        "id": "wX-W9UuAVJSK"
      }
    },
    {
      "cell_type": "code",
      "source": [],
      "metadata": {
        "id": "8VOrGhOxVJX8"
      },
      "execution_count": null,
      "outputs": []
    },
    {
      "cell_type": "markdown",
      "source": [],
      "metadata": {
        "id": "8i2meumxVK9B"
      }
    },
    {
      "cell_type": "code",
      "source": [],
      "metadata": {
        "id": "nQubmtaeVLIC"
      },
      "execution_count": null,
      "outputs": []
    },
    {
      "cell_type": "markdown",
      "source": [],
      "metadata": {
        "id": "3Cblg1oaVLWl"
      }
    },
    {
      "cell_type": "code",
      "source": [],
      "metadata": {
        "id": "T_NYO-hFVLeP"
      },
      "execution_count": null,
      "outputs": []
    },
    {
      "cell_type": "markdown",
      "source": [],
      "metadata": {
        "id": "pCqNmfgUVLmo"
      }
    },
    {
      "cell_type": "code",
      "source": [],
      "metadata": {
        "id": "3Sw-BQOaVLwN"
      },
      "execution_count": null,
      "outputs": []
    },
    {
      "cell_type": "markdown",
      "source": [],
      "metadata": {
        "id": "dilbCXxGVL2b"
      }
    },
    {
      "cell_type": "code",
      "source": [],
      "metadata": {
        "id": "ZKWLbDZTVL8X"
      },
      "execution_count": null,
      "outputs": []
    },
    {
      "cell_type": "markdown",
      "source": [],
      "metadata": {
        "id": "UIiitLFLVMAO"
      }
    },
    {
      "cell_type": "code",
      "source": [],
      "metadata": {
        "id": "wclUnoYUVMH9"
      },
      "execution_count": null,
      "outputs": []
    },
    {
      "cell_type": "markdown",
      "source": [],
      "metadata": {
        "id": "KNo1bwsjVMMh"
      }
    },
    {
      "cell_type": "code",
      "source": [],
      "metadata": {
        "id": "Un0RBqorVMSW"
      },
      "execution_count": null,
      "outputs": []
    },
    {
      "cell_type": "markdown",
      "source": [],
      "metadata": {
        "id": "gW3gVfkLVMZ6"
      }
    },
    {
      "cell_type": "code",
      "source": [],
      "metadata": {
        "id": "fziPdCIoVMfw"
      },
      "execution_count": null,
      "outputs": []
    },
    {
      "cell_type": "markdown",
      "source": [],
      "metadata": {
        "id": "ckP-SEl_VMlv"
      }
    },
    {
      "cell_type": "code",
      "source": [],
      "metadata": {
        "id": "QXjm5Q6KVMtB"
      },
      "execution_count": null,
      "outputs": []
    },
    {
      "cell_type": "markdown",
      "source": [],
      "metadata": {
        "id": "50-wOfnLVMzv"
      }
    },
    {
      "cell_type": "code",
      "source": [],
      "metadata": {
        "id": "bhcPSbAJVM6y"
      },
      "execution_count": null,
      "outputs": []
    },
    {
      "cell_type": "markdown",
      "source": [],
      "metadata": {
        "id": "quxNLpXzVM_O"
      }
    },
    {
      "cell_type": "code",
      "source": [],
      "metadata": {
        "id": "ygADbR2mVNF_"
      },
      "execution_count": null,
      "outputs": []
    },
    {
      "cell_type": "markdown",
      "source": [],
      "metadata": {
        "id": "RW93V60lVNMk"
      }
    },
    {
      "cell_type": "code",
      "source": [],
      "metadata": {
        "id": "EOsz2VDTVNUD"
      },
      "execution_count": null,
      "outputs": []
    },
    {
      "cell_type": "markdown",
      "source": [],
      "metadata": {
        "id": "O2Awi2sUVNaT"
      }
    },
    {
      "cell_type": "code",
      "source": [],
      "metadata": {
        "id": "OTkJOAAbVNgS"
      },
      "execution_count": null,
      "outputs": []
    },
    {
      "cell_type": "markdown",
      "source": [],
      "metadata": {
        "id": "4hrgUsolVNoA"
      }
    },
    {
      "cell_type": "code",
      "source": [],
      "metadata": {
        "id": "hACTTMF3VNvh"
      },
      "execution_count": null,
      "outputs": []
    },
    {
      "cell_type": "markdown",
      "source": [],
      "metadata": {
        "id": "j3KpJsW7VONc"
      }
    },
    {
      "cell_type": "code",
      "source": [],
      "metadata": {
        "id": "XjBtKa5mVOXs"
      },
      "execution_count": null,
      "outputs": []
    },
    {
      "cell_type": "markdown",
      "source": [],
      "metadata": {
        "id": "drrvbaxlVOd0"
      }
    },
    {
      "cell_type": "code",
      "source": [],
      "metadata": {
        "id": "gYa6pJc3VOju"
      },
      "execution_count": null,
      "outputs": []
    }
  ]
}