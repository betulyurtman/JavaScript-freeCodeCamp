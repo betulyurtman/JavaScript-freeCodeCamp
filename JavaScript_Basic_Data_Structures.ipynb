{
  "nbformat": 4,
  "nbformat_minor": 0,
  "metadata": {
    "colab": {
      "provenance": []
    },
    "kernelspec": {
      "name": "python3",
      "display_name": "Python 3"
    },
    "language_info": {
      "name": "python"
    }
  },
  "cells": [
    {
      "cell_type": "markdown",
      "source": [
        "We have defined a variable called yourArray. Complete the statement by assigning an array of at least 5 elements in length to the yourArray variable. Your array should contain at least one string, one number, and one boolean."
      ],
      "metadata": {
        "id": "BslNq3HSVHsN"
      }
    },
    {
      "cell_type": "code",
      "execution_count": null,
      "metadata": {
        "id": "04KxRUWnUsGz"
      },
      "outputs": [],
      "source": [
        "let yourArray = [\"betül\", 23, true, null, 0]; # Change this line"
      ]
    },
    {
      "cell_type": "markdown",
      "source": [
        "In order to complete this challenge, set the 2nd position (index 1) of myArray to anything you want, besides the letter b."
      ],
      "metadata": {
        "id": "MKjidi4pVIf2"
      }
    },
    {
      "cell_type": "code",
      "source": [
        "let myArray = [\"a\", \"b\", \"c\", \"d\"];\n",
        "# Only change code below this line\n",
        "myArray[1] = \"bet\"\n",
        "# Only change code above this line\n",
        "console.log(myArray);"
      ],
      "metadata": {
        "id": "3XQ1_i3fVIkg"
      },
      "execution_count": null,
      "outputs": []
    },
    {
      "cell_type": "markdown",
      "source": [],
      "metadata": {
        "id": "vbL9KoIxVIqL"
      }
    },
    {
      "cell_type": "code",
      "source": [],
      "metadata": {
        "id": "qz6nC2oeVIvJ"
      },
      "execution_count": null,
      "outputs": []
    },
    {
      "cell_type": "markdown",
      "source": [],
      "metadata": {
        "id": "oiDosLLyVIz0"
      }
    },
    {
      "cell_type": "code",
      "source": [],
      "metadata": {
        "id": "yUoOiJNPVI6d"
      },
      "execution_count": null,
      "outputs": []
    },
    {
      "cell_type": "markdown",
      "source": [],
      "metadata": {
        "id": "AJVHyirCVI-X"
      }
    },
    {
      "cell_type": "code",
      "source": [],
      "metadata": {
        "id": "7BX7q7Q2VJD1"
      },
      "execution_count": null,
      "outputs": []
    },
    {
      "cell_type": "markdown",
      "source": [],
      "metadata": {
        "id": "Cyeu6bkEVJH-"
      }
    },
    {
      "cell_type": "code",
      "source": [],
      "metadata": {
        "id": "tlBx2Rt-VJOG"
      },
      "execution_count": null,
      "outputs": []
    },
    {
      "cell_type": "markdown",
      "source": [],
      "metadata": {
        "id": "wX-W9UuAVJSK"
      }
    },
    {
      "cell_type": "code",
      "source": [],
      "metadata": {
        "id": "8VOrGhOxVJX8"
      },
      "execution_count": null,
      "outputs": []
    },
    {
      "cell_type": "markdown",
      "source": [],
      "metadata": {
        "id": "8i2meumxVK9B"
      }
    },
    {
      "cell_type": "code",
      "source": [],
      "metadata": {
        "id": "nQubmtaeVLIC"
      },
      "execution_count": null,
      "outputs": []
    },
    {
      "cell_type": "markdown",
      "source": [],
      "metadata": {
        "id": "3Cblg1oaVLWl"
      }
    },
    {
      "cell_type": "code",
      "source": [],
      "metadata": {
        "id": "T_NYO-hFVLeP"
      },
      "execution_count": null,
      "outputs": []
    },
    {
      "cell_type": "markdown",
      "source": [],
      "metadata": {
        "id": "pCqNmfgUVLmo"
      }
    },
    {
      "cell_type": "code",
      "source": [],
      "metadata": {
        "id": "3Sw-BQOaVLwN"
      },
      "execution_count": null,
      "outputs": []
    },
    {
      "cell_type": "markdown",
      "source": [],
      "metadata": {
        "id": "dilbCXxGVL2b"
      }
    },
    {
      "cell_type": "code",
      "source": [],
      "metadata": {
        "id": "ZKWLbDZTVL8X"
      },
      "execution_count": null,
      "outputs": []
    },
    {
      "cell_type": "markdown",
      "source": [],
      "metadata": {
        "id": "UIiitLFLVMAO"
      }
    },
    {
      "cell_type": "code",
      "source": [],
      "metadata": {
        "id": "wclUnoYUVMH9"
      },
      "execution_count": null,
      "outputs": []
    },
    {
      "cell_type": "markdown",
      "source": [],
      "metadata": {
        "id": "KNo1bwsjVMMh"
      }
    },
    {
      "cell_type": "code",
      "source": [],
      "metadata": {
        "id": "Un0RBqorVMSW"
      },
      "execution_count": null,
      "outputs": []
    },
    {
      "cell_type": "markdown",
      "source": [],
      "metadata": {
        "id": "gW3gVfkLVMZ6"
      }
    },
    {
      "cell_type": "code",
      "source": [],
      "metadata": {
        "id": "fziPdCIoVMfw"
      },
      "execution_count": null,
      "outputs": []
    },
    {
      "cell_type": "markdown",
      "source": [],
      "metadata": {
        "id": "ckP-SEl_VMlv"
      }
    },
    {
      "cell_type": "code",
      "source": [],
      "metadata": {
        "id": "QXjm5Q6KVMtB"
      },
      "execution_count": null,
      "outputs": []
    },
    {
      "cell_type": "markdown",
      "source": [],
      "metadata": {
        "id": "50-wOfnLVMzv"
      }
    },
    {
      "cell_type": "code",
      "source": [],
      "metadata": {
        "id": "bhcPSbAJVM6y"
      },
      "execution_count": null,
      "outputs": []
    },
    {
      "cell_type": "markdown",
      "source": [],
      "metadata": {
        "id": "quxNLpXzVM_O"
      }
    },
    {
      "cell_type": "code",
      "source": [],
      "metadata": {
        "id": "ygADbR2mVNF_"
      },
      "execution_count": null,
      "outputs": []
    },
    {
      "cell_type": "markdown",
      "source": [],
      "metadata": {
        "id": "RW93V60lVNMk"
      }
    },
    {
      "cell_type": "code",
      "source": [],
      "metadata": {
        "id": "EOsz2VDTVNUD"
      },
      "execution_count": null,
      "outputs": []
    },
    {
      "cell_type": "markdown",
      "source": [],
      "metadata": {
        "id": "O2Awi2sUVNaT"
      }
    },
    {
      "cell_type": "code",
      "source": [],
      "metadata": {
        "id": "OTkJOAAbVNgS"
      },
      "execution_count": null,
      "outputs": []
    },
    {
      "cell_type": "markdown",
      "source": [],
      "metadata": {
        "id": "4hrgUsolVNoA"
      }
    },
    {
      "cell_type": "code",
      "source": [],
      "metadata": {
        "id": "hACTTMF3VNvh"
      },
      "execution_count": null,
      "outputs": []
    },
    {
      "cell_type": "markdown",
      "source": [],
      "metadata": {
        "id": "j3KpJsW7VONc"
      }
    },
    {
      "cell_type": "code",
      "source": [],
      "metadata": {
        "id": "XjBtKa5mVOXs"
      },
      "execution_count": null,
      "outputs": []
    },
    {
      "cell_type": "markdown",
      "source": [],
      "metadata": {
        "id": "drrvbaxlVOd0"
      }
    },
    {
      "cell_type": "code",
      "source": [],
      "metadata": {
        "id": "gYa6pJc3VOju"
      },
      "execution_count": null,
      "outputs": []
    }
  ]
}