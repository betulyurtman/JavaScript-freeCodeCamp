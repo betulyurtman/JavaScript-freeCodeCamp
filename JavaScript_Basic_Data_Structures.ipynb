{
  "nbformat": 4,
  "nbformat_minor": 0,
  "metadata": {
    "colab": {
      "provenance": []
    },
    "kernelspec": {
      "name": "python3",
      "display_name": "Python 3"
    },
    "language_info": {
      "name": "python"
    }
  },
  "cells": [
    {
      "cell_type": "markdown",
      "source": [
        "We have defined a variable called yourArray. Complete the statement by assigning an array of at least 5 elements in length to the yourArray variable. Your array should contain at least one string, one number, and one boolean."
      ],
      "metadata": {
        "id": "BslNq3HSVHsN"
      }
    },
    {
      "cell_type": "code",
      "execution_count": null,
      "metadata": {
        "id": "04KxRUWnUsGz"
      },
      "outputs": [],
      "source": [
        "let yourArray = [\"betül\", 23, true, null, 0]; # Change this line"
      ]
    },
    {
      "cell_type": "markdown",
      "source": [
        "In order to complete this challenge, set the 2nd position (index 1) of myArray to anything you want, besides the letter b."
      ],
      "metadata": {
        "id": "MKjidi4pVIf2"
      }
    },
    {
      "cell_type": "code",
      "source": [
        "let myArray = [\"a\", \"b\", \"c\", \"d\"];\n",
        "# Only change code below this line\n",
        "myArray[1] = \"bet\"\n",
        "# Only change code above this line\n",
        "console.log(myArray);"
      ],
      "metadata": {
        "id": "3XQ1_i3fVIkg"
      },
      "execution_count": null,
      "outputs": []
    },
    {
      "cell_type": "markdown",
      "source": [
        "We have defined a function, mixedNumbers, which we are passing an array as an argument. Modify the function by using push() and unshift() to add 'I', 2, 'three' to the beginning of the array and 7, 'VIII', 9 to the end so that the returned array contains representations of the numbers 1-9 in order."
      ],
      "metadata": {
        "id": "vbL9KoIxVIqL"
      }
    },
    {
      "cell_type": "code",
      "source": [
        "function mixedNumbers(arr) {\n",
        "  // Only change code below this line\n",
        "  arr.unshift('I', 2, 'three')\n",
        "  arr.push(7, 'VIII', 9)\n",
        "  // Only change code above this line\n",
        "  return arr;\n",
        "}\n",
        "\n",
        "console.log(mixedNumbers(['IV', 5, 'six']));"
      ],
      "metadata": {
        "id": "qz6nC2oeVIvJ"
      },
      "execution_count": null,
      "outputs": []
    },
    {
      "cell_type": "markdown",
      "source": [
        "We have defined a function, popShift, which takes an array as an argument and returns a new array. Modify the function, using pop() and shift(), to remove the first and last elements of the argument array, and assign the removed elements to their corresponding variables, so that the returned array contains their values."
      ],
      "metadata": {
        "id": "oiDosLLyVIz0"
      }
    },
    {
      "cell_type": "code",
      "source": [
        "function popShift(arr) {\n",
        "  let popped = arr.pop(); // Change this line\n",
        "  let shifted = arr.shift(); // Change this line\n",
        "  return [shifted, popped];\n",
        "}\n",
        "\n",
        "console.log(popShift(['challenge', 'is', 'not', 'complete']));"
      ],
      "metadata": {
        "id": "yUoOiJNPVI6d"
      },
      "execution_count": null,
      "outputs": []
    },
    {
      "cell_type": "markdown",
      "source": [
        "\n",
        "We've initialized an array arr. Use splice() to remove elements from arr, so that it only contains elements that sum to the value of 10."
      ],
      "metadata": {
        "id": "AJVHyirCVI-X"
      }
    },
    {
      "cell_type": "code",
      "source": [
        "const arr = [2, 4, 5, 1, 7, 5, 2, 1];\n",
        "// Only change code below this line\n",
        "arr.splice(1, 4)\n",
        "// Only change code above this line\n",
        "console.log(arr);"
      ],
      "metadata": {
        "id": "7BX7q7Q2VJD1"
      },
      "execution_count": null,
      "outputs": []
    },
    {
      "cell_type": "markdown",
      "source": [
        "We have defined a function, htmlColorNames, which takes an array of HTML colors as an argument. Modify the function using splice() to remove the first two elements of the array and add 'DarkSalmon' and 'BlanchedAlmond' in their respective places."
      ],
      "metadata": {
        "id": "Cyeu6bkEVJH-"
      }
    },
    {
      "cell_type": "code",
      "source": [
        "function htmlColorNames(arr) {\n",
        "  // Only change code below this line\n",
        "  arr.splice(0, 2, 'DarkSalmon', 'BlanchedAlmond')\n",
        "  // Only change code above this line\n",
        "  return arr;\n",
        "}\n",
        "\n",
        "console.log(htmlColorNames(['DarkGoldenRod', 'WhiteSmoke', 'LavenderBlush', 'PaleTurquoise', 'FireBrick']));"
      ],
      "metadata": {
        "id": "tlBx2Rt-VJOG"
      },
      "execution_count": null,
      "outputs": []
    },
    {
      "cell_type": "markdown",
      "source": [
        "We have defined a function, forecast, that takes an array as an argument. Modify the function using slice() to extract information from the argument array and return a new array that contains the string elements warm and sunny."
      ],
      "metadata": {
        "id": "wX-W9UuAVJSK"
      }
    },
    {
      "cell_type": "code",
      "source": [
        "function forecast(arr) {\n",
        "  // Only change code below this line\n",
        "  return arr.slice(2, 4);\n",
        "}\n",
        "\n",
        "// Only change code above this line\n",
        "console.log(forecast(['cold', 'rainy', 'warm', 'sunny', 'cool', 'thunderstorms']));"
      ],
      "metadata": {
        "id": "8VOrGhOxVJX8"
      },
      "execution_count": null,
      "outputs": []
    },
    {
      "cell_type": "markdown",
      "source": [
        "We have defined a function, copyMachine which takes arr (an array) and num (a number) as arguments. The function is supposed to return a new array made up of num copies of arr. We have done most of the work for you, but it doesn't work quite right yet. Modify the function using spread syntax so that it works correctly (hint: another method we have already covered might come in handy here!)."
      ],
      "metadata": {
        "id": "8i2meumxVK9B"
      }
    },
    {
      "cell_type": "code",
      "source": [
        "function copyMachine(arr, num) {\n",
        "  let newArr = [];\n",
        "  while (num >= 1) {\n",
        "    // Only change code below this line\n",
        "    newArr.push([...arr]);\n",
        "    // Only change code above this line\n",
        "    num--;\n",
        "  }\n",
        "  return newArr;\n",
        "}\n",
        "\n",
        "console.log(copyMachine([true, false, true], 2));"
      ],
      "metadata": {
        "id": "nQubmtaeVLIC"
      },
      "execution_count": null,
      "outputs": []
    },
    {
      "cell_type": "markdown",
      "source": [
        "\n",
        "We have defined a function spreadOut that returns the variable sentence. Modify the function using the spread operator so that it returns the array ['learning', 'to', 'code', 'is', 'fun']."
      ],
      "metadata": {
        "id": "3Cblg1oaVLWl"
      }
    },
    {
      "cell_type": "code",
      "source": [
        "function spreadOut() {\n",
        "  let fragment = ['to', 'code'];\n",
        "  let sentence = [\"learning\", ...fragment, \"is\", \"fun\"]; // Change this line\n",
        "  return sentence;\n",
        "}\n",
        "\n",
        "console.log(spreadOut());"
      ],
      "metadata": {
        "id": "T_NYO-hFVLeP"
      },
      "execution_count": null,
      "outputs": []
    },
    {
      "cell_type": "markdown",
      "source": [
        "indexOf() can be incredibly useful for quickly checking for the presence of an element on an array. We have defined a function, quickCheck, that takes an array and an element as arguments. Modify the function using indexOf() so that it returns true if the passed element exists on the array, and false if it does not."
      ],
      "metadata": {
        "id": "pCqNmfgUVLmo"
      }
    },
    {
      "cell_type": "code",
      "source": [
        "function quickCheck(arr, elem) {\n",
        "  // Only change code below this line\n",
        "  if (arr.indexOf(elem) >= 0) {\n",
        "    return true;\n",
        "  }\n",
        "  return false;\n",
        "  // Only change code above this line\n",
        "}\n",
        "\n",
        "console.log(quickCheck(['squash', 'onions', 'shallots'], 'mushrooms'));"
      ],
      "metadata": {
        "id": "3Sw-BQOaVLwN"
      },
      "execution_count": null,
      "outputs": []
    },
    {
      "cell_type": "markdown",
      "source": [
        "We have defined a function, filteredArray, which takes arr, a nested array, and elem as arguments, and returns a new array. elem represents an element that may or may not be present on one or more of the arrays nested within arr. Modify the function, using a for loop, to return a filtered version of the passed array such that any array nested within arr containing elem has been removed."
      ],
      "metadata": {
        "id": "dilbCXxGVL2b"
      }
    },
    {
      "cell_type": "code",
      "source": [
        "function filteredArray(arr, elem) {\n",
        "  let newArr = [];\n",
        "  // Only change code below this line\n",
        "  for ( let i = 0; i < arr.length; i++) {\n",
        "    if (arr[i].indexOf(elem) == -1) {\n",
        "      newArr.push(arr[i]);\n",
        "    }\n",
        "  }\n",
        "  // Only change code above this line\n",
        "  return newArr;\n",
        "}\n",
        "\n",
        "console.log(filteredArray([[3, 2, 3], [1, 6, 3], [3, 13, 26], [19, 3, 9]], 3));"
      ],
      "metadata": {
        "id": "ZKWLbDZTVL8X"
      },
      "execution_count": null,
      "outputs": []
    },
    {
      "cell_type": "markdown",
      "source": [
        "We have defined a variable, myNestedArray, set equal to an array. Modify myNestedArray, using any combination of strings, numbers, and booleans for data elements, so that it has exactly five levels of depth (remember, the outer-most array is level 1). Somewhere on the third level, include the string deep, on the fourth level, include the string deeper, and on the fifth level, include the string deepest.\n",
        "\n"
      ],
      "metadata": {
        "id": "UIiitLFLVMAO"
      }
    },
    {
      "cell_type": "code",
      "source": [
        "let myNestedArray = [\n",
        "  // change code below this line\n",
        "  [\"unshift\", false, 1, 2, 3, \"complex\", \"nested\"],\n",
        "  [\"loop\", \"shift\", 6, 7, 1000, \"method\"],\n",
        "  [\"concat\", false, true, \"spread\", \"array\", [\"deep\"]],\n",
        "  [\"mutate\", 1327.98, \"splice\", \"slice\", \"push\", [[\"deeper\"]]],\n",
        "  [\"iterate\", 1.3849, 7, \"8.4876\", \"arbitrary\", \"depth\", [[[\"deepest\"]]]]\n",
        "  // change code above this line\n",
        "];"
      ],
      "metadata": {
        "id": "wclUnoYUVMH9"
      },
      "execution_count": null,
      "outputs": []
    },
    {
      "cell_type": "markdown",
      "source": [],
      "metadata": {
        "id": "KNo1bwsjVMMh"
      }
    },
    {
      "cell_type": "code",
      "source": [],
      "metadata": {
        "id": "Un0RBqorVMSW"
      },
      "execution_count": null,
      "outputs": []
    },
    {
      "cell_type": "markdown",
      "source": [],
      "metadata": {
        "id": "gW3gVfkLVMZ6"
      }
    },
    {
      "cell_type": "code",
      "source": [],
      "metadata": {
        "id": "fziPdCIoVMfw"
      },
      "execution_count": null,
      "outputs": []
    },
    {
      "cell_type": "markdown",
      "source": [],
      "metadata": {
        "id": "ckP-SEl_VMlv"
      }
    },
    {
      "cell_type": "code",
      "source": [],
      "metadata": {
        "id": "QXjm5Q6KVMtB"
      },
      "execution_count": null,
      "outputs": []
    },
    {
      "cell_type": "markdown",
      "source": [],
      "metadata": {
        "id": "50-wOfnLVMzv"
      }
    },
    {
      "cell_type": "code",
      "source": [],
      "metadata": {
        "id": "bhcPSbAJVM6y"
      },
      "execution_count": null,
      "outputs": []
    },
    {
      "cell_type": "markdown",
      "source": [],
      "metadata": {
        "id": "quxNLpXzVM_O"
      }
    },
    {
      "cell_type": "code",
      "source": [],
      "metadata": {
        "id": "ygADbR2mVNF_"
      },
      "execution_count": null,
      "outputs": []
    },
    {
      "cell_type": "markdown",
      "source": [],
      "metadata": {
        "id": "RW93V60lVNMk"
      }
    },
    {
      "cell_type": "code",
      "source": [],
      "metadata": {
        "id": "EOsz2VDTVNUD"
      },
      "execution_count": null,
      "outputs": []
    },
    {
      "cell_type": "markdown",
      "source": [],
      "metadata": {
        "id": "O2Awi2sUVNaT"
      }
    },
    {
      "cell_type": "code",
      "source": [],
      "metadata": {
        "id": "OTkJOAAbVNgS"
      },
      "execution_count": null,
      "outputs": []
    },
    {
      "cell_type": "markdown",
      "source": [],
      "metadata": {
        "id": "4hrgUsolVNoA"
      }
    },
    {
      "cell_type": "code",
      "source": [],
      "metadata": {
        "id": "hACTTMF3VNvh"
      },
      "execution_count": null,
      "outputs": []
    },
    {
      "cell_type": "markdown",
      "source": [],
      "metadata": {
        "id": "j3KpJsW7VONc"
      }
    },
    {
      "cell_type": "code",
      "source": [],
      "metadata": {
        "id": "XjBtKa5mVOXs"
      },
      "execution_count": null,
      "outputs": []
    },
    {
      "cell_type": "markdown",
      "source": [],
      "metadata": {
        "id": "drrvbaxlVOd0"
      }
    },
    {
      "cell_type": "code",
      "source": [],
      "metadata": {
        "id": "gYa6pJc3VOju"
      },
      "execution_count": null,
      "outputs": []
    }
  ]
}