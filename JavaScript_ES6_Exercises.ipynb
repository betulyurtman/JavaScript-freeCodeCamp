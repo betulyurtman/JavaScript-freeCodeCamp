{
  "nbformat": 4,
  "nbformat_minor": 0,
  "metadata": {
    "colab": {
      "provenance": []
    },
    "kernelspec": {
      "name": "python3",
      "display_name": "Python 3"
    },
    "language_info": {
      "name": "python"
    }
  },
  "cells": [
    {
      "cell_type": "markdown",
      "source": [
        "Fix the code so that i declared in the if statement is a separate variable than i declared in the first line of the function. Be certain not to use the var keyword anywhere in your code.\n",
        "\n",
        "This exercise is designed to illustrate the difference between how var and let keywords assign scope to the declared variable. When programming a function similar to the one used in this exercise, it is often better to use different variable names to avoid confusion."
      ],
      "metadata": {
        "id": "DgNMD4m8avJO"
      }
    },
    {
      "cell_type": "code",
      "execution_count": null,
      "metadata": {
        "id": "c-gVzMRwaYhK"
      },
      "outputs": [],
      "source": [
        "function checkScope() {\n",
        "  let i = 'function scope';\n",
        "  if (true) {\n",
        "    let i = 'block scope';\n",
        "    console.log('Block scope i is: ', i);\n",
        "  }\n",
        "  console.log('Function scope i is: ', i);\n",
        "  return i;\n",
        "}"
      ]
    },
    {
      "cell_type": "markdown",
      "source": [],
      "metadata": {
        "id": "HU0UfobYawDR"
      }
    },
    {
      "cell_type": "code",
      "source": [],
      "metadata": {
        "id": "z9dx9VirawKz"
      },
      "execution_count": null,
      "outputs": []
    },
    {
      "cell_type": "markdown",
      "source": [],
      "metadata": {
        "id": "QZOuLnGNawRD"
      }
    },
    {
      "cell_type": "code",
      "source": [],
      "metadata": {
        "id": "Vr-2AjMCawW2"
      },
      "execution_count": null,
      "outputs": []
    }
  ]
}