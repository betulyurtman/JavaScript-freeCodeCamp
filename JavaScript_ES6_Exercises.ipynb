{
  "nbformat": 4,
  "nbformat_minor": 0,
  "metadata": {
    "colab": {
      "provenance": []
    },
    "kernelspec": {
      "name": "python3",
      "display_name": "Python 3"
    },
    "language_info": {
      "name": "python"
    }
  },
  "cells": [
    {
      "cell_type": "markdown",
      "source": [
        "Fix the code so that i declared in the if statement is a separate variable than i declared in the first line of the function. Be certain not to use the var keyword anywhere in your code.\n",
        "\n",
        "This exercise is designed to illustrate the difference between how var and let keywords assign scope to the declared variable. When programming a function similar to the one used in this exercise, it is often better to use different variable names to avoid confusion."
      ],
      "metadata": {
        "id": "DgNMD4m8avJO"
      }
    },
    {
      "cell_type": "code",
      "execution_count": null,
      "metadata": {
        "id": "c-gVzMRwaYhK"
      },
      "outputs": [],
      "source": [
        "function checkScope() {\n",
        "  let i = 'function scope';\n",
        "  if (true) {\n",
        "    let i = 'block scope';\n",
        "    console.log('Block scope i is: ', i);\n",
        "  }\n",
        "  console.log('Function scope i is: ', i);\n",
        "  return i;\n",
        "}"
      ]
    },
    {
      "cell_type": "markdown",
      "source": [
        "An array is declared as const s = [5, 7, 2]. Change the array to [2, 5, 7] using various element assignments.\n",
        "\n"
      ],
      "metadata": {
        "id": "HU0UfobYawDR"
      }
    },
    {
      "cell_type": "code",
      "source": [
        "const s = [5, 7, 2];\n",
        "function editInPlace() {\n",
        "  // Only change code below this line\n",
        "  s[0] = 2;\n",
        "  s[1] = 5;\n",
        "  s[2] = 7;\n",
        "  // Using s = [2, 5, 7] would be invalid\n",
        "\n",
        "  // Only change code above this line\n",
        "}\n",
        "editInPlace();"
      ],
      "metadata": {
        "id": "z9dx9VirawKz"
      },
      "execution_count": null,
      "outputs": []
    },
    {
      "cell_type": "markdown",
      "source": [
        "In this challenge you are going to use Object.freeze to prevent mathematical constants from changing. You need to freeze the MATH_CONSTANTS object so that no one is able to alter the value of PI, add, or delete properties.\n",
        "\n"
      ],
      "metadata": {
        "id": "QZOuLnGNawRD"
      }
    },
    {
      "cell_type": "code",
      "source": [
        "function freezeObj() {\n",
        "  const MATH_CONSTANTS = {\n",
        "    PI: 3.14\n",
        "  };\n",
        "  // Only change code below this line\n",
        "  Object.freeze(MATH_CONSTANTS)\n",
        "\n",
        "  // Only change code above this line\n",
        "  try {\n",
        "    MATH_CONSTANTS.PI = 99;\n",
        "  } catch(ex) {\n",
        "    console.log(ex);\n",
        "  }\n",
        "  return MATH_CONSTANTS.PI;\n",
        "}\n",
        "const PI = freezeObj();"
      ],
      "metadata": {
        "id": "Vr-2AjMCawW2"
      },
      "execution_count": null,
      "outputs": []
    }
  ]
}