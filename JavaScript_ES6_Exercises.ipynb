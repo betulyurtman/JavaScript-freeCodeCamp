{
  "nbformat": 4,
  "nbformat_minor": 0,
  "metadata": {
    "colab": {
      "provenance": []
    },
    "kernelspec": {
      "name": "python3",
      "display_name": "Python 3"
    },
    "language_info": {
      "name": "python"
    }
  },
  "cells": [
    {
      "cell_type": "markdown",
      "source": [
        "Fix the code so that i declared in the if statement is a separate variable than i declared in the first line of the function. Be certain not to use the var keyword anywhere in your code.\n",
        "\n",
        "This exercise is designed to illustrate the difference between how var and let keywords assign scope to the declared variable. When programming a function similar to the one used in this exercise, it is often better to use different variable names to avoid confusion."
      ],
      "metadata": {
        "id": "DgNMD4m8avJO"
      }
    },
    {
      "cell_type": "code",
      "execution_count": null,
      "metadata": {
        "id": "c-gVzMRwaYhK"
      },
      "outputs": [],
      "source": [
        "function checkScope() {\n",
        "  let i = 'function scope';\n",
        "  if (true) {\n",
        "    let i = 'block scope';\n",
        "    console.log('Block scope i is: ', i);\n",
        "  }\n",
        "  console.log('Function scope i is: ', i);\n",
        "  return i;\n",
        "}"
      ]
    },
    {
      "cell_type": "markdown",
      "source": [
        "An array is declared as const s = [5, 7, 2]. Change the array to [2, 5, 7] using various element assignments.\n",
        "\n"
      ],
      "metadata": {
        "id": "HU0UfobYawDR"
      }
    },
    {
      "cell_type": "code",
      "source": [
        "const s = [5, 7, 2];\n",
        "function editInPlace() {\n",
        "  // Only change code below this line\n",
        "  s[0] = 2;\n",
        "  s[1] = 5;\n",
        "  s[2] = 7;\n",
        "  // Using s = [2, 5, 7] would be invalid\n",
        "\n",
        "  // Only change code above this line\n",
        "}\n",
        "editInPlace();"
      ],
      "metadata": {
        "id": "z9dx9VirawKz"
      },
      "execution_count": null,
      "outputs": []
    },
    {
      "cell_type": "markdown",
      "source": [
        "In this challenge you are going to use Object.freeze to prevent mathematical constants from changing. You need to freeze the MATH_CONSTANTS object so that no one is able to alter the value of PI, add, or delete properties.\n",
        "\n"
      ],
      "metadata": {
        "id": "QZOuLnGNawRD"
      }
    },
    {
      "cell_type": "code",
      "source": [
        "function freezeObj() {\n",
        "  const MATH_CONSTANTS = {\n",
        "    PI: 3.14\n",
        "  };\n",
        "  // Only change code below this line\n",
        "  Object.freeze(MATH_CONSTANTS)\n",
        "\n",
        "  // Only change code above this line\n",
        "  try {\n",
        "    MATH_CONSTANTS.PI = 99;\n",
        "  } catch(ex) {\n",
        "    console.log(ex);\n",
        "  }\n",
        "  return MATH_CONSTANTS.PI;\n",
        "}\n",
        "const PI = freezeObj();"
      ],
      "metadata": {
        "id": "Vr-2AjMCawW2"
      },
      "execution_count": null,
      "outputs": []
    },
    {
      "cell_type": "markdown",
      "source": [
        "Rewrite the function assigned to the variable magic which returns a new Date() to use arrow function syntax. Also, make sure nothing is defined using the keyword var."
      ],
      "metadata": {
        "id": "44Ood0L9n7gx"
      }
    },
    {
      "cell_type": "code",
      "source": [
        "const magic = () => new Date();"
      ],
      "metadata": {
        "id": "wuF29vFzn7qq"
      },
      "execution_count": null,
      "outputs": []
    },
    {
      "cell_type": "markdown",
      "source": [
        "Rewrite the myConcat function which appends contents of arr2 to arr1 so that the function uses arrow function syntax.\n",
        "\n"
      ],
      "metadata": {
        "id": "GmCPTulNn7wd"
      }
    },
    {
      "cell_type": "code",
      "source": [
        "const myConcat = (arr1, arr2) => arr1.concat(arr2);\n",
        "\n",
        "console.log(myConcat([1, 2], [3, 4, 5]));"
      ],
      "metadata": {
        "id": "JGjMYGAbn73G"
      },
      "execution_count": null,
      "outputs": []
    },
    {
      "cell_type": "markdown",
      "source": [
        "Modify the function increment by adding default parameters so that it will add 1 to number if value is not specified.\n",
        "\n"
      ],
      "metadata": {
        "id": "NvWbWAw3n78F"
      }
    },
    {
      "cell_type": "code",
      "source": [
        "// Only change code below this line\n",
        "const increment = (number,value = 1) => number + value;\n",
        "// Only change code above this line"
      ],
      "metadata": {
        "id": "XBK_QSqVn8Az"
      },
      "execution_count": null,
      "outputs": []
    },
    {
      "cell_type": "markdown",
      "source": [
        "Modify the function sum using the rest parameter in such a way that the function sum is able to take any number of arguments and return their sum.\n",
        "\n"
      ],
      "metadata": {
        "id": "II0VAOBwn8F_"
      }
    },
    {
      "cell_type": "code",
      "source": [
        "const sum = (...args) => {\n",
        "  let total = 0;\n",
        "  for (let i = 0; i < args.length; i++) {\n",
        "    total += args[i];\n",
        "  }\n",
        "  return total;\n",
        "}"
      ],
      "metadata": {
        "id": "Vsqrtx5Jn8L7"
      },
      "execution_count": null,
      "outputs": []
    },
    {
      "cell_type": "markdown",
      "source": [
        "Copy all contents of arr1 into another array arr2 using the spread operator.\n",
        "\n"
      ],
      "metadata": {
        "id": "UKdaMXBODOCT"
      }
    },
    {
      "cell_type": "code",
      "source": [
        "const arr1 = ['JAN', 'FEB', 'MAR', 'APR', 'MAY'];\n",
        "let arr2;\n",
        "\n",
        "arr2 = [...arr1];  // Change this line\n",
        "\n",
        "console.log(arr2);"
      ],
      "metadata": {
        "id": "jxugbcZpDPBf"
      },
      "execution_count": null,
      "outputs": []
    },
    {
      "cell_type": "markdown",
      "source": [
        "Replace the two assignments with an equivalent destructuring assignment. It should still assign the variables today and tomorrow the values of today and tomorrow from the HIGH_TEMPERATURES object.\n",
        "\n"
      ],
      "metadata": {
        "id": "kwzzffztDPIM"
      }
    },
    {
      "cell_type": "code",
      "source": [
        "const HIGH_TEMPERATURES = {\n",
        "  yesterday: 75,\n",
        "  today: 77,\n",
        "  tomorrow: 80\n",
        "};\n",
        "// Only change code below this line\n",
        "const {today,tomorrow} = HIGH_TEMPERATURES;\n",
        "// Only change code above this line"
      ],
      "metadata": {
        "id": "GY1TcT41DPQl"
      },
      "execution_count": null,
      "outputs": []
    },
    {
      "cell_type": "markdown",
      "source": [
        "Replace the two assignments with an equivalent destructuring assignment. It should still assign the variables highToday and highTomorrow the values of today and tomorrow from the HIGH_TEMPERATURES object."
      ],
      "metadata": {
        "id": "ibHqgOaODPVy"
      }
    },
    {
      "cell_type": "code",
      "source": [
        "const HIGH_TEMPERATURES = {\n",
        "  yesterday: 75,\n",
        "  today: 77,\n",
        "  tomorrow: 80\n",
        "};\n",
        "// Only change code below this line\n",
        "const { today: highToday, tomorrow: highTomorrow} = HIGH_TEMPERATURES;\n",
        "// Only change code above this line"
      ],
      "metadata": {
        "id": "_IduwepmDPdd"
      },
      "execution_count": null,
      "outputs": []
    },
    {
      "cell_type": "markdown",
      "source": [],
      "metadata": {
        "id": "rZrBmdGPDPis"
      }
    },
    {
      "cell_type": "code",
      "source": [],
      "metadata": {
        "id": "0SGxfMllDPpU"
      },
      "execution_count": null,
      "outputs": []
    },
    {
      "cell_type": "markdown",
      "source": [],
      "metadata": {
        "id": "0vQIB-CzDPu-"
      }
    },
    {
      "cell_type": "code",
      "source": [],
      "metadata": {
        "id": "1iXt4iQkDP1s"
      },
      "execution_count": null,
      "outputs": []
    },
    {
      "cell_type": "markdown",
      "source": [],
      "metadata": {
        "id": "j0uILiI9DP7F"
      }
    },
    {
      "cell_type": "code",
      "source": [],
      "metadata": {
        "id": "m_6mpdDHDQC4"
      },
      "execution_count": null,
      "outputs": []
    },
    {
      "cell_type": "markdown",
      "source": [],
      "metadata": {
        "id": "OY5q9hIdDQHZ"
      }
    },
    {
      "cell_type": "code",
      "source": [],
      "metadata": {
        "id": "3Y_h7iAPDQO3"
      },
      "execution_count": null,
      "outputs": []
    },
    {
      "cell_type": "markdown",
      "source": [],
      "metadata": {
        "id": "1a3nU3afDQVL"
      }
    },
    {
      "cell_type": "code",
      "source": [],
      "metadata": {
        "id": "2Hp29JkIDQav"
      },
      "execution_count": null,
      "outputs": []
    },
    {
      "cell_type": "markdown",
      "source": [],
      "metadata": {
        "id": "zNoLDfSZDQf3"
      }
    },
    {
      "cell_type": "code",
      "source": [],
      "metadata": {
        "id": "qC-mvkoiDQmu"
      },
      "execution_count": null,
      "outputs": []
    },
    {
      "cell_type": "markdown",
      "source": [],
      "metadata": {
        "id": "A_UgTyjSDQrr"
      }
    },
    {
      "cell_type": "code",
      "source": [],
      "metadata": {
        "id": "OxXWZ6vNDQwY"
      },
      "execution_count": null,
      "outputs": []
    },
    {
      "cell_type": "markdown",
      "source": [],
      "metadata": {
        "id": "j6u-qb85DQ1t"
      }
    },
    {
      "cell_type": "code",
      "source": [],
      "metadata": {
        "id": "n6XW1yhnDQ69"
      },
      "execution_count": null,
      "outputs": []
    },
    {
      "cell_type": "markdown",
      "source": [],
      "metadata": {
        "id": "KfANASOIDRAS"
      }
    },
    {
      "cell_type": "code",
      "source": [],
      "metadata": {
        "id": "fY1NykBsDRG0"
      },
      "execution_count": null,
      "outputs": []
    }
  ]
}