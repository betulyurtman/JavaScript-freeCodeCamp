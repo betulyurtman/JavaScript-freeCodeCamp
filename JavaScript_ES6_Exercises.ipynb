{
  "nbformat": 4,
  "nbformat_minor": 0,
  "metadata": {
    "colab": {
      "provenance": []
    },
    "kernelspec": {
      "name": "python3",
      "display_name": "Python 3"
    },
    "language_info": {
      "name": "python"
    }
  },
  "cells": [
    {
      "cell_type": "markdown",
      "source": [
        "Fix the code so that i declared in the if statement is a separate variable than i declared in the first line of the function. Be certain not to use the var keyword anywhere in your code.\n",
        "\n",
        "This exercise is designed to illustrate the difference between how var and let keywords assign scope to the declared variable. When programming a function similar to the one used in this exercise, it is often better to use different variable names to avoid confusion."
      ],
      "metadata": {
        "id": "DgNMD4m8avJO"
      }
    },
    {
      "cell_type": "code",
      "execution_count": null,
      "metadata": {
        "id": "c-gVzMRwaYhK"
      },
      "outputs": [],
      "source": [
        "function checkScope() {\n",
        "  let i = 'function scope';\n",
        "  if (true) {\n",
        "    let i = 'block scope';\n",
        "    console.log('Block scope i is: ', i);\n",
        "  }\n",
        "  console.log('Function scope i is: ', i);\n",
        "  return i;\n",
        "}"
      ]
    },
    {
      "cell_type": "markdown",
      "source": [
        "An array is declared as const s = [5, 7, 2]. Change the array to [2, 5, 7] using various element assignments.\n",
        "\n"
      ],
      "metadata": {
        "id": "HU0UfobYawDR"
      }
    },
    {
      "cell_type": "code",
      "source": [
        "const s = [5, 7, 2];\n",
        "function editInPlace() {\n",
        "  // Only change code below this line\n",
        "  s[0] = 2;\n",
        "  s[1] = 5;\n",
        "  s[2] = 7;\n",
        "  // Using s = [2, 5, 7] would be invalid\n",
        "\n",
        "  // Only change code above this line\n",
        "}\n",
        "editInPlace();"
      ],
      "metadata": {
        "id": "z9dx9VirawKz"
      },
      "execution_count": null,
      "outputs": []
    },
    {
      "cell_type": "markdown",
      "source": [
        "In this challenge you are going to use Object.freeze to prevent mathematical constants from changing. You need to freeze the MATH_CONSTANTS object so that no one is able to alter the value of PI, add, or delete properties.\n",
        "\n"
      ],
      "metadata": {
        "id": "QZOuLnGNawRD"
      }
    },
    {
      "cell_type": "code",
      "source": [
        "function freezeObj() {\n",
        "  const MATH_CONSTANTS = {\n",
        "    PI: 3.14\n",
        "  };\n",
        "  // Only change code below this line\n",
        "  Object.freeze(MATH_CONSTANTS)\n",
        "\n",
        "  // Only change code above this line\n",
        "  try {\n",
        "    MATH_CONSTANTS.PI = 99;\n",
        "  } catch(ex) {\n",
        "    console.log(ex);\n",
        "  }\n",
        "  return MATH_CONSTANTS.PI;\n",
        "}\n",
        "const PI = freezeObj();"
      ],
      "metadata": {
        "id": "Vr-2AjMCawW2"
      },
      "execution_count": null,
      "outputs": []
    },
    {
      "cell_type": "markdown",
      "source": [
        "Rewrite the function assigned to the variable magic which returns a new Date() to use arrow function syntax. Also, make sure nothing is defined using the keyword var."
      ],
      "metadata": {
        "id": "44Ood0L9n7gx"
      }
    },
    {
      "cell_type": "code",
      "source": [
        "const magic = () => new Date();"
      ],
      "metadata": {
        "id": "wuF29vFzn7qq"
      },
      "execution_count": null,
      "outputs": []
    },
    {
      "cell_type": "markdown",
      "source": [
        "Rewrite the myConcat function which appends contents of arr2 to arr1 so that the function uses arrow function syntax.\n",
        "\n"
      ],
      "metadata": {
        "id": "GmCPTulNn7wd"
      }
    },
    {
      "cell_type": "code",
      "source": [
        "const myConcat = (arr1, arr2) => arr1.concat(arr2);\n",
        "\n",
        "console.log(myConcat([1, 2], [3, 4, 5]));"
      ],
      "metadata": {
        "id": "JGjMYGAbn73G"
      },
      "execution_count": null,
      "outputs": []
    },
    {
      "cell_type": "markdown",
      "source": [
        "Modify the function increment by adding default parameters so that it will add 1 to number if value is not specified.\n",
        "\n"
      ],
      "metadata": {
        "id": "NvWbWAw3n78F"
      }
    },
    {
      "cell_type": "code",
      "source": [
        "// Only change code below this line\n",
        "const increment = (number,value = 1) => number + value;\n",
        "// Only change code above this line"
      ],
      "metadata": {
        "id": "XBK_QSqVn8Az"
      },
      "execution_count": null,
      "outputs": []
    },
    {
      "cell_type": "markdown",
      "source": [
        "Modify the function sum using the rest parameter in such a way that the function sum is able to take any number of arguments and return their sum.\n",
        "\n"
      ],
      "metadata": {
        "id": "II0VAOBwn8F_"
      }
    },
    {
      "cell_type": "code",
      "source": [
        "const sum = (...args) => {\n",
        "  let total = 0;\n",
        "  for (let i = 0; i < args.length; i++) {\n",
        "    total += args[i];\n",
        "  }\n",
        "  return total;\n",
        "}"
      ],
      "metadata": {
        "id": "Vsqrtx5Jn8L7"
      },
      "execution_count": null,
      "outputs": []
    },
    {
      "cell_type": "markdown",
      "source": [
        "Copy all contents of arr1 into another array arr2 using the spread operator.\n",
        "\n"
      ],
      "metadata": {
        "id": "UKdaMXBODOCT"
      }
    },
    {
      "cell_type": "code",
      "source": [
        "const arr1 = ['JAN', 'FEB', 'MAR', 'APR', 'MAY'];\n",
        "let arr2;\n",
        "\n",
        "arr2 = [...arr1];  // Change this line\n",
        "\n",
        "console.log(arr2);"
      ],
      "metadata": {
        "id": "jxugbcZpDPBf"
      },
      "execution_count": null,
      "outputs": []
    },
    {
      "cell_type": "markdown",
      "source": [
        "Replace the two assignments with an equivalent destructuring assignment. It should still assign the variables today and tomorrow the values of today and tomorrow from the HIGH_TEMPERATURES object.\n",
        "\n"
      ],
      "metadata": {
        "id": "kwzzffztDPIM"
      }
    },
    {
      "cell_type": "code",
      "source": [
        "const HIGH_TEMPERATURES = {\n",
        "  yesterday: 75,\n",
        "  today: 77,\n",
        "  tomorrow: 80\n",
        "};\n",
        "// Only change code below this line\n",
        "const {today,tomorrow} = HIGH_TEMPERATURES;\n",
        "// Only change code above this line"
      ],
      "metadata": {
        "id": "GY1TcT41DPQl"
      },
      "execution_count": null,
      "outputs": []
    },
    {
      "cell_type": "markdown",
      "source": [
        "Replace the two assignments with an equivalent destructuring assignment. It should still assign the variables highToday and highTomorrow the values of today and tomorrow from the HIGH_TEMPERATURES object."
      ],
      "metadata": {
        "id": "ibHqgOaODPVy"
      }
    },
    {
      "cell_type": "code",
      "source": [
        "const HIGH_TEMPERATURES = {\n",
        "  yesterday: 75,\n",
        "  today: 77,\n",
        "  tomorrow: 80\n",
        "};\n",
        "// Only change code below this line\n",
        "const { today: highToday, tomorrow: highTomorrow} = HIGH_TEMPERATURES;\n",
        "// Only change code above this line"
      ],
      "metadata": {
        "id": "_IduwepmDPdd"
      },
      "execution_count": null,
      "outputs": []
    },
    {
      "cell_type": "markdown",
      "source": [
        "Replace the two assignments with an equivalent destructuring assignment. It should still assign the variables lowToday and highToday the values of today.low and today.high from the LOCAL_FORECAST object.\n",
        "\n"
      ],
      "metadata": {
        "id": "rZrBmdGPDPis"
      }
    },
    {
      "cell_type": "code",
      "source": [
        "const LOCAL_FORECAST = {\n",
        "  yesterday: { low: 61, high: 75 },\n",
        "  today: { low: 64, high: 77 },\n",
        "  tomorrow: { low: 68, high: 80 }\n",
        "};\n",
        "\n",
        "// Only change code below this line\n",
        "const {today: {low: lowToday, high: highToday}} = LOCAL_FORECAST;\n",
        "// Only change code above this line"
      ],
      "metadata": {
        "id": "0SGxfMllDPpU"
      },
      "execution_count": null,
      "outputs": []
    },
    {
      "cell_type": "markdown",
      "source": [
        "Use destructuring assignment to swap the values of a and b so that a receives the value stored in b, and b receives the value stored in a."
      ],
      "metadata": {
        "id": "0vQIB-CzDPu-"
      }
    },
    {
      "cell_type": "code",
      "source": [
        "let a = 8, b = 6;\n",
        "// Only change code below this line\n",
        "[a, b] = [b, a];"
      ],
      "metadata": {
        "id": "1iXt4iQkDP1s"
      },
      "execution_count": null,
      "outputs": []
    },
    {
      "cell_type": "markdown",
      "source": [
        "Use a destructuring assignment with the rest syntax to emulate the behavior of Array.prototype.slice(). removeFirstTwo() should return a sub-array of the original array list with the first two elements omitted."
      ],
      "metadata": {
        "id": "j0uILiI9DP7F"
      }
    },
    {
      "cell_type": "code",
      "source": [
        "function removeFirstTwo(list) {\n",
        "  // Only change code below this line\n",
        "  const [a, b, ...shorterList] = list; // Change this line\n",
        "  // Only change code above this line\n",
        "  return shorterList;\n",
        "}\n",
        "\n",
        "const source = [1, 2, 3, 4, 5, 6, 7, 8, 9, 10];\n",
        "const sourceWithoutFirstTwo = removeFirstTwo(source);"
      ],
      "metadata": {
        "id": "m_6mpdDHDQC4"
      },
      "execution_count": null,
      "outputs": []
    },
    {
      "cell_type": "markdown",
      "source": [
        "Use destructuring assignment within the argument to the function half to send only max and min inside the function."
      ],
      "metadata": {
        "id": "OY5q9hIdDQHZ"
      }
    },
    {
      "cell_type": "code",
      "source": [
        "const stats = {\n",
        "  max: 56.78,\n",
        "  standard_deviation: 4.34,\n",
        "  median: 34.54,\n",
        "  mode: 23.87,\n",
        "  min: -0.75,\n",
        "  average: 35.85\n",
        "};\n",
        "\n",
        "// Only change code below this line\n",
        "const half = ({ max, min }) => (max + min) / 2.0;\n",
        "// Only change code above this line ??????"
      ],
      "metadata": {
        "id": "3Y_h7iAPDQO3"
      },
      "execution_count": null,
      "outputs": []
    },
    {
      "cell_type": "markdown",
      "source": [
        "Use template literal syntax with backticks to create an array of list element (li) strings. Each list element's text should be one of the array elements from the failure property on the result object and have a class attribute with the value text-warning. The makeList function should return the array of list item strings.\n",
        "\n",
        "Use an iterator method (any kind of loop) to get the desired output (shown below).\n",
        "\n",
        "\n",
        "\n",
        "```\n",
        "[\n",
        "  '<li class=\"text-warning\">no-var</li>',\n",
        "  '<li class=\"text-warning\">var-on-top</li>',\n",
        "  '<li class=\"text-warning\">linebreak</li>'\n",
        "]\n",
        "```\n",
        "\n",
        "\n",
        "\n",
        "\n",
        "\n"
      ],
      "metadata": {
        "id": "1a3nU3afDQVL"
      }
    },
    {
      "cell_type": "code",
      "source": [
        "const result = {\n",
        "  success: [\"max-length\", \"no-amd\", \"prefer-arrow-functions\"],\n",
        "  failure: [\"no-var\", \"var-on-top\", \"linebreak\"],\n",
        "  skipped: [\"no-extra-semi\", \"no-dup-keys\"]\n",
        "};\n",
        "function makeList(arr) {\n",
        "  // Only change code below this line\n",
        "  const failureItems = [];\n",
        "    for (let i = 0; i < arr.length; i++) {\n",
        "      failureItems.push(`<li class=\"text-warning\">${arr[i]}</li>`);\n",
        "  }\n",
        "  // Only change code above this line\n",
        "\n",
        "  return failureItems;\n",
        "}\n",
        "\n",
        "const failuresList = makeList(result.failure);"
      ],
      "metadata": {
        "id": "2Hp29JkIDQav"
      },
      "execution_count": null,
      "outputs": []
    },
    {
      "cell_type": "markdown",
      "source": [
        "Use object property shorthand with object literals to create and return an object with name, age and gender properties."
      ],
      "metadata": {
        "id": "zNoLDfSZDQf3"
      }
    },
    {
      "cell_type": "code",
      "source": [
        "const createPerson = (name, age, gender) => {\n",
        "  // Only change code below this line\n",
        "  return {\n",
        "    name,\n",
        "    age,\n",
        "    gender\n",
        "  };\n",
        "  // Only change code above this line\n",
        "};"
      ],
      "metadata": {
        "id": "qC-mvkoiDQmu"
      },
      "execution_count": null,
      "outputs": []
    },
    {
      "cell_type": "markdown",
      "source": [
        "Refactor the function setGear inside the object bicycle to use the shorthand syntax described above."
      ],
      "metadata": {
        "id": "A_UgTyjSDQrr"
      }
    },
    {
      "cell_type": "code",
      "source": [
        "// Only change code below this line\n",
        "const bicycle = {\n",
        "  gear: 2,\n",
        "  setGear(newGear) {\n",
        "    this.gear = newGear;\n",
        "  }\n",
        "};\n",
        "// Only change code above this line\n",
        "bicycle.setGear(3);\n",
        "console.log(bicycle.gear);"
      ],
      "metadata": {
        "id": "OxXWZ6vNDQwY"
      },
      "execution_count": null,
      "outputs": []
    },
    {
      "cell_type": "markdown",
      "source": [
        "Use the class keyword and write a constructor to create the Vegetable class.\n",
        "\n",
        "The Vegetable class allows you to create a vegetable object with a property name that gets passed to the constructor.\n",
        "\n"
      ],
      "metadata": {
        "id": "j6u-qb85DQ1t"
      }
    },
    {
      "cell_type": "code",
      "source": [
        "// Only change code below this line\n",
        "class Vegetable {\n",
        "  constructor(name) {\n",
        "    this.name = name;\n",
        "  }\n",
        "}\n",
        "// Only change code above this line\n",
        "\n",
        "const carrot = new Vegetable('carrot');\n",
        "console.log(carrot.name); // Should display 'carrot'"
      ],
      "metadata": {
        "id": "n6XW1yhnDQ69"
      },
      "execution_count": null,
      "outputs": []
    },
    {
      "cell_type": "markdown",
      "source": [],
      "metadata": {
        "id": "KfANASOIDRAS"
      }
    },
    {
      "cell_type": "code",
      "source": [],
      "metadata": {
        "id": "fY1NykBsDRG0"
      },
      "execution_count": null,
      "outputs": []
    }
  ]
}