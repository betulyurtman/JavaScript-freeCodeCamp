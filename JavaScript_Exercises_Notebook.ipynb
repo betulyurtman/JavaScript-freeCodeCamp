{
  "nbformat": 4,
  "nbformat_minor": 0,
  "metadata": {
    "colab": {
      "provenance": []
    },
    "kernelspec": {
      "name": "python3",
      "display_name": "Python 3"
    },
    "language_info": {
      "name": "python"
    }
  },
  "cells": [
    {
      "cell_type": "markdown",
      "source": [
        "Create a function timesFive that accepts one argument, multiplies it by 5, and returns the new value."
      ],
      "metadata": {
        "id": "TvoRkePnvaTL"
      }
    },
    {
      "cell_type": "code",
      "source": [
        "function timesFive(num) {\n",
        "  return num * 5;\n",
        "}\n",
        "\n",
        "timesFive(5);"
      ],
      "metadata": {
        "id": "MVVtT4P7vexW"
      },
      "execution_count": null,
      "outputs": []
    },
    {
      "cell_type": "markdown",
      "source": [
        "Using let or const, declare a global variable named myGlobal outside of any function. Initialize it with a value of 10.\n",
        "\n",
        "Inside function fun1, assign 5 to oopsGlobal without using the var, let or const keywords."
      ],
      "metadata": {
        "id": "oOjkU1xgvzKf"
      }
    },
    {
      "cell_type": "code",
      "source": [
        "// Declare the myGlobal variable below this line\n",
        "const myGlobal = 10;\n",
        "\n",
        "function fun1() {\n",
        "  // Assign 5 to oopsGlobal here\n",
        "oopsGlobal = 5\n",
        "}\n",
        "\n",
        "// Only change code above this line\n",
        "\n",
        "function fun2() {\n",
        "  let output = \"\";\n",
        "  if (typeof myGlobal != \"undefined\") {\n",
        "    output += \"myGlobal: \" + myGlobal;\n",
        "  }\n",
        "  if (typeof oopsGlobal != \"undefined\") {\n",
        "    output += \" oopsGlobal: \" + oopsGlobal;\n",
        "  }\n",
        "  console.log(output);\n",
        "}"
      ],
      "metadata": {
        "id": "FBhhTZf6yTc4"
      },
      "execution_count": null,
      "outputs": []
    },
    {
      "cell_type": "markdown",
      "source": [
        "The editor has two console.logs to help you see what is happening. Check the console as you code to see how it changes. Declare a local variable myVar inside myLocalScope and run the tests.\n",
        "\n",
        "Note: The console will still display ReferenceError: myVar is not defined, but this will not cause the tests to fail."
      ],
      "metadata": {
        "id": "np5AQhvnyWdX"
      }
    },
    {
      "cell_type": "code",
      "source": [
        "function myLocalScope() {\n",
        "  // Only change code below this line\n",
        "  const myVar = \"a\";\n",
        "  console.log('inside myLocalScope', myVar);\n",
        "}\n",
        "myLocalScope();\n",
        "\n",
        "// Run and check the console\n",
        "// myVar is not defined outside of myLocalScope\n",
        "console.log('outside myLocalScope', myVar);"
      ],
      "metadata": {
        "id": "z5rgevwLzKbH"
      },
      "execution_count": null,
      "outputs": []
    },
    {
      "cell_type": "markdown",
      "source": [
        "Add a local variable to myOutfit function to override the value of outerWear with the string sweater."
      ],
      "metadata": {
        "id": "W99Zmo4XzdGb"
      }
    },
    {
      "cell_type": "code",
      "source": [
        "// Setup\n",
        "const outerWear = \"T-Shirt\";\n",
        "\n",
        "function myOutfit() {\n",
        "  // Only change code below this line\n",
        "  const outerWear = \"sweater\";\n",
        "  // Only change code above this line\n",
        "  return outerWear;\n",
        "}\n",
        "myOutfit();"
      ],
      "metadata": {
        "id": "FHRtnFAZzogw"
      },
      "execution_count": null,
      "outputs": []
    },
    {
      "cell_type": "markdown",
      "source": [
        "Create a function addFive without any arguments. This function adds 5 to the sum variable, but its returned value is undefined."
      ],
      "metadata": {
        "id": "QtjN8iew0Ooj"
      }
    },
    {
      "cell_type": "code",
      "source": [
        "// Setup\n",
        "let sum = 0;\n",
        "\n",
        "function addThree() {\n",
        "  sum = sum + 3;\n",
        "}\n",
        "\n",
        "// Only change code below this line\n",
        "function addFive() {\n",
        "  sum = sum + 5;\n",
        "}\n",
        "\n",
        "// Only change code above this line\n",
        "\n",
        "addThree();\n",
        "addFive();"
      ],
      "metadata": {
        "id": "RMTz9WXs0oAu"
      },
      "execution_count": null,
      "outputs": []
    },
    {
      "cell_type": "markdown",
      "source": [
        "Call the processArg function with an argument of 7 and assign its return value to the variable processed."
      ],
      "metadata": {
        "id": "XaXPuO9f0saN"
      }
    },
    {
      "cell_type": "code",
      "source": [
        "// Setup\n",
        "let processed = 0;\n",
        "\n",
        "function processArg(num) {\n",
        "  return (num + 3) / 5;\n",
        "}\n",
        "\n",
        "// Only change code below this line\n",
        "processed = processArg(7);"
      ],
      "metadata": {
        "id": "9KiYX5au9CjR"
      },
      "execution_count": null,
      "outputs": []
    },
    {
      "cell_type": "markdown",
      "source": [
        "Write a function nextInLine which takes an array (arr) and a number (item) as arguments.\n",
        "\n",
        "Add the number to the end of the array, then remove the first element of the array.\n",
        "\n",
        "The nextInLine function should then return the element that was removed.\n",
        "\n"
      ],
      "metadata": {
        "id": "9rw4Txkg9Pel"
      }
    },
    {
      "cell_type": "code",
      "source": [
        "function nextInLine(arr, item) {\n",
        "  // Only change code below this line\n",
        "  arr.push(item); \n",
        "  return arr.shift();\n",
        "  // Only change code above this line\n",
        "}\n",
        "\n",
        "// Setup\n",
        "let testArr = [1, 2, 3, 4, 5];\n",
        "\n",
        "// Display code\n",
        "console.log(\"Before: \" + JSON.stringify(testArr));\n",
        "console.log(nextInLine(testArr, 6));\n",
        "console.log(\"After: \" + JSON.stringify(testArr));"
      ],
      "metadata": {
        "id": "tUBHEUO1AY5K"
      },
      "execution_count": null,
      "outputs": []
    },
    {
      "cell_type": "markdown",
      "source": [
        "Create an if statement inside the function to return Yes, that was true if the parameter wasThatTrue is true and return No, that was false otherwise."
      ],
      "metadata": {
        "id": "1kjtYrx7Bocd"
      }
    },
    {
      "cell_type": "code",
      "source": [
        "function trueOrFalse(wasThatTrue) {\n",
        "  // Only change code below this line\n",
        "  if (wasThatTrue) {\n",
        "    return \"Yes, that was true\";\n",
        "  }\n",
        "  return \"No, that was false\";\n",
        "\n",
        "  // Only change code above this line\n",
        "}\n",
        "\n",
        "trueOrFalse(true);\n",
        "trueOrFalse(false);"
      ],
      "metadata": {
        "id": "ZYMbADfqCpXW"
      },
      "execution_count": null,
      "outputs": []
    },
    {
      "cell_type": "markdown",
      "source": [
        "Add the equality operator to the indicated line so that the function will return the string Equal when val is equivalent to 12."
      ],
      "metadata": {
        "id": "AeqwXTkrDcfe"
      }
    },
    {
      "cell_type": "code",
      "source": [
        "// Setup\n",
        "function testEqual(val) {\n",
        "  if (val == 12) { // Change this line\n",
        "    return \"Equal\";\n",
        "  }\n",
        "  return \"Not Equal\";\n",
        "}\n",
        "\n",
        "testEqual(10);"
      ],
      "metadata": {
        "id": "Uz2ylVEjGG4s"
      },
      "execution_count": null,
      "outputs": []
    },
    {
      "cell_type": "markdown",
      "source": [
        "\n",
        "Use the strict equality operator in the if statement so the function will return the string Equal when val is strictly equal to 7."
      ],
      "metadata": {
        "id": "bu-1SwflGRXi"
      }
    },
    {
      "cell_type": "code",
      "source": [
        "// Setup\n",
        "function testStrict(val) {\n",
        "  if (val === 7) { // Change this line\n",
        "    return \"Equal\";\n",
        "  }\n",
        "  return \"Not Equal\";\n",
        "}\n",
        "\n",
        "testStrict(10);"
      ],
      "metadata": {
        "id": "d0XY4eupGZ6p"
      },
      "execution_count": null,
      "outputs": []
    },
    {
      "cell_type": "markdown",
      "source": [
        "Add the inequality operator != in the if statement so that the function will return the string Not Equal when val is not equivalent to 99."
      ],
      "metadata": {
        "id": "gfnhbpIjGbo6"
      }
    },
    {
      "cell_type": "code",
      "source": [
        "// Setup\n",
        "function testNotEqual(val) {\n",
        "  if (val != 99) { // Change this line\n",
        "    return \"Not Equal\";\n",
        "  }\n",
        "  return \"Equal\";\n",
        "}\n",
        "\n",
        "testNotEqual(10);"
      ],
      "metadata": {
        "id": "124_NTnMGlKX"
      },
      "execution_count": null,
      "outputs": []
    },
    {
      "cell_type": "markdown",
      "source": [
        "Add the greater than operator to the indicated lines so that the return statements make sense."
      ],
      "metadata": {
        "id": "t1KXENl6G_i-"
      }
    },
    {
      "cell_type": "code",
      "source": [
        "function testGreaterThan(val) {\n",
        "  if (val > 100) {  // Change this line\n",
        "    return \"Over 100\";\n",
        "  }\n",
        "\n",
        "  if (val > 10) {  // Change this line\n",
        "    return \"Over 10\";\n",
        "  }\n",
        "\n",
        "  return \"10 or Under\";\n",
        "}\n",
        "\n",
        "testGreaterThan(10);"
      ],
      "metadata": {
        "id": "27Q7odKQIE5z"
      },
      "execution_count": null,
      "outputs": []
    },
    {
      "cell_type": "markdown",
      "source": [
        "Add the greater than or equal to operator to the indicated lines so that the return statements make sense."
      ],
      "metadata": {
        "id": "nBDW2-hjIIgu"
      }
    },
    {
      "cell_type": "code",
      "source": [
        "function testGreaterOrEqual(val) {\n",
        "  if (val >= 20) {  // Change this line\n",
        "    return \"20 or Over\";\n",
        "  }\n",
        "\n",
        "  if (val >= 10) {  // Change this line\n",
        "    return \"10 or Over\";\n",
        "  }\n",
        "\n",
        "  return \"Less than 10\";\n",
        "}\n",
        "\n",
        "testGreaterOrEqual(10);"
      ],
      "metadata": {
        "id": "qElFhLeqIQNx"
      },
      "execution_count": null,
      "outputs": []
    },
    {
      "cell_type": "markdown",
      "source": [
        "Replace the two if statements with one statement, using the && operator, which will return the string Yes if val is less than or equal to 50 and greater than or equal to 25. Otherwise, will return the string No."
      ],
      "metadata": {
        "id": "TMofy3jmIRuW"
      }
    },
    {
      "cell_type": "code",
      "source": [
        "function testLogicalAnd(val) {\n",
        "  // Only change code below this line\n",
        "\n",
        "  if (val <= 50 && val >=25) {\n",
        "      return \"Yes\";\n",
        "  }\n",
        "\n",
        "  // Only change code above this line\n",
        "  return \"No\";\n",
        "}\n",
        "\n",
        "testLogicalAnd(10);"
      ],
      "metadata": {
        "id": "NRlFy9LKJLB7"
      },
      "execution_count": null,
      "outputs": []
    },
    {
      "cell_type": "markdown",
      "source": [
        "Combine the two if statements into one statement which returns the string Outside if val is not between 10 and 20, inclusive. Otherwise, return the string Inside.\n",
        "\n"
      ],
      "metadata": {
        "id": "smWEFOXRL3uU"
      }
    },
    {
      "cell_type": "code",
      "source": [
        "function testLogicalOr(val) {\n",
        "  // Only change code below this line\n",
        "\n",
        "  if (val < 10 || val > 20) {\n",
        "    return \"Outside\";\n",
        "  }\n",
        "  // Only change code above this line\n",
        "  return \"Inside\";\n",
        "}\n",
        "\n",
        "testLogicalOr(15);"
      ],
      "metadata": {
        "id": "CzjxkRq0L4Tz"
      },
      "execution_count": null,
      "outputs": []
    },
    {
      "cell_type": "markdown",
      "source": [
        "Combine the if statements into a single if/else statement."
      ],
      "metadata": {
        "id": "_MJmwzr31Sdi"
      }
    },
    {
      "cell_type": "code",
      "source": [
        "function testElse(val) {\n",
        "  let result = \"\";\n",
        "  // Only change code below this line\n",
        "\n",
        "  if (val > 5) {\n",
        "    result = \"Bigger than 5\";\n",
        "  }\n",
        "\n",
        "  else {\n",
        "    result = \"5 or Smaller\";\n",
        "  }\n",
        "\n",
        "  // Only change code above this line\n",
        "  return result;\n",
        "}\n",
        "\n",
        "testElse(4);"
      ],
      "metadata": {
        "id": "VEfwtC-pV2LO"
      },
      "execution_count": null,
      "outputs": []
    },
    {
      "cell_type": "markdown",
      "source": [
        "Convert the logic to use else if statements."
      ],
      "metadata": {
        "id": "rMQRDj-iWB4N"
      }
    },
    {
      "cell_type": "code",
      "source": [
        "function testElseIf(val) {\n",
        "  if (val > 10) {\n",
        "    return \"Greater than 10\";\n",
        "  } else if (val < 5) {\n",
        "    return \"Smaller than 5\";\n",
        "  } else {\n",
        "    return \"Between 5 and 10\";\n",
        "  }\n",
        "}\n",
        "\n",
        "testElseIf(7);"
      ],
      "metadata": {
        "id": "PRpb0tdlWHg-"
      },
      "execution_count": null,
      "outputs": []
    },
    {
      "cell_type": "markdown",
      "source": [
        "Change the order of logic in the function so that it will return the correct statements in all cases."
      ],
      "metadata": {
        "id": "dp5_iwKpXAjO"
      }
    },
    {
      "cell_type": "code",
      "source": [
        "function orderMyLogic(val) {\n",
        "  if (val < 5) {\n",
        "    return \"Less than 5\";\n",
        "  } else if (val < 10) {\n",
        "    return \"Less than 10\";\n",
        "  } else {\n",
        "    return \"Greater than or equal to 10\";\n",
        "  }\n",
        "}\n",
        "\n",
        "orderMyLogic(7);"
      ],
      "metadata": {
        "id": "uhOgPdI_dcSI"
      },
      "execution_count": null,
      "outputs": []
    },
    {
      "cell_type": "markdown",
      "source": [
        "Write chained if/else if statements to fulfill the following conditions:\n",
        "\n",
        "num < 5 - return Tiny\n",
        "num < 10 - return Small\n",
        "num < 15 - return Medium\n",
        "num < 20 - return Large\n",
        "num >= 20 - return Huge"
      ],
      "metadata": {
        "id": "NIDn_BYadh-f"
      }
    },
    {
      "cell_type": "code",
      "source": [
        "function testSize(num) {\n",
        "  // Only change code below this line\n",
        "  if (num < 5) {\n",
        "    return \"Tiny\"\n",
        "  } else if (num < 10) {\n",
        "    return \"Small\"\n",
        "  } else if (num < 15) {\n",
        "    return \"Medium\"\n",
        "  } else if (num < 20) {\n",
        "    return \"Large\"\n",
        "  } else {\n",
        "    return \"Huge\"\n",
        "  }\n",
        "  // Only change code above this line\n",
        "}\n",
        "\n",
        "testSize(7);"
      ],
      "metadata": {
        "id": "fP1ggy0rdy5C"
      },
      "execution_count": null,
      "outputs": []
    },
    {
      "cell_type": "markdown",
      "source": [
        "Your function will be passed par and strokes arguments. Return the correct string according to this table which lists the strokes in order of priority; top (highest) to bottom (lowest):\n",
        "\n",
        "![Ekran görüntüsü 2023-03-25 204528.png](data:image/png;base64,iVBORw0KGgoAAAANSUhEUgAAAP4AAAFXCAYAAACC8vPDAAAAAXNSR0IArs4c6QAAAARnQU1BAACxjwv8YQUAAAAJcEhZcwAADsMAAA7DAcdvqGQAACnsSURBVHhe7Z0PbFTXvee/u08C6W0ayaZ2gQ4KeiiwDX4VyKlkx0TGkeOIxjYshPBc3guY4BoWL8IPKgIRz2bZlEQLzyg1DyhObNJSJyVEBLtl41iAFTu2NrGMGtMIV5GI4lcoXrBEu90NetXu+Xdn7twZzx97xp6Z8/1Ihzn3zJ07995zvuf351w8/+5///n//D8QQqzi35tXQohFUPiEWAiFT4iFUPiEWAiFT4iFUPiEWAiFT4iFUPiEWAiFT4iFUPiEWAiFT4iFUPiEWMi0Cf/+SCdera1E0aNFWPxoCVb9w36c6BrBffN+8rmLjp3yu4tQ13nXtJGpE7ivQaV0I+oa2jEwZnYjKcW0CH+saz/WPHsYb17+Ix4uWIyCZbPwxUAPmnZUo+4XN81ewNcD/6wmhhPXTANJLx5ZiIIi0b+iLPrzTXT9ohkvPLFR9OcDs0N8cDwkj+QL/+tB/LyxB6NYiPpzH+DSz1rxlnj97KMjqF+1Di+uWmh2FBPEl5+BBiKN+U/78Fab6F9RLn30Lo6umSUab6Lpn9rxW71HXHA8JI/kC39kEO+q3itUlt5h9txCbH/9H1GcZRrwAKM3R0ydpD1/NQ8VdXUokPXPP8MXt1VrHHA8JJPkC/8vD8ys3Y+BT/+kaiF81o4X1lfghRa92bTexInHh9X2WOcetb370l3c//QMdj9borbdLuD9z867cgjPYMNLzegameD7XHz92RnhjsrP7EHHv5pG6aYe348Npfo8ntp6EGc/9eQFxgdxtqEWq9RnS7CqPrbvs4rZs/GwqQZzF0NvHUSN6ceiZ/fgRNdNfG3ejTYeho7r7eBcTSDX4IyLyONmGCfkMdcLb+T+CDpeq8VTcvuJSuxuGZzG3NPMkHzh/83fYqOqCJevqkIJpGPgJu7/RTVqZs/Cw//hm/CZTd8yHScWfMM0GAaO/gCrqtrw22wZS67DY3+j20dFB69a+8948/JdzJafXSYGx/l21D1bGzm+/PMw3vyvP8XA2CxUNO1Gxbd124lNG1F3rAdDIjwpKBKhSE8XDlbtDBzra7HPD3fi4C+GcT9LfJ840fud4vs2t2HIfV2W87Ww2EOykrMQvrmqSXALHT96DhsOdaFn/Buqnx8e71f5nv2dt/QuMY6HWJlo3CiutaFubTV2f/gn+ArmIGdMTCCv7cTudwK5p0wk+cJ/uBgvNhUiR208wBdCILv/YSMef6YWr3aZjl68Ds1t+7Beb2H9yzpOfOuFPNOiGfvym/h7J0/QJsIEaU7Gu3Civl94FQtR3/4BLp/TOYTL6jvFZPOfmzHgNyVuHmDop41oErN/zg8a0VA+T7X+9hembc0+XO4+K77nLC5f3YeKHFesOvIxfi6tRlEd3vqV+L6fXUTf4FlcOPdDLP8ruQO5/3knXj16Xnl7y2vKsFw3437XT7D7gphAl1Xhne6LOh/QfQr1yx6go/6n6JGmNsbxECthx42fB/A99zo+lX0t+vFy2zo1VnvO9kwqL5EuJF/4Al/5EVz4WR02Fj9kWgRfCmu74wc4eDkO93hrHba48gSS+0P9OCcrZVWoeDxwfF/5D/Hid0Rl7Dz6P9NtAUT40XUYdcfFxCMGYPPeYuOSjmDgopyM5uHFLeV+i4Nvl+Pvnxevn1/F9S91k+LeLYzeNl7Awwvx2LeDz806jtVql1yUxysP4+y1WSio/jGOVi82O/wJQ309qrZx+2Ys/2tVBf46DxUb80WlS/TV5FYAIhJm3ATIx/o1+f6QZPaixXqS+vyPgdAjA5kW4UtyCqrQ0PIBRv6nmFlfLUeBcgEe4Oylj2PP3D70Dcw2VYfRkau68phwJ3XNINw2s2Dwxe3g+Lyr/jkU7ehSXsJL/ySstDMAx27i+ueycguvVuoB7JQNx2X7CP7XuHj52wq8JDPWn59HzZMleGr9fpzoHMaY7W6+Wc5bpN07LN9xBM37i139chO//VDXztY+E3R/n/rRoGofHf+jek0oYcaN7Uyb8P1kicGxbh+aG4v19oURjOratJGzWMzqj8jaTbzx68HAzP7wN0xIMguL5PMGMq4MKvn4ppok5qHiv3fgcss/Yss6Mbtc60FTfS3WvNQ57deSUpjlvEtviMlUbA4d34N/6XNb8IfwTWP8/XG7pyz6BiU6HUyP8MNYwoez5+vKKq+ljg/f4pW68tubHtHdlQZcMAtLfXNUi8Py7Ufwzs8bRNwujHzLfjQ5g3P2HOTK8EB4Alv+m4krg8rrWO94rWIQ+4rX4aVXz+Ly4OvYLj43dqENXcpjsJzvCO9ut3S3HuDNHzVj4M+6GfgmctWEKyKzXafC3N9W1LvDwWj8WxLCAktIvvA/P4MN/3EjDna6H8+9i66O86pWXJzvt7KzleiA//tv4p+/PIgpxnp4+UpslAfoakeHa7lwtPOneEOKMKcCy81xg5hbhpcOyASge3AuRtkmmUAawbFmYb1dE9b9L/vR5V/Su4WB8134wrmgh8WEkS0r85ETfv3KMmbhsep9qF8mqmPnsfsn/aYvH0LBKp08e/PYTzHkXjMbG0ZXj2tJL8J4yPm2zAeILr886J/s74uQ7+qnZoNEJcnC/xOGLndhSLjUZ+ur8XjpRrywuRobSitR94sHIu7/IepNNl1a2ceKdQLmRFUJikTs/EJrDA9wZBXjxf0mg1/1jIi3q/HCevHqZPr/pQ4FE3iPOav2oUHG6q7B6Sv/L3ipYJaw3ofx1JOV6nxfeLZEnPse1O1sRpeI8ccuHcULLx3EqvxnsEFdj5jY+sTx1pSjQC4JEuE95WHL3io8Jqpur2p2wSY0rBNW/Vo7Npj7J/tr8RO1qJPPS3zuWPGJx4OvoFx5a7h0GBue1Z9//Fkxeat3SSwkWfgPYfmOs+g7J2b/dTJbehMDfSKmF4Ni44HXcaFtEx7zi3IWCrb82Lh6ovOz8rA8Z1ZMVl+uGlz61T5seWoOvr42goFrwp1fV4XmX53C9gmzuZI5KNvfiI3C/fQPTjlg297FWwfKUJz1R3W+A1/Px/pdDbj0PxpQliUnjEZcOl6F9fJ5AfG+XO9fv0uED6+WGe+FSGY//kM07PK6/OKev3o+6P4N/OtsFP+gDm993Iot33H6K8J4EN7aj9+oE59/CGMjMkeUj5fa38U7uye33Gcj/AktQixk+rP6hJAZh8InxEIofEIshMInxEIofEIshMInxEIofEIshMInxEIofEIshMInxEIofEIshMInxEIofEIshMInxEIi/rfcO3/gDxgRkg7kfiu+vwRBi0+IhVD4hFgIhU+IhVD4hFgIhU+IhVD4hFgIhU+IhVD4hFgIhU+IhVD4hFgIhU+IhVD4hFgIhU+IhWSo8Mfx4YE1WLGiFcOmxQrudOPlFWtw5rqnbhhuk/fkED68YxpCMPftQDfumZaYMd/3cve4aZgi5niTOpeUw9zXthtmW6P6w1yfuz4dZKDwb+DMimocvGI2SXoy9hV65OuVr/B71UASSWYJX1mJvTiN1ajZatqsIx/z/f81211PM5ZWo7f3gijVyOhfvV+0ANmmGlRPMpkjfCn6tc3oKanDRTFY8k2zVeQuwGJTDaqTlGS+LzBK3fXpIHOEn1uKV6SFOFQ6bbNm6rEEm3oP4Olcb32qODmTQIk5lndidX+JNe8iQzaxvzsuvt7q/7zOV8R7TE3wZ0XxxN76nHUu5F73Ide+4fMj3uPFem+ySw+gd/OSkPp0kKHJPZI4nJzJapxUrrcop1ajp7E6VDAelGiEF4bGVuO2X8DJre9jW8QEYzTk59eg3WeO+V4dimVbTIkxPYFta8lHw3vmWuTnW/aGSawN4uDaNagcfd6c+2uoUW3uSUZPTttaXPdGHA8x3JuZhsK3Dj2g3RYqUEKTosNtOmdy0h1ry/hbiB9CMO5Vg2BuoKNxEMVC9K+UZpk2IG9zKxpKBnH1N5PP/tecuhA4pvD0djcKN/lKPwajTCb3upvF9UnRuzwh6SlK8V9pxlGPpZbnHrDCwoOS1ywmmUFzzfe6fxl6b+Tx1L35OKVXlCh863BZu5AiRWl2U9zAYIt42fpEaIJt6RPCAgKnP5nAsl3/WIgC2jMIM7n0jEqVhoYQk7GU2fN8piaZ6JjjGOwZBEoKke8Nf3LzsVJcd494P6LXkLNAeBcO5njGAwn6vtr3RfsobvknoizMWyQmEl9C4q6EQOGTpCKtc9hJRlnSLDx9KFz7VEjGMSOgksme71MlOL+St9nlpaQAFD5JDkHWMRPRVjxdofBJBJYgXz4PES5eNa58zfcmsKZmOfH026ny5F0W8osnyAXcGcRVEX4Ui/fjWRFSS3BXmtExYZ4jdaHwSUTyvm+y5u4lM7msJuNY4eZWLDVtIZhkmBBGpStj7iyPJezR3jjILn3eZOZdqwrO8x9Yjao4XfHs0jqVEzld63402ixDuu+Xf0kzvmXHZJJRwnevuW6TSSlX4mUmBlpGoJ6PkEk/VxJLiF5lvKM9MyGz/yZjXmk+W9k4qOL+3d81+0wr8tkGuaToWtmQot/6mojJJ/OEoM4nnBRekRS/Op58clTF/Wsw35lcnIepShZgvmqYefgTWoRkAPwJLUJIVCh8QiyEwifEQih8QiyEwifEQih8QiyEwifEQih8QiyEwifEQih8QiyEwifEQih8QiyEwifEQiL+7zxCSGZCi0+IhVD4hFgIhU+IhVD4hFgIhU+IhVD4hFgIhU+IhVD4hFgIhU+IhVD4hFgIhU+IhVD4hFgIhU+IhVD4CeUuOnYWYfGjgVLXede8l6mYaz4ufwfWXdcMHQ++H95y4prZMYHo72zGkNmOTuRryEQo/IQxjBOPVmL3pUIc/agPI7/rQ19TIbrqKzN+EEUncE+8ZfsyswuZVij8BDHW2YYmNcCPoGKubsspP6LEj2Nt6Lit2zKVskfmmVpwPZ3IhGuIleQL/3YnOpLgzqUWdzHQ1Q/s2uwXvUOOb6H4tx+jGSv8OfAtMdWgejqRCdcQH8kTvhB8nYzjnjyMUdM0JdTx9ijLOda5xxUn6rZgpNvtvB9mH9ex3DHo5OPNOah4XbiuO/LMdoCx0Zvi30L4PBNCJrF8Rx+ay+eE1OPGGTP+EiZOv9bsej+4RO6/0PyLe/+EXUOakHjhuwTftetUaBwX0rnBJXIyrB+7nyxC0ZebTYx4CvWqzSVsdfxaNK3ahz61z0UcXeXZR6GPtQH6HJMTbw7j3XrhCaxaiYIMFn5CkIJ2jRndt+3Y4Ba/3Gd9O8qaLpp9ZN/qt2TbhP2nxkQldsMZE6Kcq0LTehuSr+FJnPDDCD6cBcTccjQ7Nz9MiTbTqk73HzcP2z/ahzIp4vMmgeYc//Vy5KgGYY33630++NTTyfI8w51jghg6LiYg8Vq/xTkXW9GTbPAk75mIl9XpMeDuWyFOCPEPGMusvCcxoTf4x4jTt8BS38TjZui8GJPSEPjHhEB8n0q+ihBtzDTZRMKEr26uqhXi6LrkiSmEuYV4Rs76N25O3IFzF2KpqbqJnsAJdQ9jzdDLcGTDsSiWyBrCZfUDSdAJEf0mRe2g8iWXDuNdl4s+9ulVMe4ihVLDGBD9ID9X5O5HUYqkN3bpZmJC0TQjYcKXcZHs0D5h4vTs7nWtDVNy9WMneP1YW974MbG7e8DG4CFI0ctBJUWf6bFiYvFMtNJ7NO8ojJWWLrqzj7zP9edimET8IYS31GG52cUmEh7jyyUseUMnnACm6OpHxSR/NhxzWxkZL04PFP3k0Alb+RxEFd5xxoMK49zInAlCvIfIHtU8+EwegARIfHLP4J4AkrqUdVvE7peES11WqOK3ob52FQf2xeJKJhhH9NK6UPTx4CyHSqscwQJfuyo8t3iXRs3ynAXPUsRD0oTvICeARMa48kk4/zKMDBuUO1iFF43QfI8UBseBTpbfbCYLt+iTmTDMTMKI08nym03FsiqVxXe7+k6JFCIu3zHR6o/47M5OJvfSgbKmfYDT8XJgKOsesBI55fuCB8ePgQbXsk9yMMt2kmO1QQPSKbYuG2nCZfV1cSbxgDjNe30rhfUPDtGGjnuW5FTRfdtVfziCRc/Ddv+yrjm+s/q0XxgKC0mfn9Ay1h2MnS1FPpRVC5wLE9Or9f2bQY9Lk8ikncUntqKTdE3rPcli81BPuMelycTQ4pO0Qi7Tyucj3NSH8wJIRPhruYRYCF19QiyEwifEQih8QiyEwifEQih8QiyEwifEQih8QiyEwifEQih8QiyEwifEQih8Qiwk4rP6d/5g458oICT9yP1WfH/HmRafEAuh8AmxEAqfEAuh8AmxEAqfEAuh8AmxEAqfEAuh8AmxEAqfEAuh8AmxEAqfEAuh8AmxEAqfEAuh8GPiBs6sWIMVB7pxz7RYz/VWrFhxCB/e8dQV5n6FLa0YNns5DLfp985cNw2Twnxn2w2zPcnjRryuzIHCj8adbry8Yi9Om00SByV1uNh7Ab1Oea8OxXgf24LENI5bX+jayK1xXUkIyTpuZkDhR0LO+Gub0VOyGjUlpo248GFerqkG1ScgtxSvKPEP4uCvHcuchacP6YnhldIs05YIpnLcOK8rDaHwJ0KKvvZ9YOtr6D20BvNNMzHkLBACNrjr0chdgMWmmpJM9rrSjJkTvoqfdLznxGITxYDa3Y6wj/9Y4/jwgLPPFGOzpdXaPd28xDSQIKT17q1GnrcejTtfYUS8FPsCZvRe9yFPf+l+fLlbuOiqb02fuuL3oHZRwsXxocc1eD4blLuZ7HWlGTNs8WW8twbtvlZPDOgStuwk6W5Lyyv36X0NNd59FLKtGleLzbF6D+DpDHTR0psbOCP7EqtRFYP73dNYLbwu4KTqz8AkrATteGPqvVbMfzu2PIwyMuKzNafMMcVnG9CMynAGJ4OZcVdfdoA/BpMz7KnVovI+2uVsLwmxvEuwyewz6JnlixtbExwnkilxRQrKZVlX7MWI6KPemK3oaiF677430NE4qEXvHxMynpcGIQrCc2xv0WNu01LT5v9s6HjKZFIvxl/6hOrAntEIfvoEsdfieVFEHxIyTHUJiUTEm9UXpWpUWHFx35UbH42SBaG5lesfK8te8734Q7B7v+kX3gZwujZ4DMgJSR7Tpux/miT33LG7KMpdnAQqZgseiIGZn0wHeZsv4ORW6cZfmCHXOh8N7wWPAafY5C2mvPB1gqYaB69It890ksoFkHRlvi9f/DuKW1NJvk6C7Hk+UyOpJ/wgV24cgz0mnsvQ7Kp9mD6d7Pq4CfNOf+LK8MeK+qz7GQJ7mXHhn651LbfIDL7M1orYsEK54FmYt0i8tPwyeJ/JuvpkhpEhm/TeZCJ2zeQmchGuVYlQAS17A3mCWJ+uFJ/d3Si8DfHZKT/am+bMuPBrGgtxda2J3f0PzJQi27yft1lmXMUs7ezzyRPC+seQwU0AgecL9GB1Z6mZFIyBkKy+vI86xp5KPB3IE+hE4Yq1X6FKhICyLRrZpQfQK1eFpPjNeW1r0edUkWNPcm/mfkLLWPfgpRVCyGTgT2gRQqJC4RNiIfy1XEIyALr6hJCoUPiEWAiFT4iFUPiEWAiFT4iFUPiEWAiFT4iFUPiEWAiFT4iFUPiEWAiFT4iFRHxWnxCSmdDiE2IhFD4hFkLhE2IhFD4hFkLhE2IhFD4hFkLhE2IhFD4hFkLhE2IhFD4hFkLhE2IhFD4hFkLhE2IhFD5JLteasfjRPei47akr7qJjZ5FoC1OOD5t9EkTE87APCp+kAFV453d9GHHKuSrgWK0QZzOGzB4ksVD4ZBpYCN9cUw2qT8CyOox8tA9laMeGhFr+OM8jg6HwSXKZu1AI2OCuR0Psu1S+3riJhPx062TPI0NJG+EPHXfivmGciBILjnXuCbwfbh8V40k30h1j2h3zJY255Wj+XR2We+tRmQffKlM1ROtX/xi53Yk6Z5+dnXrimPR5ZCbpZfFV3NcG30c6FuxrKtRtrgEgO7+ovh/15zzxYsgEIdzIRyvxQdlFE1seQYXFrl/KcbsfH1wSr0sWQv4AdMz9KtuevIpnzBgZeb1cfZ4Ek2auvkwCBQSaU34E7+wSlWNtfmu9fIfu8O3L9LaMF/U+V0MSRWVNF9FcPsdskZRBWuwnD6MLhTi6Lk81xd6v4jMfcRKPRtrH+MuLxMyPfoxGcNN9jwjPIAxLfRR9aiC9L+Oay6JEHzzJhyN8v9qdtIuVzEzuuWM8UaSLSFIZz3KeKmFicPZrwsgw4ZtknbQYu075B5HKBZA0hv2aaNJe+EN97eLfKhTI2M8khFQCaIeODUkGwH5NOGkmfBELOsszApnp3XBMJumqzDKNXvttejN4H7qEaQ77NeGkmfCrcLTsKopMjCdFL61AIDOfh+1ymefSYf8+A0XCSsg2ksawXxNN2vyElrbuMglk94MXhCSCzMzqE0IiQuETYiH8tVxCLIQWnxALofAJsRAKnxALofAJsRAKnxALofAJsRAKnxALofAJsRAKnxALofAJsZCIj+ze+UNC/qI5ISTJ5H4rvr8lTItPiIVQ+IRYCIVPiIVQ+IRYCIVPiIVQ+IRYCIVPiIVQ+IRYCIVPiIVQ+IRYCIVPiIVQ+IRYCIVPiIVQ+HExjg8PrMGKFa0YNi02Mtwm7sGBbtzz1BV3uvHyCnmPwhT3fqmMuYYz1z31DILCj5kbOLOiGgevmE0Sma2vobf3QqCcWg1caUal5ZNmqmCl8O91H4rP+qhZfy9OYzVqtpo221m0ANmmGlSfiKXVWvx4H+3d47otpcnHfP9/cXfXMwNa/GhI0a9tRk9JHS72VoshQOb7AnfBXY9KzgIUm2pKk7sAi001qJ5BTL/wr7eKeE+7eyo+9MeAoS6gssz+90Vpu2HeMfiP5cTeshzCh3fM+4kgtxSvSFf1UGl0q2YJ2aUH0Lt5SUg9KmNfoUe8LJ6XpbcdVD+6+jlsOODuY0+JmGMIHMsZT2HjdXMO+r0l2NR7AE/neuuZwwxZ/PexTdzkdl+rjv/eqxOWQLYFOklOCpWNg6g55YoRW/aGil99rhpXi82xMrCTMgIpyNr3AeE5VSw1bQIlRtFe3Oj0XysaSmSfuidwKXqZX1mNk2ofMx4Uos1MyupYwjuD/1gXcHJr4FjZpXXi2MDpt71hnjj+26HnlsnMmKsvBf1KqZn5pVX1xH95m3XHbXI6QsSIJ2V83fJxiDWQg8Z/rHB4rICcUHSiKdD2clrEnWmEnKRd91cKcrGcxN2ek+iXo6IvgvsvC08fkuIfxMGfOAK9g99fkWOmGnlqW+CMh5IFmK8abqAj5FhyHOljXf2N7N8s5BeL0ET0fYfb6t8R78vj/509Xl3qxPhLn0CNeOkZndhPnyieDHEdvTjuuikXG8VxVMweaIs4cZD48Wb1hSWf/7aeBBxX+95v+oXrn4+V3/Xee0eg/RhUwyEX80Ms9Q0MtogXJ7F4/WOcFi89jdXBE45ZiXHGVXbp82qcnf4k4DkO/1rncGyx9pLUTu6Fs9QkTXEseThXOxrys6+hJshL24vTcvL25Bf8oaG3+Pdbggo58bf80oQSegIpFhONTTmcFBW+SeTIbLrLcihLTdKYLMxbJF6ufIXf64aYudf9S5z2ehHusCGOFYPs7xaKfbX7r46L1aiyzONLHeEbV63me2JmdmIuOXvHmjEmaYBxz01c7hZgMOMY7BHeXUkh8lWi1mx/8dXEnoJZdovJmxChX9VWGRY046g4bnHjmkDuwBJmTPina11ZW7mU4s74hulEJ8ufCNQSFJfnphn55KN8CMqVRPMLsNqVXHUy+O5km3D1/8558i8Q+unirAQtwSbn6UDX8p6zhOdN3uZ9X64kDaLnSrgcQ+Yz/b+kY0Re01iHETHjynVdhXTj3NbdmQwM0vpvgmwDTvaa7K5zLPleEhMzcvBMNOlEXVGwDZmXkSGa2QxGLse5MvMOnr4O2c8cU64KBPWz8zn32Anz/XJ8VOSMIzvX3U9mglnkGXdpSry/pDNzwk+yWEnmoCbenkJcDPHSpiBeNQ5H0fBeZjz3wZ/QIhlH9jyfduGDHt5yQoJ8NHw/fos9/IkMLZ0cgn1Q+CT1kf/BRz7dGfRQkBA95LMY8Vts6UFsa3HnEOyDv5ZLSAZAV58QEhUKnxALofAJsRAKnxALofAJsRAKnxALofAJsRAKnxALofAJsRAKnxALofAJsZCIz+oTQjITWnxCLITCJ8RCKHxCLITCJ8RCKHxCLITCJ8RCKHxCLITCJ8RCKHxCLITCJ8RCKHxCLITCJ8RCKHxCLITCj4m76NhZhMWPBkpd513z3gxxuxN14jxOXPPUDUPHg883qOzsxLT8RtK1ZvV97vMKizn/qd7TSNcc9RxSBHUNpn/c9URD4UdlGCcercTuS4U4+lEfRn7Xh76mQnTVV2Lxcf3L7KlL4Jz95aN9KLt0GEVCDDM+eSUF7zVfxNFVQNP6TL3eyWGl8Mc698Q8k451tqFJDaYjqJir23LKjyjx41gbOm7rtpmhED5zTsH1CMwtR7MQhDN5pYslnDxzUPG6Fn9XfTuGTGtKs2Qh/L+E564nEFr8iNzFQFc/sGuzX/QOOb6F4t9+jM6U8OcuxFJTDarHSE75PmMJm9NDDFNiDnzx/5L2jOB7RBgUg7ueaKZf+Cru04MtOCYLHYDKMvvfF8XrWvuP5Y7B9yTQCktrIdzFHXlmO8DY6E3xb4xWNinkYfvvHC/EXY+VOSgokwOrHQNBVj96PkP3S2h/6f4MP5EE92WMfWRi/8Dnwh87OncxKn9af9VC+HSDn5C8QLjwzeQqwpUgj8m7n9+rlOGie9uNud/mPelNOuPNXU80M2Tx27FB3Ig3HrkYiDtVW6BjZYcU1fej/pyJ1c5VCde6NkzHyM9V4oMyc6y4BTAZhvGuODesWomCGRP+1NFeC3B91BG2k8+owjvqXur7PtV8hoyvD2Kf6Z9TqBee0u4nI4tYTRRPHhYfdvq1D+/skn0d/8Q+dFxeE1C/pdzlNmvBbTjmygnIcSjHmFugUszr21HmPw8dNkhk2/Zluq4mELGff7zK/SBzKfI6xcQsx++lw3jXG1pdaw9zbslnxlx9eYOay+foDRl3yhsjRPyGsS7Ld+gb6NxYLKsTHS9ej10NGTCyA/zHCofHcsgJRXaCTHA5bfEkfoaO14q4f/o7K+GIEKFMvHR9eUtt6uuSoq/DctUiEPfdmXQnmw8I6mspAjPRO30dip5Yvf26fIcUXT8++DRSX8lJJdCvsmy4sQ997rEkGOs8bBK2LkMhx6FJfh4056Y8u1X70OA/D+EF7pfnDyz1mTYxvt44pq8z8B3SW5STnPGolq0UdTGPvRls9Yf62tXxn3Od23SQOjG+uTHOIAzHRDGPvwMmwiS09EysE1vyZsvB4LRFnDhcSEu0QXSye7ZPW27fRJd4KXtknvh3GAPiurBrZUD0Ds6g7UvQKobJSUzY19euqolVeRouAS9W3kjkMRJ2JWPLTT3J+y25yd2E89jmFuIZmQgU7yvXW3pFHks99ulVcd8CYZ7e1p5N8PlqA6E9qjw8J8fdpasYcDwWZ8KYAQOS2sm9cJZ6BpGil+cQ1cNIE3SeIoaJM+HMg8+4y5EIuM2eEm/c63gt4VztaIjPSkPhFrUOQb0hZZgJxxRnrOSUb9Zhznk9geoJowoFM2BAUlT4JuEhYryuXaf8N1BZ6hki00Tvt3ozMvBuYVRY7gkxIUhCMccM5DNiRYYdCBG129tzciXRyUOBP1x1wpmqUA9rGkgd4Rv3rr5IzOa3RRwnEx5yxk9SVjMeHNFDTEKZIXp5TTLGlffYiefdg9KDu2/83Jz8UmbY47kwoYA3Hp4KjjuuvRuzouF2ux3M2CsT7yv3W51rlGVbNakELHkklq8z+Y2d8vmQKrw4Q+NpxoTftN6VnTWZU3+SI0zHO1n+RKCWSV6PLa5yiz4VJqEpY8Inx3txWy5nULpXV0L6RpDz+Eo90H8ciJl1hlxthBCxr8MSyIIXuTLssi+kqx3vE3j+PnRfg+N2P+k6N3lvpJfpFuSyKv+Tf46r7xT/ecwtR4P0Rj2rTs5SYVBSVOz7ophguy7JMRUmnzJNTP8v6ZiOr2/ah+v18iYbvMJyBohBZUwh2xDIOjvHCsqmJhK5vKUTNBORqq6/HHQTCVElNiec+KSIdRLNIew1xtw/N4WbvBmjT7ruo7evjeDk0l3Q9/iFGEB+z3Nz7yJnbug9j3TNE/VTyGc856bel6sCQffLuUeeVQHPPdFx/xEUiP2Dztd/X6Zj6Tk8Myf8pImVkEShJ36EG6uTFq+ZNJbMrAeZ2ll9QmYUvfoQFKpIHMse5lHuqDj5q4nyG9MEhU/IhOhHtt/Z5XkoyHis8Vts4UHI0CVifmN64K/lEmIhtPiEWAiFT4iFUPiEWAiFT4iFUPiEWAiFT4iFUPiEWAiFT4iFUPiEWAiFT4iFUPiEWEjEZ/Xv/CFRf/+EEJJMcr8V35/rpMUnxEIofEIshMInxEIofEIshMInxEIofEIshMInxEIofEIshMInxEIofEIshMInxEIofEIshMInxEIo/CQx3LYGK1a4StsN804KcKcbL4tzOnPdUw/hBs64r8EpB7pxz+wxFe51H1LHC//dGn0fWxH9l+dngnF8eECcn6dv1Tmbe+SupxIUfsLRg2FbC1Bz6gJ6e0U5tRpo2ZuSAyA8ZkCv2IvTWI2T8hpMudiYD1xpRmUUwZLUhsKPBWUVD+HDO2Y7Etcv4OAVLfpNS03b0mot/iv9GIzlGNNCPub7/wu3uy6tVLX/Gnp7q+H+acjs0gP+ScB/fSSURQuQbapB9RQhAcIfx/D1cVMnw5+8D5TUocIripwFKMYgfp8Kf9skdwEWm2pQXSImuXbhrWDraxT2JJnvE16RwV1PJRJi8W+9Xa1itZe7kzABXG/1x3jBcXOYuM/EqxPu47Lc7mMl0mXN2yys4aHS0Bl+7Cv0eCzrzLEEm3oP4Olcb13cl183q/Ns+P4S3RAHwf0jShLzGlG/K0pfRx1LAu93xDq+lVe0Wd8/dz2VSIDws/D0ITHY36sDGiNMACGiDC6Rb+r72Cb2afe1ajdTfFexanN1mJwg1opBKyyVdkVfQ413H8UgDq4VMTic/abBZZXXXis8ga3P+wWWmozj1hfy1Yd5cZ2nk9cQE8Z7+p6qPkpKXiOe79J9Pfg9vZ/MT5yuPYSX5eed/nfGUtBndVJzW4srv+GM71RK0k6BxP/NPTnIpQBFtbixFa+UZun2ySIFLUQTFDNLTHvE7/B+1jk3OTlEnIXl4NJx7oQId/5iOMvuxny/JCH3Iuk41y0HfHBsHwmZna9shBBiwHNQmPuNCa5df27QbEUicD4xf1fY7zbXh+C+8x5Tb/tC74HqT7jazfEWRRtPyWfm/+ZebimqtupqT2NzbAmxybD0CWHRxXeMRvgCFVeHUuyLZs6MF+Oa7Yul++tYGFmiiV4ik3puazGBS5kuSEGEemnjGOwR4i0pRL73tubmY2WJ6CPxfiSr71/9CFNOmrGkmfp3Rcd8h/Ey3derJ/FR3PIPuSzMWxTLeEo9Eih87YLJGxRwkVyzspyBvTfSVRKTHwicgyrG85hxxGT4inEp2xNynclCD+TgwR3An9FX15LhSI/ONQEFSrCnIXM6qe/JhZIQ4eskiOMiypsTxk2Ugz/kJgbKVG+etkbucxBlJgbonfHwFsdkzyN6KClA3vflPROx8a8zI5aNH2fyy2wSIHyZEIog+GRx/WOcFi8135OxlXHPVGJvGs8hhBs4s7YaleFc+jtfYUS8pLxb6IRqLXtjXO3IQn6xfKgnzDMKdwZx9Yq4ZvF+Ytaxp+e71BLclWZ0ZPADSgnK6idfbDIb688XOEkz/3q5maVbfhm8T6JcfeWteJJJYVmCTcalD7viIM53dxq4hdJ9lbH16VrpyXkmsTD3Nbv0edSoDLqrj5xEKlajKoHXPB3flV1ah4YSff2Byc95fNl1P/zha/rlbhKf3EsSNY2FuLpW3mRRpOildXcl2PI2y+U7vXyj9vnkCWH9Zds0oyYJZylx4vNNddTzCP5JzFyHcy3mMd5AeCafBZCThev+SyEmxQObju/Syd3A5CfLXpxWcf8azHcmHOfhp5IFmK8a0ofU/wktY91DlvMIIX74E1qEkKhQ+IRYCH8tl5AMgK4+ISQqFD4hFkLhE2IhFD4hFkLhE2IhFD4hFkLhE2IhFD4hFkLhE2IhFD4hFkLhE2IhEZ/VJ4RkJrT4hFgIhU+IhVD4hFgIhU+IhVD4hFgIhU+IhVD4hFgIhU+IdQD/H+XBpGTgOpfWAAAAAElFTkSuQmCC)\n",
        "\n",
        "par and strokes will always be numeric and positive. We have added an array of all the names for your convenience."
      ],
      "metadata": {
        "id": "gFGl8vr6eioF"
      }
    },
    {
      "cell_type": "code",
      "source": [
        "const names = [\"Hole-in-one!\", \"Eagle\", \"Birdie\", \"Par\", \"Bogey\", \"Double Bogey\", \"Go Home!\"];\n",
        "\n",
        "function golfScore(par, strokes) {\n",
        "  // Only change code below this line\n",
        "  if (strokes == 1 ) {\n",
        "    return \"Hole-in-one!\"\n",
        "  } else if (strokes <= par -2) {\n",
        "    return \"Eagle\"\n",
        "  } else if (strokes == par -1) {\n",
        "    return \"Birdie\"\n",
        "  } else if (strokes == par) {\n",
        "    return \"Par\"\n",
        "  } else if (strokes == par +1) {\n",
        "    return \"Bogey\"\n",
        "  } else if (strokes == par +2) {\n",
        "    return \"Double Bogey\"\n",
        "  } else {\n",
        "    return \"Go Home!\"\n",
        "}\n",
        "  // Only change code above this line\n",
        "}\n",
        "\n",
        "golfScore(5, 4);"
      ],
      "metadata": {
        "id": "BwYPvbB_4Kqz"
      },
      "execution_count": null,
      "outputs": []
    },
    {
      "cell_type": "markdown",
      "source": [
        "Write a switch statement which tests val and sets answer for the following conditions:\n",
        "\n",
        "1 - alpha\n",
        "\n",
        "2 - beta\n",
        "\n",
        "3 - gamma\n",
        "\n",
        "4 - delta"
      ],
      "metadata": {
        "id": "nYmNvVLy4PS-"
      }
    },
    {
      "cell_type": "code",
      "source": [
        "function caseInSwitch(val) {\n",
        "  let answer = \"\";\n",
        "  // Only change code below this line\n",
        "  switch (val) {\n",
        "    case 1:\n",
        "      answer = \"alpha\"\n",
        "      break;\n",
        "    case 2:\n",
        "      answer = \"beta\"\n",
        "      break;\n",
        "    case 3:\n",
        "      answer = \"gamma\"\n",
        "      break;\n",
        "    case 4:\n",
        "      answer = \"delta\"\n",
        "  }\n",
        "  // Only change code above this line\n",
        "  return answer;\n",
        "}\n",
        "caseInSwitch(1);"
      ],
      "metadata": {
        "id": "8u_lEvht_4Lu"
      },
      "execution_count": null,
      "outputs": []
    },
    {
      "cell_type": "markdown",
      "source": [
        "Write a switch statement to set answer for the following conditions:\n",
        "\n",
        "a - apple\n",
        "\n",
        "b - bird\n",
        "\n",
        "c - cat\n",
        "\n",
        "default - stuff"
      ],
      "metadata": {
        "id": "pAfec82dGWea"
      }
    },
    {
      "cell_type": "code",
      "source": [
        "function switchOfStuff(val) {\n",
        "  let answer = \"\";\n",
        "  // Only change code below this line\n",
        "  switch (val) {\n",
        "    case \"a\":\n",
        "      return \"apple\";\n",
        "      break;\n",
        "    case \"b\":\n",
        "      return \"bird\";\n",
        "      break;\n",
        "    case \"c\":\n",
        "      return \"cat\";\n",
        "      break;\n",
        "    default:\n",
        "      return \"stuff\";\n",
        "      break;\n",
        "  }\n",
        "  // Only change code above this line\n",
        "  return answer;\n",
        "}\n",
        "\n",
        "switchOfStuff(1);"
      ],
      "metadata": {
        "id": "g_4JZualGgbV"
      },
      "execution_count": null,
      "outputs": []
    },
    {
      "cell_type": "markdown",
      "source": [
        "Write a switch statement to set answer for the following ranges:\n",
        "\n",
        "1-3 - Low\n",
        "\n",
        "4-6 - Mid\n",
        "\n",
        "7-9 - High\n",
        "\n",
        "Note: You will need to have a case statement for each number in the range."
      ],
      "metadata": {
        "id": "ouWxvpIPN5he"
      }
    },
    {
      "cell_type": "code",
      "source": [
        "function sequentialSizes(val) {\n",
        "  let answer = \"\";\n",
        "  // Only change code below this line\n",
        "  switch (val) {\n",
        "    case 1:\n",
        "    case 2:\n",
        "    case 3:\n",
        "      answer = \"Low\";\n",
        "      break;\n",
        "    case 4: \n",
        "    case 5:\n",
        "    case 6:\n",
        "      answer = \"Mid\";\n",
        "      break;\n",
        "    case 7:\n",
        "    case 8:\n",
        "    case 9:\n",
        "      answer = \"High\";\n",
        "      break;\n",
        "  }\n",
        "  // Only change code above this line\n",
        "  return answer;\n",
        "}\n",
        "\n",
        "sequentialSizes(1);"
      ],
      "metadata": {
        "id": "QbLwbuLdkVJj"
      },
      "execution_count": null,
      "outputs": []
    },
    {
      "cell_type": "markdown",
      "source": [
        "Change the chained if/else if statements into a switch statement."
      ],
      "metadata": {
        "id": "zDI_WpRbk5TQ"
      }
    },
    {
      "cell_type": "code",
      "source": [
        "function chainToSwitch(val) {\n",
        "  let answer = \"\";\n",
        "  // Only change code below this line\n",
        "  switch (val) {\n",
        "    case \"bob\":\n",
        "      answer = \"Marley\";\n",
        "      break;\n",
        "    case 42:\n",
        "      answer = \"The Answer\";\n",
        "      break;\n",
        "    case 1:\n",
        "      answer = \"There is no #1\";\n",
        "      break;\n",
        "    case 99:\n",
        "      answer = \"Missed me by this much!\";\n",
        "      break;\n",
        "    case 7:\n",
        "      answer = \"Ate Nine\";\n",
        "      break;\n",
        "  }\n",
        "  // Only change code above this line\n",
        "  return answer;\n",
        "}\n",
        "chainToSwitch(7);"
      ],
      "metadata": {
        "id": "dq8TZ2LSlGwv"
      },
      "execution_count": null,
      "outputs": []
    },
    {
      "cell_type": "markdown",
      "source": [
        "Fix the function isLess to remove the if/else statements."
      ],
      "metadata": {
        "id": "qq_Tz7IMmACk"
      }
    },
    {
      "cell_type": "code",
      "source": [
        "function isLess(a, b) {\n",
        "  // Only change code below this line\n",
        "  return a < b;\n",
        "  // Only change code above this line\n",
        "}\n",
        "isLess(10, 15);"
      ],
      "metadata": {
        "id": "yk0wukSnmJfM"
      },
      "execution_count": null,
      "outputs": []
    },
    {
      "cell_type": "markdown",
      "source": [],
      "metadata": {
        "id": "6BWR1x1pmf7Q"
      }
    },
    {
      "cell_type": "code",
      "source": [],
      "metadata": {
        "id": "ELEpxVaVmjXU"
      },
      "execution_count": null,
      "outputs": []
    }
  ]
}