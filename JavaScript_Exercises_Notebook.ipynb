{
  "nbformat": 4,
  "nbformat_minor": 0,
  "metadata": {
    "colab": {
      "provenance": []
    },
    "kernelspec": {
      "name": "python3",
      "display_name": "Python 3"
    },
    "language_info": {
      "name": "python"
    }
  },
  "cells": [
    {
      "cell_type": "markdown",
      "source": [
        "Create a function timesFive that accepts one argument, multiplies it by 5, and returns the new value."
      ],
      "metadata": {
        "id": "TvoRkePnvaTL"
      }
    },
    {
      "cell_type": "code",
      "source": [
        "function timesFive(num) {\n",
        "  return num * 5;\n",
        "}\n",
        "\n",
        "timesFive(5);"
      ],
      "metadata": {
        "id": "MVVtT4P7vexW"
      },
      "execution_count": null,
      "outputs": []
    },
    {
      "cell_type": "markdown",
      "source": [],
      "metadata": {
        "id": "oOjkU1xgvzKf"
      }
    }
  ]
}