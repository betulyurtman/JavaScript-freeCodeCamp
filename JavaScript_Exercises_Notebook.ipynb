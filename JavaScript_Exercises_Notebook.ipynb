{
  "nbformat": 4,
  "nbformat_minor": 0,
  "metadata": {
    "colab": {
      "provenance": []
    },
    "kernelspec": {
      "name": "python3",
      "display_name": "Python 3"
    },
    "language_info": {
      "name": "python"
    }
  },
  "cells": [
    {
      "cell_type": "markdown",
      "source": [
        "Create a function timesFive that accepts one argument, multiplies it by 5, and returns the new value."
      ],
      "metadata": {
        "id": "TvoRkePnvaTL"
      }
    },
    {
      "cell_type": "code",
      "source": [
        "function timesFive(num) {\n",
        "  return num * 5;\n",
        "}\n",
        "\n",
        "timesFive(5);"
      ],
      "metadata": {
        "id": "MVVtT4P7vexW"
      },
      "execution_count": null,
      "outputs": []
    },
    {
      "cell_type": "markdown",
      "source": [
        "Using let or const, declare a global variable named myGlobal outside of any function. Initialize it with a value of 10.\n",
        "\n",
        "Inside function fun1, assign 5 to oopsGlobal without using the var, let or const keywords."
      ],
      "metadata": {
        "id": "oOjkU1xgvzKf"
      }
    },
    {
      "cell_type": "code",
      "source": [
        "// Declare the myGlobal variable below this line\n",
        "const myGlobal = 10;\n",
        "\n",
        "function fun1() {\n",
        "  // Assign 5 to oopsGlobal here\n",
        "oopsGlobal = 5\n",
        "}\n",
        "\n",
        "// Only change code above this line\n",
        "\n",
        "function fun2() {\n",
        "  let output = \"\";\n",
        "  if (typeof myGlobal != \"undefined\") {\n",
        "    output += \"myGlobal: \" + myGlobal;\n",
        "  }\n",
        "  if (typeof oopsGlobal != \"undefined\") {\n",
        "    output += \" oopsGlobal: \" + oopsGlobal;\n",
        "  }\n",
        "  console.log(output);\n",
        "}"
      ],
      "metadata": {
        "id": "FBhhTZf6yTc4"
      },
      "execution_count": null,
      "outputs": []
    },
    {
      "cell_type": "markdown",
      "source": [
        "The editor has two console.logs to help you see what is happening. Check the console as you code to see how it changes. Declare a local variable myVar inside myLocalScope and run the tests.\n",
        "\n",
        "Note: The console will still display ReferenceError: myVar is not defined, but this will not cause the tests to fail."
      ],
      "metadata": {
        "id": "np5AQhvnyWdX"
      }
    },
    {
      "cell_type": "code",
      "source": [
        "function myLocalScope() {\n",
        "  // Only change code below this line\n",
        "  const myVar = \"a\";\n",
        "  console.log('inside myLocalScope', myVar);\n",
        "}\n",
        "myLocalScope();\n",
        "\n",
        "// Run and check the console\n",
        "// myVar is not defined outside of myLocalScope\n",
        "console.log('outside myLocalScope', myVar);"
      ],
      "metadata": {
        "id": "z5rgevwLzKbH"
      },
      "execution_count": null,
      "outputs": []
    },
    {
      "cell_type": "markdown",
      "source": [
        "Add a local variable to myOutfit function to override the value of outerWear with the string sweater."
      ],
      "metadata": {
        "id": "W99Zmo4XzdGb"
      }
    },
    {
      "cell_type": "code",
      "source": [
        "// Setup\n",
        "const outerWear = \"T-Shirt\";\n",
        "\n",
        "function myOutfit() {\n",
        "  // Only change code below this line\n",
        "  const outerWear = \"sweater\";\n",
        "  // Only change code above this line\n",
        "  return outerWear;\n",
        "}\n",
        "myOutfit();"
      ],
      "metadata": {
        "id": "FHRtnFAZzogw"
      },
      "execution_count": null,
      "outputs": []
    },
    {
      "cell_type": "markdown",
      "source": [
        "Create a function addFive without any arguments. This function adds 5 to the sum variable, but its returned value is undefined."
      ],
      "metadata": {
        "id": "QtjN8iew0Ooj"
      }
    },
    {
      "cell_type": "code",
      "source": [
        "// Setup\n",
        "let sum = 0;\n",
        "\n",
        "function addThree() {\n",
        "  sum = sum + 3;\n",
        "}\n",
        "\n",
        "// Only change code below this line\n",
        "function addFive() {\n",
        "  sum = sum + 5;\n",
        "}\n",
        "\n",
        "// Only change code above this line\n",
        "\n",
        "addThree();\n",
        "addFive();"
      ],
      "metadata": {
        "id": "RMTz9WXs0oAu"
      },
      "execution_count": null,
      "outputs": []
    },
    {
      "cell_type": "markdown",
      "source": [
        "Call the processArg function with an argument of 7 and assign its return value to the variable processed."
      ],
      "metadata": {
        "id": "XaXPuO9f0saN"
      }
    },
    {
      "cell_type": "code",
      "source": [
        "// Setup\n",
        "let processed = 0;\n",
        "\n",
        "function processArg(num) {\n",
        "  return (num + 3) / 5;\n",
        "}\n",
        "\n",
        "// Only change code below this line\n",
        "processed = processArg(7);"
      ],
      "metadata": {
        "id": "9KiYX5au9CjR"
      },
      "execution_count": null,
      "outputs": []
    },
    {
      "cell_type": "markdown",
      "source": [
        "Write a function nextInLine which takes an array (arr) and a number (item) as arguments.\n",
        "\n",
        "Add the number to the end of the array, then remove the first element of the array.\n",
        "\n",
        "The nextInLine function should then return the element that was removed.\n",
        "\n"
      ],
      "metadata": {
        "id": "9rw4Txkg9Pel"
      }
    },
    {
      "cell_type": "code",
      "source": [
        "function nextInLine(arr, item) {\n",
        "  // Only change code below this line\n",
        "  arr.push(item); \n",
        "  return arr.shift();\n",
        "  // Only change code above this line\n",
        "}\n",
        "\n",
        "// Setup\n",
        "let testArr = [1, 2, 3, 4, 5];\n",
        "\n",
        "// Display code\n",
        "console.log(\"Before: \" + JSON.stringify(testArr));\n",
        "console.log(nextInLine(testArr, 6));\n",
        "console.log(\"After: \" + JSON.stringify(testArr));"
      ],
      "metadata": {
        "id": "tUBHEUO1AY5K"
      },
      "execution_count": null,
      "outputs": []
    },
    {
      "cell_type": "markdown",
      "source": [
        "Create an if statement inside the function to return Yes, that was true if the parameter wasThatTrue is true and return No, that was false otherwise."
      ],
      "metadata": {
        "id": "1kjtYrx7Bocd"
      }
    },
    {
      "cell_type": "code",
      "source": [
        "function trueOrFalse(wasThatTrue) {\n",
        "  // Only change code below this line\n",
        "  if (wasThatTrue) {\n",
        "    return \"Yes, that was true\";\n",
        "  }\n",
        "  return \"No, that was false\";\n",
        "\n",
        "  // Only change code above this line\n",
        "}\n",
        "\n",
        "trueOrFalse(true);\n",
        "trueOrFalse(false);"
      ],
      "metadata": {
        "id": "ZYMbADfqCpXW"
      },
      "execution_count": null,
      "outputs": []
    },
    {
      "cell_type": "markdown",
      "source": [
        "Add the equality operator to the indicated line so that the function will return the string Equal when val is equivalent to 12."
      ],
      "metadata": {
        "id": "AeqwXTkrDcfe"
      }
    },
    {
      "cell_type": "code",
      "source": [
        "// Setup\n",
        "function testEqual(val) {\n",
        "  if (val == 12) { // Change this line\n",
        "    return \"Equal\";\n",
        "  }\n",
        "  return \"Not Equal\";\n",
        "}\n",
        "\n",
        "testEqual(10);"
      ],
      "metadata": {
        "id": "Uz2ylVEjGG4s"
      },
      "execution_count": null,
      "outputs": []
    },
    {
      "cell_type": "markdown",
      "source": [
        "\n",
        "Use the strict equality operator in the if statement so the function will return the string Equal when val is strictly equal to 7."
      ],
      "metadata": {
        "id": "bu-1SwflGRXi"
      }
    },
    {
      "cell_type": "code",
      "source": [
        "// Setup\n",
        "function testStrict(val) {\n",
        "  if (val === 7) { // Change this line\n",
        "    return \"Equal\";\n",
        "  }\n",
        "  return \"Not Equal\";\n",
        "}\n",
        "\n",
        "testStrict(10);"
      ],
      "metadata": {
        "id": "d0XY4eupGZ6p"
      },
      "execution_count": null,
      "outputs": []
    },
    {
      "cell_type": "markdown",
      "source": [
        "Add the inequality operator != in the if statement so that the function will return the string Not Equal when val is not equivalent to 99."
      ],
      "metadata": {
        "id": "gfnhbpIjGbo6"
      }
    },
    {
      "cell_type": "code",
      "source": [
        "// Setup\n",
        "function testNotEqual(val) {\n",
        "  if (val != 99) { // Change this line\n",
        "    return \"Not Equal\";\n",
        "  }\n",
        "  return \"Equal\";\n",
        "}\n",
        "\n",
        "testNotEqual(10);"
      ],
      "metadata": {
        "id": "124_NTnMGlKX"
      },
      "execution_count": null,
      "outputs": []
    },
    {
      "cell_type": "markdown",
      "source": [
        "Add the greater than operator to the indicated lines so that the return statements make sense."
      ],
      "metadata": {
        "id": "t1KXENl6G_i-"
      }
    },
    {
      "cell_type": "code",
      "source": [
        "function testGreaterThan(val) {\n",
        "  if (val > 100) {  // Change this line\n",
        "    return \"Over 100\";\n",
        "  }\n",
        "\n",
        "  if (val > 10) {  // Change this line\n",
        "    return \"Over 10\";\n",
        "  }\n",
        "\n",
        "  return \"10 or Under\";\n",
        "}\n",
        "\n",
        "testGreaterThan(10);"
      ],
      "metadata": {
        "id": "27Q7odKQIE5z"
      },
      "execution_count": null,
      "outputs": []
    },
    {
      "cell_type": "markdown",
      "source": [
        "Add the greater than or equal to operator to the indicated lines so that the return statements make sense."
      ],
      "metadata": {
        "id": "nBDW2-hjIIgu"
      }
    },
    {
      "cell_type": "code",
      "source": [
        "function testGreaterOrEqual(val) {\n",
        "  if (val >= 20) {  // Change this line\n",
        "    return \"20 or Over\";\n",
        "  }\n",
        "\n",
        "  if (val >= 10) {  // Change this line\n",
        "    return \"10 or Over\";\n",
        "  }\n",
        "\n",
        "  return \"Less than 10\";\n",
        "}\n",
        "\n",
        "testGreaterOrEqual(10);"
      ],
      "metadata": {
        "id": "qElFhLeqIQNx"
      },
      "execution_count": null,
      "outputs": []
    },
    {
      "cell_type": "markdown",
      "source": [
        "Replace the two if statements with one statement, using the && operator, which will return the string Yes if val is less than or equal to 50 and greater than or equal to 25. Otherwise, will return the string No."
      ],
      "metadata": {
        "id": "TMofy3jmIRuW"
      }
    },
    {
      "cell_type": "code",
      "source": [
        "function testLogicalAnd(val) {\n",
        "  // Only change code below this line\n",
        "\n",
        "  if (val <= 50 && val >=25) {\n",
        "      return \"Yes\";\n",
        "  }\n",
        "\n",
        "  // Only change code above this line\n",
        "  return \"No\";\n",
        "}\n",
        "\n",
        "testLogicalAnd(10);"
      ],
      "metadata": {
        "id": "NRlFy9LKJLB7"
      },
      "execution_count": null,
      "outputs": []
    },
    {
      "cell_type": "markdown",
      "source": [
        "Combine the two if statements into one statement which returns the string Outside if val is not between 10 and 20, inclusive. Otherwise, return the string Inside.\n",
        "\n"
      ],
      "metadata": {
        "id": "smWEFOXRL3uU"
      }
    },
    {
      "cell_type": "code",
      "source": [
        "function testLogicalOr(val) {\n",
        "  // Only change code below this line\n",
        "\n",
        "  if (val < 10 || val > 20) {\n",
        "    return \"Outside\";\n",
        "  }\n",
        "  // Only change code above this line\n",
        "  return \"Inside\";\n",
        "}\n",
        "\n",
        "testLogicalOr(15);"
      ],
      "metadata": {
        "id": "CzjxkRq0L4Tz"
      },
      "execution_count": null,
      "outputs": []
    },
    {
      "cell_type": "markdown",
      "source": [
        "Combine the if statements into a single if/else statement."
      ],
      "metadata": {
        "id": "_MJmwzr31Sdi"
      }
    },
    {
      "cell_type": "code",
      "source": [
        "function testElse(val) {\n",
        "  let result = \"\";\n",
        "  // Only change code below this line\n",
        "\n",
        "  if (val > 5) {\n",
        "    result = \"Bigger than 5\";\n",
        "  }\n",
        "\n",
        "  else {\n",
        "    result = \"5 or Smaller\";\n",
        "  }\n",
        "\n",
        "  // Only change code above this line\n",
        "  return result;\n",
        "}\n",
        "\n",
        "testElse(4);"
      ],
      "metadata": {
        "id": "VEfwtC-pV2LO"
      },
      "execution_count": null,
      "outputs": []
    },
    {
      "cell_type": "markdown",
      "source": [
        "Convert the logic to use else if statements."
      ],
      "metadata": {
        "id": "rMQRDj-iWB4N"
      }
    },
    {
      "cell_type": "code",
      "source": [
        "function testElseIf(val) {\n",
        "  if (val > 10) {\n",
        "    return \"Greater than 10\";\n",
        "  } else if (val < 5) {\n",
        "    return \"Smaller than 5\";\n",
        "  } else {\n",
        "    return \"Between 5 and 10\";\n",
        "  }\n",
        "}\n",
        "\n",
        "testElseIf(7);"
      ],
      "metadata": {
        "id": "PRpb0tdlWHg-"
      },
      "execution_count": null,
      "outputs": []
    },
    {
      "cell_type": "markdown",
      "source": [
        "Change the order of logic in the function so that it will return the correct statements in all cases."
      ],
      "metadata": {
        "id": "dp5_iwKpXAjO"
      }
    },
    {
      "cell_type": "code",
      "source": [
        "function orderMyLogic(val) {\n",
        "  if (val < 5) {\n",
        "    return \"Less than 5\";\n",
        "  } else if (val < 10) {\n",
        "    return \"Less than 10\";\n",
        "  } else {\n",
        "    return \"Greater than or equal to 10\";\n",
        "  }\n",
        "}\n",
        "\n",
        "orderMyLogic(7);"
      ],
      "metadata": {
        "id": "uhOgPdI_dcSI"
      },
      "execution_count": null,
      "outputs": []
    },
    {
      "cell_type": "markdown",
      "source": [
        "Write chained if/else if statements to fulfill the following conditions:\n",
        "\n",
        "num < 5 - return Tiny\n",
        "num < 10 - return Small\n",
        "num < 15 - return Medium\n",
        "num < 20 - return Large\n",
        "num >= 20 - return Huge"
      ],
      "metadata": {
        "id": "NIDn_BYadh-f"
      }
    },
    {
      "cell_type": "code",
      "source": [
        "function testSize(num) {\n",
        "  // Only change code below this line\n",
        "  if (num < 5) {\n",
        "    return \"Tiny\"\n",
        "  } else if (num < 10) {\n",
        "    return \"Small\"\n",
        "  } else if (num < 15) {\n",
        "    return \"Medium\"\n",
        "  } else if (num < 20) {\n",
        "    return \"Large\"\n",
        "  } else {\n",
        "    return \"Huge\"\n",
        "  }\n",
        "  // Only change code above this line\n",
        "}\n",
        "\n",
        "testSize(7);"
      ],
      "metadata": {
        "id": "fP1ggy0rdy5C"
      },
      "execution_count": null,
      "outputs": []
    },
    {
      "cell_type": "markdown",
      "source": [
        "Your function will be passed par and strokes arguments. Return the correct string according to this table which lists the strokes in order of priority; top (highest) to bottom (lowest):\n",
        "\n",
        "![Ekran görüntüsü 2023-03-25 204528.png](data:image/png;base64,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)\n",
        "\n",
        "par and strokes will always be numeric and positive. We have added an array of all the names for your convenience."
      ],
      "metadata": {
        "id": "gFGl8vr6eioF"
      }
    },
    {
      "cell_type": "code",
      "source": [
        "const names = [\"Hole-in-one!\", \"Eagle\", \"Birdie\", \"Par\", \"Bogey\", \"Double Bogey\", \"Go Home!\"];\n",
        "\n",
        "function golfScore(par, strokes) {\n",
        "  // Only change code below this line\n",
        "  if (strokes == 1 ) {\n",
        "    return \"Hole-in-one!\"\n",
        "  } else if (strokes <= par -2) {\n",
        "    return \"Eagle\"\n",
        "  } else if (strokes == par -1) {\n",
        "    return \"Birdie\"\n",
        "  } else if (strokes == par) {\n",
        "    return \"Par\"\n",
        "  } else if (strokes == par +1) {\n",
        "    return \"Bogey\"\n",
        "  } else if (strokes == par +2) {\n",
        "    return \"Double Bogey\"\n",
        "  } else {\n",
        "    return \"Go Home!\"\n",
        "}\n",
        "  // Only change code above this line\n",
        "}\n",
        "\n",
        "golfScore(5, 4);"
      ],
      "metadata": {
        "id": "BwYPvbB_4Kqz"
      },
      "execution_count": null,
      "outputs": []
    },
    {
      "cell_type": "markdown",
      "source": [
        "Write a switch statement which tests val and sets answer for the following conditions:\n",
        "\n",
        "1 - alpha\n",
        "\n",
        "2 - beta\n",
        "\n",
        "3 - gamma\n",
        "\n",
        "4 - delta"
      ],
      "metadata": {
        "id": "nYmNvVLy4PS-"
      }
    },
    {
      "cell_type": "code",
      "source": [
        "function caseInSwitch(val) {\n",
        "  let answer = \"\";\n",
        "  // Only change code below this line\n",
        "  switch (val) {\n",
        "    case 1:\n",
        "      answer = \"alpha\"\n",
        "      break;\n",
        "    case 2:\n",
        "      answer = \"beta\"\n",
        "      break;\n",
        "    case 3:\n",
        "      answer = \"gamma\"\n",
        "      break;\n",
        "    case 4:\n",
        "      answer = \"delta\"\n",
        "  }\n",
        "  // Only change code above this line\n",
        "  return answer;\n",
        "}\n",
        "caseInSwitch(1);"
      ],
      "metadata": {
        "id": "8u_lEvht_4Lu"
      },
      "execution_count": null,
      "outputs": []
    },
    {
      "cell_type": "markdown",
      "source": [
        "Write a switch statement to set answer for the following conditions:\n",
        "\n",
        "a - apple\n",
        "\n",
        "b - bird\n",
        "\n",
        "c - cat\n",
        "\n",
        "default - stuff"
      ],
      "metadata": {
        "id": "pAfec82dGWea"
      }
    },
    {
      "cell_type": "code",
      "source": [
        "function switchOfStuff(val) {\n",
        "  let answer = \"\";\n",
        "  // Only change code below this line\n",
        "  switch (val) {\n",
        "    case \"a\":\n",
        "      return \"apple\";\n",
        "      break;\n",
        "    case \"b\":\n",
        "      return \"bird\";\n",
        "      break;\n",
        "    case \"c\":\n",
        "      return \"cat\";\n",
        "      break;\n",
        "    default:\n",
        "      return \"stuff\";\n",
        "      break;\n",
        "  }\n",
        "  // Only change code above this line\n",
        "  return answer;\n",
        "}\n",
        "\n",
        "switchOfStuff(1);"
      ],
      "metadata": {
        "id": "g_4JZualGgbV"
      },
      "execution_count": null,
      "outputs": []
    },
    {
      "cell_type": "markdown",
      "source": [
        "Write a switch statement to set answer for the following ranges:\n",
        "\n",
        "1-3 - Low\n",
        "\n",
        "4-6 - Mid\n",
        "\n",
        "7-9 - High\n",
        "\n",
        "Note: You will need to have a case statement for each number in the range."
      ],
      "metadata": {
        "id": "ouWxvpIPN5he"
      }
    },
    {
      "cell_type": "code",
      "source": [
        "function sequentialSizes(val) {\n",
        "  let answer = \"\";\n",
        "  // Only change code below this line\n",
        "  switch (val) {\n",
        "    case 1:\n",
        "    case 2:\n",
        "    case 3:\n",
        "      answer = \"Low\";\n",
        "      break;\n",
        "    case 4: \n",
        "    case 5:\n",
        "    case 6:\n",
        "      answer = \"Mid\";\n",
        "      break;\n",
        "    case 7:\n",
        "    case 8:\n",
        "    case 9:\n",
        "      answer = \"High\";\n",
        "      break;\n",
        "  }\n",
        "  // Only change code above this line\n",
        "  return answer;\n",
        "}\n",
        "\n",
        "sequentialSizes(1);"
      ],
      "metadata": {
        "id": "QbLwbuLdkVJj"
      },
      "execution_count": null,
      "outputs": []
    },
    {
      "cell_type": "markdown",
      "source": [
        "Change the chained if/else if statements into a switch statement."
      ],
      "metadata": {
        "id": "zDI_WpRbk5TQ"
      }
    },
    {
      "cell_type": "code",
      "source": [
        "function chainToSwitch(val) {\n",
        "  let answer = \"\";\n",
        "  // Only change code below this line\n",
        "  switch (val) {\n",
        "    case \"bob\":\n",
        "      answer = \"Marley\";\n",
        "      break;\n",
        "    case 42:\n",
        "      answer = \"The Answer\";\n",
        "      break;\n",
        "    case 1:\n",
        "      answer = \"There is no #1\";\n",
        "      break;\n",
        "    case 99:\n",
        "      answer = \"Missed me by this much!\";\n",
        "      break;\n",
        "    case 7:\n",
        "      answer = \"Ate Nine\";\n",
        "      break;\n",
        "  }\n",
        "  // Only change code above this line\n",
        "  return answer;\n",
        "}\n",
        "chainToSwitch(7);"
      ],
      "metadata": {
        "id": "dq8TZ2LSlGwv"
      },
      "execution_count": null,
      "outputs": []
    },
    {
      "cell_type": "markdown",
      "source": [
        "Fix the function isLess to remove the if/else statements."
      ],
      "metadata": {
        "id": "qq_Tz7IMmACk"
      }
    },
    {
      "cell_type": "code",
      "source": [
        "function isLess(a, b) {\n",
        "  // Only change code below this line\n",
        "  return a < b;\n",
        "  // Only change code above this line\n",
        "}\n",
        "isLess(10, 15);"
      ],
      "metadata": {
        "id": "yk0wukSnmJfM"
      },
      "execution_count": null,
      "outputs": []
    },
    {
      "cell_type": "markdown",
      "source": [
        "Modify the function abTest so that if a or b are less than 0 the function will immediately exit with a value of undefined.\n",
        "\n",
        "Hint:\n",
        "Remember that undefined is a keyword, not a string."
      ],
      "metadata": {
        "id": "6BWR1x1pmf7Q"
      }
    },
    {
      "cell_type": "code",
      "source": [
        "// Setup\n",
        "function abTest(a, b) {\n",
        "  // Only change code below this line\n",
        "  if (a < 0 || b < 0) {\n",
        "      return undefined;\n",
        "  }\n",
        "  // Only change code above this line\n",
        "  return Math.round(Math.pow(Math.sqrt(a) + Math.sqrt(b), 2));\n",
        "}\n",
        "abTest(2,2);"
      ],
      "metadata": {
        "id": "ELEpxVaVmjXU"
      },
      "execution_count": null,
      "outputs": []
    },
    {
      "cell_type": "markdown",
      "source": [
        "![Ekran görüntüsü 2023-04-01 012027.png](data:image/png;base64,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)\n",
        "\n",
        "You will write a card counting function. It will receive a card parameter, which can be a number or a string, and increment or decrement the global count variable according to the card's value (see table). The function will then return a string with the current count and the string Bet if the count is positive, or Hold if the count is zero or negative. The current count and the player's decision (Bet or Hold) should be separated by a single space.\n",
        "\n",
        "Example Outputs: -3 Hold or 5 Bet\n",
        "\n",
        "Hint\n",
        "Do NOT reset count to 0 when value is 7, 8, or 9.\n",
        "Do NOT return an array.\n",
        "Do NOT include quotes (single or double) in the output."
      ],
      "metadata": {
        "id": "zf-zc-EerdSB"
      }
    },
    {
      "cell_type": "code",
      "source": [
        "let count = 0;\n",
        "\n",
        "function cc(card) {\n",
        "  // Only change code below this line\n",
        "  switch (card) {\n",
        "    case 2:\n",
        "    case 3:\n",
        "    case 4:\n",
        "    case 5:\n",
        "    case 6:\n",
        "      count++;\n",
        "      break;\n",
        "    case 7:\n",
        "    case 8:\n",
        "    case 9:\n",
        "      count = count;\n",
        "      break;\n",
        "    case 10:\n",
        "    case \"J\":\n",
        "    case \"Q\":\n",
        "    case \"K\":\n",
        "    case \"A\":\n",
        "    case 10:\n",
        "      count--;\n",
        "      break;\n",
        "  }\n",
        "  if (count > 0) {\n",
        "    return count + \" Bet\";\n",
        "  } else {\n",
        "    return count + \" Hold\";\n",
        "  }\n",
        "  // Only change code above this line\n",
        "}\n",
        "cc(2); cc(3); cc(7); cc('K'); cc('A');"
      ],
      "metadata": {
        "id": "TOlODRcsloJp"
      },
      "execution_count": null,
      "outputs": []
    },
    {
      "cell_type": "markdown",
      "source": [
        "Make an object that represents a dog called myDog which contains the properties name (a string), legs, tails and friends.\n",
        "\n",
        "You can set these object properties to whatever values you want, as long as name is a string, legs and tails are numbers, and friends is an array.\n",
        "\n"
      ],
      "metadata": {
        "id": "aA0P6lBdwquh"
      }
    },
    {
      "cell_type": "code",
      "source": [
        "const myDog = {\n",
        "  // Only change code below this line\n",
        "  \"name\": \"Cutie\",\n",
        "  \"legs\": 4,\n",
        "  \"tails\": 1,\n",
        "  \"friends\": [\"Betül\", \"Osman\"]\n",
        "  // Only change code above this line\n",
        "};"
      ],
      "metadata": {
        "id": "MoNbO19tyKl3"
      },
      "execution_count": null,
      "outputs": []
    },
    {
      "cell_type": "markdown",
      "source": [
        "Read in the property values of testObj using dot notation. Set the variable hatValue equal to the object's property hat and set the variable shirtValue equal to the object's property shirt."
      ],
      "metadata": {
        "id": "aCry8xMbyMjP"
      }
    },
    {
      "cell_type": "code",
      "source": [
        "// Setup\n",
        "const testObj = {\n",
        "  \"hat\": \"ballcap\",\n",
        "  \"shirt\": \"jersey\",\n",
        "  \"shoes\": \"cleats\"\n",
        "};\n",
        "\n",
        "// Only change code below this line\n",
        "const hatValue = testObj.hat;      // Change this line\n",
        "const shirtValue = testObj.shirt;    // Change this line"
      ],
      "metadata": {
        "id": "NOaPbPzeyYWD"
      },
      "execution_count": null,
      "outputs": []
    },
    {
      "cell_type": "markdown",
      "source": [
        "Read the values of the properties an entree and the drink of testObj using bracket notation and assign them to entreeValue and drinkValue respectively.\n",
        "\n"
      ],
      "metadata": {
        "id": "x2BYeTCWyuob"
      }
    },
    {
      "cell_type": "code",
      "source": [
        "// Setup\n",
        "const testObj = {\n",
        "  \"an entree\": \"hamburger\",\n",
        "  \"my side\": \"veggies\",\n",
        "  \"the drink\": \"water\"\n",
        "};\n",
        "\n",
        "// Only change code below this line\n",
        "const entreeValue = testObj[\"an entree\"];   // Change this line\n",
        "const drinkValue = testObj[\"the drink\"];    // Change this line"
      ],
      "metadata": {
        "id": "CVYsCADhyv0z"
      },
      "execution_count": null,
      "outputs": []
    },
    {
      "cell_type": "markdown",
      "source": [
        "Set the playerNumber variable to 16. Then, use the variable to look up the player's name and assign it to player.\n",
        "\n"
      ],
      "metadata": {
        "id": "ZoksfZNh1amC"
      }
    },
    {
      "cell_type": "code",
      "source": [
        "// Setup\n",
        "const testObj = {\n",
        "  12: \"Namath\",\n",
        "  16: \"Montana\",\n",
        "  19: \"Unitas\"\n",
        "};\n",
        "\n",
        "// Only change code below this line\n",
        "const playerNumber = 16;  // Change this line\n",
        "const player = testObj[playerNumber];   // Change this line"
      ],
      "metadata": {
        "id": "klg2kDuQ1bW9"
      },
      "execution_count": null,
      "outputs": []
    },
    {
      "cell_type": "markdown",
      "source": [
        "Update the myDog object's name property. Let's change her name from Coder to Happy Coder. You can use either dot or bracket notation."
      ],
      "metadata": {
        "id": "w1NaGLYv1sOK"
      }
    },
    {
      "cell_type": "code",
      "source": [
        "// Setup\n",
        "const myDog = {\n",
        "  \"name\": \"Coder\",\n",
        "  \"legs\": 4,\n",
        "  \"tails\": 1,\n",
        "  \"friends\": [\"freeCodeCamp Campers\"]\n",
        "};\n",
        "\n",
        "// Only change code below this line\n",
        "myDog[\"name\"] = \"Happy Coder\""
      ],
      "metadata": {
        "id": "IIdoAdwT11c0"
      },
      "execution_count": null,
      "outputs": []
    },
    {
      "cell_type": "markdown",
      "source": [
        "Add a bark property to myDog and set it to a dog sound, such as \"woof\". You may use either dot or bracket notation."
      ],
      "metadata": {
        "id": "2LaJRIdF2YJV"
      }
    },
    {
      "cell_type": "code",
      "source": [
        "const myDog = {\n",
        "  \"name\": \"Happy Coder\",\n",
        "  \"legs\": 4,\n",
        "  \"tails\": 1,\n",
        "  \"friends\": [\"freeCodeCamp Campers\"]\n",
        "};\n",
        "\n",
        "myDog[\"bark\"] = \"woof\""
      ],
      "metadata": {
        "id": "WzQp_nJC2Yw6"
      },
      "execution_count": null,
      "outputs": []
    },
    {
      "cell_type": "markdown",
      "source": [
        "Delete the tails property from myDog. You may use either dot or bracket notation.\n",
        "\n"
      ],
      "metadata": {
        "id": "YrRXssq92qdB"
      }
    },
    {
      "cell_type": "code",
      "source": [
        "// Setup\n",
        "const myDog = {\n",
        "  \"name\": \"Happy Coder\",\n",
        "  \"legs\": 4,\n",
        "  \"tails\": 1,\n",
        "  \"friends\": [\"freeCodeCamp Campers\"],\n",
        "  \"bark\": \"woof\"\n",
        "};\n",
        "\n",
        "// Only change code below this line\n",
        "delete myDog.tails"
      ],
      "metadata": {
        "id": "esbl6uZb2rce"
      },
      "execution_count": null,
      "outputs": []
    },
    {
      "cell_type": "markdown",
      "source": [
        "\n",
        "Convert the switch statement into an object called lookup. Use it to look up val and assign the associated string to the result variable."
      ],
      "metadata": {
        "id": "E8lHBoQW3Gxx"
      }
    },
    {
      "cell_type": "code",
      "source": [
        "// Setup\n",
        "function phoneticLookup(val) {\n",
        "  let result = \"\";\n",
        "\n",
        "  // Only change code below this line\n",
        "  const lookup = {\n",
        "    \"alpha\" : \"Adams\",\n",
        "    \"bravo\" : \"Boston\",\n",
        "    \"charlie\": \"Chicago\",\n",
        "    \"delta\": \"Denver\",\n",
        "    \"echo\": \"Easy\",\n",
        "    \"foxtrot\": \"Frank\",\n",
        "  }\n",
        "  result = lookup[val];\n",
        "  // Only change code above this line\n",
        "  return result;\n",
        "}\n",
        "phoneticLookup(\"charlie\");"
      ],
      "metadata": {
        "id": "TApSAufU3JkK"
      },
      "execution_count": null,
      "outputs": []
    },
    {
      "cell_type": "markdown",
      "source": [
        "Modify the function checkObj to test if an object passed to the function (obj) contains a specific property (checkProp). If the property is found, return that property's value. If not, return \"Not Found\"."
      ],
      "metadata": {
        "id": "f4f51-0v4_8h"
      }
    },
    {
      "cell_type": "code",
      "source": [
        "function checkObj(obj, checkProp) {\n",
        "  // Only change code below this line\n",
        "  if (obj.hasOwnProperty(checkProp)) {\n",
        "    return obj[checkProp];\n",
        "  } else {\n",
        "      return \"Not Found\";\n",
        "  }\n",
        "  // Only change code above this line\n",
        "}"
      ],
      "metadata": {
        "id": "rL-a2OyM5IXx"
      },
      "execution_count": null,
      "outputs": []
    },
    {
      "cell_type": "markdown",
      "source": [
        "Add a new album to the myMusic array. Add artist and title strings, release_year number, and a formats array of strings."
      ],
      "metadata": {
        "id": "KYrTaVNB7-IU"
      }
    },
    {
      "cell_type": "code",
      "source": [
        "const myMusic = [\n",
        "  {\n",
        "    \"artist\": \"Billy Joel\",\n",
        "    \"title\": \"Piano Man\",\n",
        "    \"release_year\": 1973,\n",
        "    \"formats\": [\n",
        "      \"CD\",\n",
        "      \"8T\",\n",
        "      \"LP\"\n",
        "    ],\n",
        "    \"gold\": true\n",
        "  },\n",
        "  {\n",
        "    \"artist\": \"Osman Alperen\",\n",
        "    \"title\": \"Trileçe\",\n",
        "    \"release_year\": 2022,\n",
        "    \"formats\": [\"CD\",\"Casette\"\n",
        "    ]\n",
        "  }\n",
        "];"
      ],
      "metadata": {
        "id": "nWeU2dLm7_AM"
      },
      "execution_count": null,
      "outputs": []
    },
    {
      "cell_type": "markdown",
      "source": [
        "Access the myStorage object and assign the contents of the glove box property to the gloveBoxContents variable. Use dot notation for all properties where possible, otherwise use bracket notation."
      ],
      "metadata": {
        "id": "BlhDEnTgZl-0"
      }
    },
    {
      "cell_type": "code",
      "source": [
        "const myStorage = {\n",
        "  \"car\": {\n",
        "    \"inside\": {\n",
        "      \"glove box\": \"maps\",\n",
        "      \"passenger seat\": \"crumbs\"\n",
        "     },\n",
        "    \"outside\": {\n",
        "      \"trunk\": \"jack\"\n",
        "    }\n",
        "  }\n",
        "};\n",
        "\n",
        "const gloveBoxContents = myStorage.car.inside[\"glove box\"];"
      ],
      "metadata": {
        "id": "R9nklT0TEQJV"
      },
      "execution_count": null,
      "outputs": []
    },
    {
      "cell_type": "markdown",
      "source": [
        "Using dot and bracket notation, set the variable secondTree to the second item in the trees list from the myPlants object."
      ],
      "metadata": {
        "id": "V2aspkY2LqCl"
      }
    },
    {
      "cell_type": "code",
      "source": [
        "const myPlants = [\n",
        "  {\n",
        "    type: \"flowers\",\n",
        "    list: [\n",
        "      \"rose\",\n",
        "      \"tulip\",\n",
        "      \"dandelion\"\n",
        "    ]\n",
        "  },\n",
        "  {\n",
        "    type: \"trees\",\n",
        "    list: [\n",
        "      \"fir\",\n",
        "      \"pine\",\n",
        "      \"birch\"\n",
        "    ]\n",
        "  }\n",
        "];\n",
        "\n",
        "const secondTree = myPlants[1].list[1];"
      ],
      "metadata": {
        "id": "IMHr68OiLq4B"
      },
      "execution_count": null,
      "outputs": []
    }
  ]
}