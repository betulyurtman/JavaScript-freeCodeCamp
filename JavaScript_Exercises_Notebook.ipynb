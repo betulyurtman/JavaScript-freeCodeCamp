{
  "nbformat": 4,
  "nbformat_minor": 0,
  "metadata": {
    "colab": {
      "provenance": []
    },
    "kernelspec": {
      "name": "python3",
      "display_name": "Python 3"
    },
    "language_info": {
      "name": "python"
    }
  },
  "cells": [
    {
      "cell_type": "markdown",
      "source": [
        "Create a function timesFive that accepts one argument, multiplies it by 5, and returns the new value."
      ],
      "metadata": {
        "id": "TvoRkePnvaTL"
      }
    },
    {
      "cell_type": "code",
      "source": [
        "function timesFive(num) {\n",
        "  return num * 5;\n",
        "}\n",
        "\n",
        "timesFive(5);"
      ],
      "metadata": {
        "id": "MVVtT4P7vexW"
      },
      "execution_count": null,
      "outputs": []
    },
    {
      "cell_type": "markdown",
      "source": [
        "Using let or const, declare a global variable named myGlobal outside of any function. Initialize it with a value of 10.\n",
        "\n",
        "Inside function fun1, assign 5 to oopsGlobal without using the var, let or const keywords."
      ],
      "metadata": {
        "id": "oOjkU1xgvzKf"
      }
    },
    {
      "cell_type": "code",
      "source": [
        "// Declare the myGlobal variable below this line\n",
        "const myGlobal = 10;\n",
        "\n",
        "function fun1() {\n",
        "  // Assign 5 to oopsGlobal here\n",
        "oopsGlobal = 5\n",
        "}\n",
        "\n",
        "// Only change code above this line\n",
        "\n",
        "function fun2() {\n",
        "  let output = \"\";\n",
        "  if (typeof myGlobal != \"undefined\") {\n",
        "    output += \"myGlobal: \" + myGlobal;\n",
        "  }\n",
        "  if (typeof oopsGlobal != \"undefined\") {\n",
        "    output += \" oopsGlobal: \" + oopsGlobal;\n",
        "  }\n",
        "  console.log(output);\n",
        "}"
      ],
      "metadata": {
        "id": "FBhhTZf6yTc4"
      },
      "execution_count": null,
      "outputs": []
    },
    {
      "cell_type": "markdown",
      "source": [
        "The editor has two console.logs to help you see what is happening. Check the console as you code to see how it changes. Declare a local variable myVar inside myLocalScope and run the tests.\n",
        "\n",
        "Note: The console will still display ReferenceError: myVar is not defined, but this will not cause the tests to fail."
      ],
      "metadata": {
        "id": "np5AQhvnyWdX"
      }
    },
    {
      "cell_type": "code",
      "source": [
        "function myLocalScope() {\n",
        "  // Only change code below this line\n",
        "  const myVar = \"a\";\n",
        "  console.log('inside myLocalScope', myVar);\n",
        "}\n",
        "myLocalScope();\n",
        "\n",
        "// Run and check the console\n",
        "// myVar is not defined outside of myLocalScope\n",
        "console.log('outside myLocalScope', myVar);"
      ],
      "metadata": {
        "id": "z5rgevwLzKbH"
      },
      "execution_count": null,
      "outputs": []
    },
    {
      "cell_type": "markdown",
      "source": [
        "Add a local variable to myOutfit function to override the value of outerWear with the string sweater."
      ],
      "metadata": {
        "id": "W99Zmo4XzdGb"
      }
    },
    {
      "cell_type": "code",
      "source": [
        "// Setup\n",
        "const outerWear = \"T-Shirt\";\n",
        "\n",
        "function myOutfit() {\n",
        "  // Only change code below this line\n",
        "  const outerWear = \"sweater\";\n",
        "  // Only change code above this line\n",
        "  return outerWear;\n",
        "}\n",
        "myOutfit();"
      ],
      "metadata": {
        "id": "FHRtnFAZzogw"
      },
      "execution_count": null,
      "outputs": []
    },
    {
      "cell_type": "markdown",
      "source": [
        "Create a function addFive without any arguments. This function adds 5 to the sum variable, but its returned value is undefined."
      ],
      "metadata": {
        "id": "QtjN8iew0Ooj"
      }
    },
    {
      "cell_type": "code",
      "source": [
        "// Setup\n",
        "let sum = 0;\n",
        "\n",
        "function addThree() {\n",
        "  sum = sum + 3;\n",
        "}\n",
        "\n",
        "// Only change code below this line\n",
        "function addFive() {\n",
        "  sum = sum + 5;\n",
        "}\n",
        "\n",
        "// Only change code above this line\n",
        "\n",
        "addThree();\n",
        "addFive();"
      ],
      "metadata": {
        "id": "RMTz9WXs0oAu"
      },
      "execution_count": null,
      "outputs": []
    },
    {
      "cell_type": "markdown",
      "source": [
        "Call the processArg function with an argument of 7 and assign its return value to the variable processed."
      ],
      "metadata": {
        "id": "XaXPuO9f0saN"
      }
    },
    {
      "cell_type": "code",
      "source": [
        "// Setup\n",
        "let processed = 0;\n",
        "\n",
        "function processArg(num) {\n",
        "  return (num + 3) / 5;\n",
        "}\n",
        "\n",
        "// Only change code below this line\n",
        "processed = processArg(7);"
      ],
      "metadata": {
        "id": "9KiYX5au9CjR"
      },
      "execution_count": null,
      "outputs": []
    },
    {
      "cell_type": "markdown",
      "source": [
        "Write a function nextInLine which takes an array (arr) and a number (item) as arguments.\n",
        "\n",
        "Add the number to the end of the array, then remove the first element of the array.\n",
        "\n",
        "The nextInLine function should then return the element that was removed.\n",
        "\n"
      ],
      "metadata": {
        "id": "9rw4Txkg9Pel"
      }
    },
    {
      "cell_type": "code",
      "source": [
        "function nextInLine(arr, item) {\n",
        "  // Only change code below this line\n",
        "  arr.push(item); \n",
        "  return arr.shift();\n",
        "  // Only change code above this line\n",
        "}\n",
        "\n",
        "// Setup\n",
        "let testArr = [1, 2, 3, 4, 5];\n",
        "\n",
        "// Display code\n",
        "console.log(\"Before: \" + JSON.stringify(testArr));\n",
        "console.log(nextInLine(testArr, 6));\n",
        "console.log(\"After: \" + JSON.stringify(testArr));"
      ],
      "metadata": {
        "id": "tUBHEUO1AY5K"
      },
      "execution_count": null,
      "outputs": []
    },
    {
      "cell_type": "markdown",
      "source": [
        "Create an if statement inside the function to return Yes, that was true if the parameter wasThatTrue is true and return No, that was false otherwise."
      ],
      "metadata": {
        "id": "1kjtYrx7Bocd"
      }
    },
    {
      "cell_type": "code",
      "source": [
        "function trueOrFalse(wasThatTrue) {\n",
        "  // Only change code below this line\n",
        "  if (wasThatTrue) {\n",
        "    return \"Yes, that was true\";\n",
        "  }\n",
        "  return \"No, that was false\";\n",
        "\n",
        "  // Only change code above this line\n",
        "}\n",
        "\n",
        "trueOrFalse(true);\n",
        "trueOrFalse(false);"
      ],
      "metadata": {
        "id": "ZYMbADfqCpXW"
      },
      "execution_count": null,
      "outputs": []
    },
    {
      "cell_type": "markdown",
      "source": [
        "Add the equality operator to the indicated line so that the function will return the string Equal when val is equivalent to 12."
      ],
      "metadata": {
        "id": "AeqwXTkrDcfe"
      }
    },
    {
      "cell_type": "code",
      "source": [
        "// Setup\n",
        "function testEqual(val) {\n",
        "  if (val == 12) { // Change this line\n",
        "    return \"Equal\";\n",
        "  }\n",
        "  return \"Not Equal\";\n",
        "}\n",
        "\n",
        "testEqual(10);"
      ],
      "metadata": {
        "id": "Uz2ylVEjGG4s"
      },
      "execution_count": null,
      "outputs": []
    },
    {
      "cell_type": "markdown",
      "source": [
        "\n",
        "Use the strict equality operator in the if statement so the function will return the string Equal when val is strictly equal to 7."
      ],
      "metadata": {
        "id": "bu-1SwflGRXi"
      }
    },
    {
      "cell_type": "code",
      "source": [
        "// Setup\n",
        "function testStrict(val) {\n",
        "  if (val === 7) { // Change this line\n",
        "    return \"Equal\";\n",
        "  }\n",
        "  return \"Not Equal\";\n",
        "}\n",
        "\n",
        "testStrict(10);"
      ],
      "metadata": {
        "id": "d0XY4eupGZ6p"
      },
      "execution_count": null,
      "outputs": []
    },
    {
      "cell_type": "markdown",
      "source": [
        "Add the inequality operator != in the if statement so that the function will return the string Not Equal when val is not equivalent to 99."
      ],
      "metadata": {
        "id": "gfnhbpIjGbo6"
      }
    },
    {
      "cell_type": "code",
      "source": [
        "// Setup\n",
        "function testNotEqual(val) {\n",
        "  if (val != 99) { // Change this line\n",
        "    return \"Not Equal\";\n",
        "  }\n",
        "  return \"Equal\";\n",
        "}\n",
        "\n",
        "testNotEqual(10);"
      ],
      "metadata": {
        "id": "124_NTnMGlKX"
      },
      "execution_count": null,
      "outputs": []
    },
    {
      "cell_type": "markdown",
      "source": [
        "Add the greater than operator to the indicated lines so that the return statements make sense."
      ],
      "metadata": {
        "id": "t1KXENl6G_i-"
      }
    },
    {
      "cell_type": "code",
      "source": [
        "function testGreaterThan(val) {\n",
        "  if (val > 100) {  // Change this line\n",
        "    return \"Over 100\";\n",
        "  }\n",
        "\n",
        "  if (val > 10) {  // Change this line\n",
        "    return \"Over 10\";\n",
        "  }\n",
        "\n",
        "  return \"10 or Under\";\n",
        "}\n",
        "\n",
        "testGreaterThan(10);"
      ],
      "metadata": {
        "id": "27Q7odKQIE5z"
      },
      "execution_count": null,
      "outputs": []
    },
    {
      "cell_type": "markdown",
      "source": [
        "Add the greater than or equal to operator to the indicated lines so that the return statements make sense."
      ],
      "metadata": {
        "id": "nBDW2-hjIIgu"
      }
    },
    {
      "cell_type": "code",
      "source": [
        "function testGreaterOrEqual(val) {\n",
        "  if (val >= 20) {  // Change this line\n",
        "    return \"20 or Over\";\n",
        "  }\n",
        "\n",
        "  if (val >= 10) {  // Change this line\n",
        "    return \"10 or Over\";\n",
        "  }\n",
        "\n",
        "  return \"Less than 10\";\n",
        "}\n",
        "\n",
        "testGreaterOrEqual(10);"
      ],
      "metadata": {
        "id": "qElFhLeqIQNx"
      },
      "execution_count": null,
      "outputs": []
    },
    {
      "cell_type": "markdown",
      "source": [
        "Replace the two if statements with one statement, using the && operator, which will return the string Yes if val is less than or equal to 50 and greater than or equal to 25. Otherwise, will return the string No."
      ],
      "metadata": {
        "id": "TMofy3jmIRuW"
      }
    },
    {
      "cell_type": "code",
      "source": [
        "function testLogicalAnd(val) {\n",
        "  // Only change code below this line\n",
        "\n",
        "  if (val <= 50 && val >=25) {\n",
        "      return \"Yes\";\n",
        "  }\n",
        "\n",
        "  // Only change code above this line\n",
        "  return \"No\";\n",
        "}\n",
        "\n",
        "testLogicalAnd(10);"
      ],
      "metadata": {
        "id": "NRlFy9LKJLB7"
      },
      "execution_count": null,
      "outputs": []
    },
    {
      "cell_type": "markdown",
      "source": [
        "Combine the two if statements into one statement which returns the string Outside if val is not between 10 and 20, inclusive. Otherwise, return the string Inside.\n",
        "\n"
      ],
      "metadata": {
        "id": "smWEFOXRL3uU"
      }
    },
    {
      "cell_type": "code",
      "source": [
        "function testLogicalOr(val) {\n",
        "  // Only change code below this line\n",
        "\n",
        "  if (val < 10 || val > 20) {\n",
        "    return \"Outside\";\n",
        "  }\n",
        "  // Only change code above this line\n",
        "  return \"Inside\";\n",
        "}\n",
        "\n",
        "testLogicalOr(15);"
      ],
      "metadata": {
        "id": "CzjxkRq0L4Tz"
      },
      "execution_count": null,
      "outputs": []
    },
    {
      "cell_type": "markdown",
      "source": [
        "Combine the if statements into a single if/else statement."
      ],
      "metadata": {
        "id": "_MJmwzr31Sdi"
      }
    },
    {
      "cell_type": "code",
      "source": [
        "function testElse(val) {\n",
        "  let result = \"\";\n",
        "  // Only change code below this line\n",
        "\n",
        "  if (val > 5) {\n",
        "    result = \"Bigger than 5\";\n",
        "  }\n",
        "\n",
        "  else {\n",
        "    result = \"5 or Smaller\";\n",
        "  }\n",
        "\n",
        "  // Only change code above this line\n",
        "  return result;\n",
        "}\n",
        "\n",
        "testElse(4);"
      ],
      "metadata": {
        "id": "VEfwtC-pV2LO"
      },
      "execution_count": null,
      "outputs": []
    },
    {
      "cell_type": "markdown",
      "source": [
        "Convert the logic to use else if statements."
      ],
      "metadata": {
        "id": "rMQRDj-iWB4N"
      }
    },
    {
      "cell_type": "code",
      "source": [
        "function testElseIf(val) {\n",
        "  if (val > 10) {\n",
        "    return \"Greater than 10\";\n",
        "  } else if (val < 5) {\n",
        "    return \"Smaller than 5\";\n",
        "  } else {\n",
        "    return \"Between 5 and 10\";\n",
        "  }\n",
        "}\n",
        "\n",
        "testElseIf(7);"
      ],
      "metadata": {
        "id": "PRpb0tdlWHg-"
      },
      "execution_count": null,
      "outputs": []
    },
    {
      "cell_type": "markdown",
      "source": [
        "Change the order of logic in the function so that it will return the correct statements in all cases."
      ],
      "metadata": {
        "id": "dp5_iwKpXAjO"
      }
    },
    {
      "cell_type": "code",
      "source": [
        "function orderMyLogic(val) {\n",
        "  if (val < 5) {\n",
        "    return \"Less than 5\";\n",
        "  } else if (val < 10) {\n",
        "    return \"Less than 10\";\n",
        "  } else {\n",
        "    return \"Greater than or equal to 10\";\n",
        "  }\n",
        "}\n",
        "\n",
        "orderMyLogic(7);"
      ],
      "metadata": {
        "id": "uhOgPdI_dcSI"
      },
      "execution_count": null,
      "outputs": []
    },
    {
      "cell_type": "markdown",
      "source": [],
      "metadata": {
        "id": "NIDn_BYadh-f"
      }
    }
  ]
}