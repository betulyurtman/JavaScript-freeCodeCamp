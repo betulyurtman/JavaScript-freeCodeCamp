{
  "nbformat": 4,
  "nbformat_minor": 0,
  "metadata": {
    "colab": {
      "provenance": []
    },
    "kernelspec": {
      "name": "python3",
      "display_name": "Python 3"
    },
    "language_info": {
      "name": "python"
    }
  },
  "cells": [
    {
      "cell_type": "markdown",
      "source": [
        "Create a function timesFive that accepts one argument, multiplies it by 5, and returns the new value."
      ],
      "metadata": {
        "id": "TvoRkePnvaTL"
      }
    },
    {
      "cell_type": "code",
      "source": [
        "function timesFive(num) {\n",
        "  return num * 5;\n",
        "}\n",
        "\n",
        "timesFive(5);"
      ],
      "metadata": {
        "id": "MVVtT4P7vexW"
      },
      "execution_count": null,
      "outputs": []
    },
    {
      "cell_type": "markdown",
      "source": [
        "Using let or const, declare a global variable named myGlobal outside of any function. Initialize it with a value of 10.\n",
        "\n",
        "Inside function fun1, assign 5 to oopsGlobal without using the var, let or const keywords."
      ],
      "metadata": {
        "id": "oOjkU1xgvzKf"
      }
    },
    {
      "cell_type": "code",
      "source": [
        "// Declare the myGlobal variable below this line\n",
        "const myGlobal = 10;\n",
        "\n",
        "function fun1() {\n",
        "  // Assign 5 to oopsGlobal here\n",
        "oopsGlobal = 5\n",
        "}\n",
        "\n",
        "// Only change code above this line\n",
        "\n",
        "function fun2() {\n",
        "  let output = \"\";\n",
        "  if (typeof myGlobal != \"undefined\") {\n",
        "    output += \"myGlobal: \" + myGlobal;\n",
        "  }\n",
        "  if (typeof oopsGlobal != \"undefined\") {\n",
        "    output += \" oopsGlobal: \" + oopsGlobal;\n",
        "  }\n",
        "  console.log(output);\n",
        "}"
      ],
      "metadata": {
        "id": "FBhhTZf6yTc4"
      },
      "execution_count": null,
      "outputs": []
    },
    {
      "cell_type": "markdown",
      "source": [
        "The editor has two console.logs to help you see what is happening. Check the console as you code to see how it changes. Declare a local variable myVar inside myLocalScope and run the tests.\n",
        "\n",
        "Note: The console will still display ReferenceError: myVar is not defined, but this will not cause the tests to fail."
      ],
      "metadata": {
        "id": "np5AQhvnyWdX"
      }
    },
    {
      "cell_type": "code",
      "source": [
        "function myLocalScope() {\n",
        "  // Only change code below this line\n",
        "  const myVar = \"a\";\n",
        "  console.log('inside myLocalScope', myVar);\n",
        "}\n",
        "myLocalScope();\n",
        "\n",
        "// Run and check the console\n",
        "// myVar is not defined outside of myLocalScope\n",
        "console.log('outside myLocalScope', myVar);"
      ],
      "metadata": {
        "id": "z5rgevwLzKbH"
      },
      "execution_count": null,
      "outputs": []
    },
    {
      "cell_type": "markdown",
      "source": [
        "Add a local variable to myOutfit function to override the value of outerWear with the string sweater."
      ],
      "metadata": {
        "id": "W99Zmo4XzdGb"
      }
    },
    {
      "cell_type": "code",
      "source": [
        "// Setup\n",
        "const outerWear = \"T-Shirt\";\n",
        "\n",
        "function myOutfit() {\n",
        "  // Only change code below this line\n",
        "  const outerWear = \"sweater\";\n",
        "  // Only change code above this line\n",
        "  return outerWear;\n",
        "}\n",
        "myOutfit();"
      ],
      "metadata": {
        "id": "FHRtnFAZzogw"
      },
      "execution_count": null,
      "outputs": []
    },
    {
      "cell_type": "markdown",
      "source": [
        "Create a function addFive without any arguments. This function adds 5 to the sum variable, but its returned value is undefined."
      ],
      "metadata": {
        "id": "QtjN8iew0Ooj"
      }
    },
    {
      "cell_type": "code",
      "source": [
        "// Setup\n",
        "let sum = 0;\n",
        "\n",
        "function addThree() {\n",
        "  sum = sum + 3;\n",
        "}\n",
        "\n",
        "// Only change code below this line\n",
        "function addFive() {\n",
        "  sum = sum + 5;\n",
        "}\n",
        "\n",
        "// Only change code above this line\n",
        "\n",
        "addThree();\n",
        "addFive();"
      ],
      "metadata": {
        "id": "RMTz9WXs0oAu"
      },
      "execution_count": null,
      "outputs": []
    },
    {
      "cell_type": "markdown",
      "source": [],
      "metadata": {
        "id": "XaXPuO9f0saN"
      }
    }
  ]
}