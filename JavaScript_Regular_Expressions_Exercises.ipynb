{
  "nbformat": 4,
  "nbformat_minor": 0,
  "metadata": {
    "colab": {
      "provenance": []
    },
    "kernelspec": {
      "name": "python3",
      "display_name": "Python 3"
    },
    "language_info": {
      "name": "python"
    }
  },
  "cells": [
    {
      "cell_type": "markdown",
      "source": [
        "Apply the regex myRegex on the string myString using the .test() method."
      ],
      "metadata": {
        "id": "qS834zfrJhH5"
      }
    },
    {
      "cell_type": "code",
      "execution_count": null,
      "metadata": {
        "id": "7W9_0KM8JLX8"
      },
      "outputs": [],
      "source": [
        "let myString = \"Hello, World!\";\n",
        "let myRegex = /Hello/;\n",
        "let result = myRegex.test(myString); // Change this line"
      ]
    },
    {
      "cell_type": "markdown",
      "source": [
        "Complete the regex waldoRegex to find \"Waldo\" in the string waldoIsHiding with a literal match."
      ],
      "metadata": {
        "id": "GR1oZKkiJh9O"
      }
    },
    {
      "cell_type": "code",
      "source": [
        "let waldoIsHiding = \"Somewhere Waldo is hiding in this text.\";\n",
        "let waldoRegex = /Waldo/; // Change this line\n",
        "let result = waldoRegex.test(waldoIsHiding);"
      ],
      "metadata": {
        "id": "eHgjAtZ6JiFw"
      },
      "execution_count": null,
      "outputs": []
    },
    {
      "cell_type": "markdown",
      "source": [
        "Complete the regex petRegex to match the pets dog, cat, bird, or fish."
      ],
      "metadata": {
        "id": "X47lH2s_JiNl"
      }
    },
    {
      "cell_type": "code",
      "source": [
        "let petString = \"James has a pet cat.\";\n",
        "let petRegex = /dog|cat|bird|fish/; // Change this line\n",
        "let result = petRegex.test(petString);"
      ],
      "metadata": {
        "id": "tvZSshBQJiV2"
      },
      "execution_count": null,
      "outputs": []
    },
    {
      "cell_type": "markdown",
      "source": [
        "\n",
        "Write a regex fccRegex to match freeCodeCamp, no matter its case. Your regex should not match any abbreviations or variations with spaces."
      ],
      "metadata": {
        "id": "cmJt8iGVJibk"
      }
    },
    {
      "cell_type": "code",
      "source": [
        "let myString = \"freeCodeCamp\";\n",
        "let fccRegex = /freeCodeCamp/i; // Change this line\n",
        "let result = fccRegex.test(myString);"
      ],
      "metadata": {
        "id": "6piqc4sQJijw"
      },
      "execution_count": null,
      "outputs": []
    },
    {
      "cell_type": "markdown",
      "source": [
        "Apply the .match() method to extract the string coding."
      ],
      "metadata": {
        "id": "raJ0uDvzJip6"
      }
    },
    {
      "cell_type": "code",
      "source": [
        "let extractStr = \"Extract the word 'coding' from this string.\";\n",
        "let codingRegex = /coding/; // Change this line\n",
        "let result = extractStr.match(codingRegex); // Change this line"
      ],
      "metadata": {
        "id": "-rYiSii4JivS"
      },
      "execution_count": null,
      "outputs": []
    },
    {
      "cell_type": "markdown",
      "source": [
        "Using the regex starRegex, find and extract both Twinkle words from the string twinkleStar.\n",
        "\n",
        "Note\n",
        "You can have multiple flags on your regex like /search/gi"
      ],
      "metadata": {
        "id": "uPwal8rZJi21"
      }
    },
    {
      "cell_type": "code",
      "source": [
        "let twinkleStar = \"Twinkle, twinkle, little star\";\n",
        "let starRegex = /twinkle/gi; // Change this line\n",
        "let result = twinkleStar.match(starRegex); // Change this line"
      ],
      "metadata": {
        "id": "gyqbLrmuJi9r"
      },
      "execution_count": null,
      "outputs": []
    },
    {
      "cell_type": "markdown",
      "source": [
        "Complete the regex unRegex so that it matches the strings run, sun, fun, pun, nun, and bun. Your regex should use the wildcard character."
      ],
      "metadata": {
        "id": "kG-h0-hFJjDn"
      }
    },
    {
      "cell_type": "code",
      "source": [
        "let exampleStr = \"Let's have fun with regular expressions!\";\n",
        "let unRegex = /.un/; // Change this line\n",
        "let result = unRegex.test(exampleStr);"
      ],
      "metadata": {
        "id": "BM8bfmw3JjLZ"
      },
      "execution_count": null,
      "outputs": []
    },
    {
      "cell_type": "markdown",
      "source": [
        "Use a character class with vowels (a, e, i, o, u) in your regex vowelRegex to find all the vowels in the string quoteSample.\n",
        "\n",
        "Note: Be sure to match both upper- and lowercase vowels."
      ],
      "metadata": {
        "id": "b7tDU5Q2JjQo"
      }
    },
    {
      "cell_type": "code",
      "source": [
        "let quoteSample = \"Beware of bugs in the above code; I have only proved it correct, not tried it.\";\n",
        "let vowelRegex = /[aeiou]/gi; // Change this line\n",
        "let result = quoteSample.match(vowelRegex); // Change this line"
      ],
      "metadata": {
        "id": "UFBa9DKyJjXp"
      },
      "execution_count": null,
      "outputs": []
    },
    {
      "cell_type": "markdown",
      "source": [
        "Match all the letters in the string quoteSample.\n",
        "\n",
        "Note: Be sure to match both uppercase and lowercase letters."
      ],
      "metadata": {
        "id": "sCNQxQGUJjec"
      }
    },
    {
      "cell_type": "code",
      "source": [
        "let quoteSample = \"The quick brown fox jumps over the lazy dog.\";\n",
        "let alphabetRegex = /[a-z]/gi; // Change this line\n",
        "let result = quoteSample.match(alphabetRegex); // Change this line"
      ],
      "metadata": {
        "id": "XmR8c-wyJjlC"
      },
      "execution_count": null,
      "outputs": []
    },
    {
      "cell_type": "markdown",
      "source": [
        "Create a single regex that matches a range of letters between h and s, and a range of numbers between 2 and 6. Remember to include the appropriate flags in the regex."
      ],
      "metadata": {
        "id": "Zzw35t_gJjsJ"
      }
    },
    {
      "cell_type": "code",
      "source": [
        "let quoteSample = \"Blueberry 3.141592653s are delicious.\";\n",
        "let myRegex = /[h-s2-6]/ig; // Change this line\n",
        "let result = quoteSample.match(myRegex); // Change this line"
      ],
      "metadata": {
        "id": "egE3kiAlJjyP"
      },
      "execution_count": null,
      "outputs": []
    },
    {
      "cell_type": "markdown",
      "source": [
        "Create a single regex that matches all characters that are not a number or a vowel. Remember to include the appropriate flags in the regex."
      ],
      "metadata": {
        "id": "bBfvNe_SJj58"
      }
    },
    {
      "cell_type": "code",
      "source": [
        "let quoteSample = \"3 blind mice.\";\n",
        "let myRegex = /[^aeiou^0-9]/ig; // Change this line\n",
        "let result = quoteSample.match(myRegex); // Change this line"
      ],
      "metadata": {
        "id": "nidYsl6HJj_x"
      },
      "execution_count": null,
      "outputs": []
    },
    {
      "cell_type": "markdown",
      "source": [
        "You want to find matches when the letter s occurs one or more times in Mississippi. Write a regex that uses the + sign."
      ],
      "metadata": {
        "id": "R0XXdcKXJkIJ"
      }
    },
    {
      "cell_type": "code",
      "source": [
        "let difficultSpelling = \"Mississippi\";\n",
        "let myRegex = /s+/g; // Change this line\n",
        "let result = difficultSpelling.match(myRegex);"
      ],
      "metadata": {
        "id": "zGmdbd7MJkOy"
      },
      "execution_count": null,
      "outputs": []
    },
    {
      "cell_type": "markdown",
      "source": [
        "For this challenge, chewieQuote has been initialized as the string Aaaaaaaaaaaaaaaarrrgh! behind the scenes. Create a regex chewieRegex that uses the * character to match an uppercase A character immediately followed by zero or more lowercase a characters in chewieQuote. Your regex does not need flags or character classes, and it should not match any of the other quotes."
      ],
      "metadata": {
        "id": "xkgAYFgqJkWM"
      }
    },
    {
      "cell_type": "code",
      "source": [
        "let chewieRegex = /Aa*/; // Change this line\n",
        "\n",
        "let result = chewieQuote.match(chewieRegex);"
      ],
      "metadata": {
        "id": "k2d8ACMwJkdo"
      },
      "execution_count": null,
      "outputs": []
    },
    {
      "cell_type": "markdown",
      "source": [],
      "metadata": {
        "id": "7C9LFftGJkjf"
      }
    },
    {
      "cell_type": "code",
      "source": [],
      "metadata": {
        "id": "kOUIEYFmJkqc"
      },
      "execution_count": null,
      "outputs": []
    },
    {
      "cell_type": "markdown",
      "source": [],
      "metadata": {
        "id": "nHV6q7xfJkxV"
      }
    },
    {
      "cell_type": "code",
      "source": [],
      "metadata": {
        "id": "ilYkCOa6Jk31"
      },
      "execution_count": null,
      "outputs": []
    },
    {
      "cell_type": "markdown",
      "source": [],
      "metadata": {
        "id": "XX_IywkVJk_f"
      }
    },
    {
      "cell_type": "code",
      "source": [],
      "metadata": {
        "id": "TaHWUug8JlGg"
      },
      "execution_count": null,
      "outputs": []
    },
    {
      "cell_type": "markdown",
      "source": [],
      "metadata": {
        "id": "YVfU5TGcJlSD"
      }
    },
    {
      "cell_type": "code",
      "source": [],
      "metadata": {
        "id": "QPFLh8uUJlUm"
      },
      "execution_count": null,
      "outputs": []
    },
    {
      "cell_type": "markdown",
      "source": [],
      "metadata": {
        "id": "1e19kwkZJmtY"
      }
    },
    {
      "cell_type": "code",
      "source": [],
      "metadata": {
        "id": "EVx_ERThJm0Z"
      },
      "execution_count": null,
      "outputs": []
    },
    {
      "cell_type": "markdown",
      "source": [],
      "metadata": {
        "id": "UUVQUoftJm9O"
      }
    },
    {
      "cell_type": "code",
      "source": [],
      "metadata": {
        "id": "otXFOwMZJnFa"
      },
      "execution_count": null,
      "outputs": []
    },
    {
      "cell_type": "markdown",
      "source": [],
      "metadata": {
        "id": "DHDeZPS0JnPI"
      }
    },
    {
      "cell_type": "code",
      "source": [],
      "metadata": {
        "id": "7JCD5CgmJnWK"
      },
      "execution_count": null,
      "outputs": []
    },
    {
      "cell_type": "markdown",
      "source": [],
      "metadata": {
        "id": "NtgcwfzCJnc8"
      }
    },
    {
      "cell_type": "code",
      "source": [],
      "metadata": {
        "id": "2NTJtvNDJnk6"
      },
      "execution_count": null,
      "outputs": []
    }
  ]
}