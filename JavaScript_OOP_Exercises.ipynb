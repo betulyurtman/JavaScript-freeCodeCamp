{
  "nbformat": 4,
  "nbformat_minor": 0,
  "metadata": {
    "colab": {
      "provenance": []
    },
    "kernelspec": {
      "name": "python3",
      "display_name": "Python 3"
    },
    "language_info": {
      "name": "python"
    }
  },
  "cells": [
    {
      "cell_type": "markdown",
      "source": [
        "Create a dog object with name and numLegs properties, and set them to a string and a number, respectively.\n",
        "\n"
      ],
      "metadata": {
        "id": "VbhK_WgJdTA3"
      }
    },
    {
      "cell_type": "code",
      "execution_count": null,
      "metadata": {
        "id": "lgM-2E30VNHr"
      },
      "outputs": [],
      "source": [
        "let dog = {\n",
        "  name: \"Dog\",\n",
        "  numLegs: 4\n",
        "};"
      ]
    },
    {
      "cell_type": "markdown",
      "source": [
        "Print both properties of the dog object to your console.\n",
        "\n"
      ],
      "metadata": {
        "id": "bzbS_ApFdafN"
      }
    },
    {
      "cell_type": "code",
      "source": [
        "let dog = {\n",
        "  name: \"Spot\",\n",
        "  numLegs: 4\n",
        "};\n",
        "// Only change code below this line\n",
        "console.log(dog.name);\n",
        "console.log(dog.numLegs);"
      ],
      "metadata": {
        "id": "NB1ivwwJdapu"
      },
      "execution_count": null,
      "outputs": []
    },
    {
      "cell_type": "markdown",
      "source": [
        "Using the dog object, give it a method called sayLegs. The method should return the sentence This dog has 4 legs.\n",
        "\n"
      ],
      "metadata": {
        "id": "j6Xk_UWndavC"
      }
    },
    {
      "cell_type": "code",
      "source": [
        "let dog = {\n",
        "  name: \"Spot\",\n",
        "  numLegs: 4,\n",
        "  sayLegs: function() {return \"This dog has \" + dog.numLegs + \" legs.\";}\n",
        "};\n",
        "\n",
        "dog.sayLegs();"
      ],
      "metadata": {
        "id": "2TFu10Ifda0Z"
      },
      "execution_count": null,
      "outputs": []
    },
    {
      "cell_type": "markdown",
      "source": [
        "Modify the dog.sayLegs method to remove any references to dog. Use the duck example for guidance.\n",
        "\n"
      ],
      "metadata": {
        "id": "UEgAW_sNda6R"
      }
    },
    {
      "cell_type": "code",
      "source": [
        "let dog = {\n",
        "  name: \"Spot\",\n",
        "  numLegs: 4,\n",
        "  sayLegs: function() {return \"This dog has \" + this.numLegs + \" legs.\";}\n",
        "};\n",
        "\n",
        "dog.sayLegs();"
      ],
      "metadata": {
        "id": "9m3Tyi_jdbAh"
      },
      "execution_count": null,
      "outputs": []
    },
    {
      "cell_type": "markdown",
      "source": [
        "Create a constructor, Dog, with properties name, color, and numLegs that are set to a string, a string, and a number, respectively.\n",
        "\n"
      ],
      "metadata": {
        "id": "AshXZfFsdbFu"
      }
    },
    {
      "cell_type": "code",
      "source": [
        "function Dog() {\n",
        "  this.name = \"Dog\";\n",
        "  this.color = \"Orange\";\n",
        "  this.numLegs = 4;\n",
        "}"
      ],
      "metadata": {
        "id": "vTmAtDxGdbMi"
      },
      "execution_count": null,
      "outputs": []
    },
    {
      "cell_type": "markdown",
      "source": [
        "Use the Dog constructor from the last lesson to create a new instance of Dog, assigning it to a variable hound.\n",
        "\n"
      ],
      "metadata": {
        "id": "-_keuRBNdbSf"
      }
    },
    {
      "cell_type": "code",
      "source": [
        "function Dog() {\n",
        "  this.name = \"Rupert\";\n",
        "  this.color = \"brown\";\n",
        "  this.numLegs = 4;\n",
        "}\n",
        "// Only change code below this line\n",
        "let hound = new Dog();"
      ],
      "metadata": {
        "id": "8trvUH7WdbZ8"
      },
      "execution_count": null,
      "outputs": []
    },
    {
      "cell_type": "markdown",
      "source": [
        "Create another Dog constructor. This time, set it up to take the parameters name and color, and have the property numLegs fixed at 4. Then create a new Dog saved in a variable terrier. Pass it two strings as arguments for the name and color properties."
      ],
      "metadata": {
        "id": "P6jj1WfVdbgc"
      }
    },
    {
      "cell_type": "code",
      "source": [
        "function Dog(name, color) {\n",
        "  this.name = name;\n",
        "  this.color = color;\n",
        "  this.numLegs = 4;\n",
        "}\n",
        "\n",
        "let terrier = new Dog();\n",
        "\n",
        "terrier.name = \"Jack\";\n",
        "terrier.color = \"black\";"
      ],
      "metadata": {
        "id": "Z8UaA_GVdbpA"
      },
      "execution_count": null,
      "outputs": []
    },
    {
      "cell_type": "markdown",
      "source": [
        "Create a new instance of the House constructor, calling it myHouse and passing a number of bedrooms. Then, use instanceof to verify that it is an instance of House.\n",
        "\n"
      ],
      "metadata": {
        "id": "kRvPCr1Kdbu5"
      }
    },
    {
      "cell_type": "code",
      "source": [
        "function House(numBedrooms) {\n",
        "  this.numBedrooms = numBedrooms;\n",
        "}\n",
        "\n",
        "// Only change code below this line\n",
        "let myHouse = new House(2);\n",
        "\n",
        "myHouse instanceof House;"
      ],
      "metadata": {
        "id": "wF9xax6bdbzn"
      },
      "execution_count": null,
      "outputs": []
    },
    {
      "cell_type": "markdown",
      "source": [],
      "metadata": {
        "id": "OFnJq10Sdb7i"
      }
    },
    {
      "cell_type": "code",
      "source": [],
      "metadata": {
        "id": "iTjZ30qpdcBQ"
      },
      "execution_count": null,
      "outputs": []
    },
    {
      "cell_type": "markdown",
      "source": [],
      "metadata": {
        "id": "ByeZA9YAdcH0"
      }
    },
    {
      "cell_type": "code",
      "source": [],
      "metadata": {
        "id": "fYudkEAZdcN0"
      },
      "execution_count": null,
      "outputs": []
    },
    {
      "cell_type": "markdown",
      "source": [],
      "metadata": {
        "id": "bzHLFC64dcSj"
      }
    },
    {
      "cell_type": "code",
      "source": [],
      "metadata": {
        "id": "rDx0qMVudcZ2"
      },
      "execution_count": null,
      "outputs": []
    },
    {
      "cell_type": "markdown",
      "source": [],
      "metadata": {
        "id": "ToScenOZdcg9"
      }
    },
    {
      "cell_type": "code",
      "source": [],
      "metadata": {
        "id": "ODkkp7Nmdcni"
      },
      "execution_count": null,
      "outputs": []
    },
    {
      "cell_type": "markdown",
      "source": [],
      "metadata": {
        "id": "Z2VoGyDfdctb"
      }
    },
    {
      "cell_type": "code",
      "source": [],
      "metadata": {
        "id": "xoTiSgnKdc1g"
      },
      "execution_count": null,
      "outputs": []
    }
  ]
}