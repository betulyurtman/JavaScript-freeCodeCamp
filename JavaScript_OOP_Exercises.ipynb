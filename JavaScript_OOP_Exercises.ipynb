{
  "nbformat": 4,
  "nbformat_minor": 0,
  "metadata": {
    "colab": {
      "provenance": []
    },
    "kernelspec": {
      "name": "python3",
      "display_name": "Python 3"
    },
    "language_info": {
      "name": "python"
    }
  },
  "cells": [
    {
      "cell_type": "markdown",
      "source": [
        "Create a dog object with name and numLegs properties, and set them to a string and a number, respectively.\n",
        "\n"
      ],
      "metadata": {
        "id": "VbhK_WgJdTA3"
      }
    },
    {
      "cell_type": "code",
      "execution_count": null,
      "metadata": {
        "id": "lgM-2E30VNHr"
      },
      "outputs": [],
      "source": [
        "let dog = {\n",
        "  name: \"Dog\",\n",
        "  numLegs: 4\n",
        "};"
      ]
    },
    {
      "cell_type": "markdown",
      "source": [],
      "metadata": {
        "id": "bzbS_ApFdafN"
      }
    },
    {
      "cell_type": "code",
      "source": [],
      "metadata": {
        "id": "NB1ivwwJdapu"
      },
      "execution_count": null,
      "outputs": []
    },
    {
      "cell_type": "markdown",
      "source": [],
      "metadata": {
        "id": "j6Xk_UWndavC"
      }
    },
    {
      "cell_type": "code",
      "source": [],
      "metadata": {
        "id": "2TFu10Ifda0Z"
      },
      "execution_count": null,
      "outputs": []
    },
    {
      "cell_type": "markdown",
      "source": [],
      "metadata": {
        "id": "UEgAW_sNda6R"
      }
    },
    {
      "cell_type": "code",
      "source": [],
      "metadata": {
        "id": "9m3Tyi_jdbAh"
      },
      "execution_count": null,
      "outputs": []
    },
    {
      "cell_type": "markdown",
      "source": [],
      "metadata": {
        "id": "AshXZfFsdbFu"
      }
    },
    {
      "cell_type": "code",
      "source": [],
      "metadata": {
        "id": "vTmAtDxGdbMi"
      },
      "execution_count": null,
      "outputs": []
    },
    {
      "cell_type": "markdown",
      "source": [],
      "metadata": {
        "id": "-_keuRBNdbSf"
      }
    },
    {
      "cell_type": "code",
      "source": [],
      "metadata": {
        "id": "8trvUH7WdbZ8"
      },
      "execution_count": null,
      "outputs": []
    },
    {
      "cell_type": "markdown",
      "source": [],
      "metadata": {
        "id": "P6jj1WfVdbgc"
      }
    },
    {
      "cell_type": "code",
      "source": [],
      "metadata": {
        "id": "Z8UaA_GVdbpA"
      },
      "execution_count": null,
      "outputs": []
    },
    {
      "cell_type": "markdown",
      "source": [],
      "metadata": {
        "id": "kRvPCr1Kdbu5"
      }
    },
    {
      "cell_type": "code",
      "source": [],
      "metadata": {
        "id": "wF9xax6bdbzn"
      },
      "execution_count": null,
      "outputs": []
    },
    {
      "cell_type": "markdown",
      "source": [],
      "metadata": {
        "id": "OFnJq10Sdb7i"
      }
    },
    {
      "cell_type": "code",
      "source": [],
      "metadata": {
        "id": "iTjZ30qpdcBQ"
      },
      "execution_count": null,
      "outputs": []
    },
    {
      "cell_type": "markdown",
      "source": [],
      "metadata": {
        "id": "ByeZA9YAdcH0"
      }
    },
    {
      "cell_type": "code",
      "source": [],
      "metadata": {
        "id": "fYudkEAZdcN0"
      },
      "execution_count": null,
      "outputs": []
    },
    {
      "cell_type": "markdown",
      "source": [],
      "metadata": {
        "id": "bzHLFC64dcSj"
      }
    },
    {
      "cell_type": "code",
      "source": [],
      "metadata": {
        "id": "rDx0qMVudcZ2"
      },
      "execution_count": null,
      "outputs": []
    },
    {
      "cell_type": "markdown",
      "source": [],
      "metadata": {
        "id": "ToScenOZdcg9"
      }
    },
    {
      "cell_type": "code",
      "source": [],
      "metadata": {
        "id": "ODkkp7Nmdcni"
      },
      "execution_count": null,
      "outputs": []
    },
    {
      "cell_type": "markdown",
      "source": [],
      "metadata": {
        "id": "Z2VoGyDfdctb"
      }
    },
    {
      "cell_type": "code",
      "source": [],
      "metadata": {
        "id": "xoTiSgnKdc1g"
      },
      "execution_count": null,
      "outputs": []
    }
  ]
}