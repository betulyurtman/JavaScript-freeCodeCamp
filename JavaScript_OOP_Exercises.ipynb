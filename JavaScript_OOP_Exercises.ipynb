{
  "nbformat": 4,
  "nbformat_minor": 0,
  "metadata": {
    "colab": {
      "provenance": []
    },
    "kernelspec": {
      "name": "python3",
      "display_name": "Python 3"
    },
    "language_info": {
      "name": "python"
    }
  },
  "cells": [
    {
      "cell_type": "markdown",
      "source": [
        "Create a dog object with name and numLegs properties, and set them to a string and a number, respectively.\n",
        "\n"
      ],
      "metadata": {
        "id": "VbhK_WgJdTA3"
      }
    },
    {
      "cell_type": "code",
      "execution_count": null,
      "metadata": {
        "id": "lgM-2E30VNHr"
      },
      "outputs": [],
      "source": [
        "let dog = {\n",
        "  name: \"Dog\",\n",
        "  numLegs: 4\n",
        "};"
      ]
    },
    {
      "cell_type": "markdown",
      "source": [
        "Print both properties of the dog object to your console.\n",
        "\n"
      ],
      "metadata": {
        "id": "bzbS_ApFdafN"
      }
    },
    {
      "cell_type": "code",
      "source": [
        "let dog = {\n",
        "  name: \"Spot\",\n",
        "  numLegs: 4\n",
        "};\n",
        "// Only change code below this line\n",
        "console.log(dog.name);\n",
        "console.log(dog.numLegs);"
      ],
      "metadata": {
        "id": "NB1ivwwJdapu"
      },
      "execution_count": null,
      "outputs": []
    },
    {
      "cell_type": "markdown",
      "source": [
        "Using the dog object, give it a method called sayLegs. The method should return the sentence This dog has 4 legs.\n",
        "\n"
      ],
      "metadata": {
        "id": "j6Xk_UWndavC"
      }
    },
    {
      "cell_type": "code",
      "source": [
        "let dog = {\n",
        "  name: \"Spot\",\n",
        "  numLegs: 4,\n",
        "  sayLegs: function() {return \"This dog has \" + dog.numLegs + \" legs.\";}\n",
        "};\n",
        "\n",
        "dog.sayLegs();"
      ],
      "metadata": {
        "id": "2TFu10Ifda0Z"
      },
      "execution_count": null,
      "outputs": []
    },
    {
      "cell_type": "markdown",
      "source": [
        "Modify the dog.sayLegs method to remove any references to dog. Use the duck example for guidance.\n",
        "\n"
      ],
      "metadata": {
        "id": "UEgAW_sNda6R"
      }
    },
    {
      "cell_type": "code",
      "source": [
        "let dog = {\n",
        "  name: \"Spot\",\n",
        "  numLegs: 4,\n",
        "  sayLegs: function() {return \"This dog has \" + this.numLegs + \" legs.\";}\n",
        "};\n",
        "\n",
        "dog.sayLegs();"
      ],
      "metadata": {
        "id": "9m3Tyi_jdbAh"
      },
      "execution_count": null,
      "outputs": []
    },
    {
      "cell_type": "markdown",
      "source": [
        "Create a constructor, Dog, with properties name, color, and numLegs that are set to a string, a string, and a number, respectively.\n",
        "\n"
      ],
      "metadata": {
        "id": "AshXZfFsdbFu"
      }
    },
    {
      "cell_type": "code",
      "source": [
        "function Dog() {\n",
        "  this.name = \"Dog\";\n",
        "  this.color = \"Orange\";\n",
        "  this.numLegs = 4;\n",
        "}"
      ],
      "metadata": {
        "id": "vTmAtDxGdbMi"
      },
      "execution_count": null,
      "outputs": []
    },
    {
      "cell_type": "markdown",
      "source": [
        "Use the Dog constructor from the last lesson to create a new instance of Dog, assigning it to a variable hound.\n",
        "\n"
      ],
      "metadata": {
        "id": "-_keuRBNdbSf"
      }
    },
    {
      "cell_type": "code",
      "source": [
        "function Dog() {\n",
        "  this.name = \"Rupert\";\n",
        "  this.color = \"brown\";\n",
        "  this.numLegs = 4;\n",
        "}\n",
        "// Only change code below this line\n",
        "let hound = new Dog();"
      ],
      "metadata": {
        "id": "8trvUH7WdbZ8"
      },
      "execution_count": null,
      "outputs": []
    },
    {
      "cell_type": "markdown",
      "source": [
        "Create another Dog constructor. This time, set it up to take the parameters name and color, and have the property numLegs fixed at 4. Then create a new Dog saved in a variable terrier. Pass it two strings as arguments for the name and color properties."
      ],
      "metadata": {
        "id": "P6jj1WfVdbgc"
      }
    },
    {
      "cell_type": "code",
      "source": [
        "function Dog(name, color) {\n",
        "  this.name = name;\n",
        "  this.color = color;\n",
        "  this.numLegs = 4;\n",
        "}\n",
        "\n",
        "let terrier = new Dog();\n",
        "\n",
        "terrier.name = \"Jack\";\n",
        "terrier.color = \"black\";"
      ],
      "metadata": {
        "id": "Z8UaA_GVdbpA"
      },
      "execution_count": null,
      "outputs": []
    },
    {
      "cell_type": "markdown",
      "source": [
        "Create a new instance of the House constructor, calling it myHouse and passing a number of bedrooms. Then, use instanceof to verify that it is an instance of House.\n",
        "\n"
      ],
      "metadata": {
        "id": "kRvPCr1Kdbu5"
      }
    },
    {
      "cell_type": "code",
      "source": [
        "function House(numBedrooms) {\n",
        "  this.numBedrooms = numBedrooms;\n",
        "}\n",
        "\n",
        "// Only change code below this line\n",
        "let myHouse = new House(2);\n",
        "\n",
        "myHouse instanceof House;"
      ],
      "metadata": {
        "id": "wF9xax6bdbzn"
      },
      "execution_count": null,
      "outputs": []
    },
    {
      "cell_type": "markdown",
      "source": [
        "Add the own properties of canary to the array ownProps.\n",
        "\n"
      ],
      "metadata": {
        "id": "OFnJq10Sdb7i"
      }
    },
    {
      "cell_type": "code",
      "source": [
        "function Bird(name) {\n",
        "  this.name = name;\n",
        "  this.numLegs = 2;\n",
        "}\n",
        "\n",
        "let canary = new Bird(\"Tweety\");\n",
        "let ownProps = [];\n",
        "\n",
        "// Only change code below this line\n",
        "\n",
        "for (let property in canary) {\n",
        "  if(canary.hasOwnProperty(property)) {\n",
        "    ownProps.push(property);\n",
        "  }\n",
        "}\n",
        "\n",
        "console.log(ownProps);"
      ],
      "metadata": {
        "id": "iTjZ30qpdcBQ"
      },
      "execution_count": null,
      "outputs": []
    },
    {
      "cell_type": "markdown",
      "source": [
        "Add a numLegs property to the prototype of Dog.\n",
        "\n"
      ],
      "metadata": {
        "id": "ByeZA9YAdcH0"
      }
    },
    {
      "cell_type": "code",
      "source": [
        "function Dog(name) {\n",
        "  this.name = name;\n",
        "}\n",
        "\n",
        "// Only change code above this line\n",
        "let beagle = new Dog(\"Snoopy\");\n",
        "\n",
        "Dog.prototype.numLegs = 2;"
      ],
      "metadata": {
        "id": "fYudkEAZdcN0"
      },
      "execution_count": null,
      "outputs": []
    },
    {
      "cell_type": "markdown",
      "source": [
        "Add all of the own properties of beagle to the array ownProps. Add all of the prototype properties of Dog to the array prototypeProps."
      ],
      "metadata": {
        "id": "bzHLFC64dcSj"
      }
    },
    {
      "cell_type": "code",
      "source": [
        "function Dog(name) {\n",
        "  this.name = name;\n",
        "}\n",
        "\n",
        "Dog.prototype.numLegs = 4;\n",
        "\n",
        "let beagle = new Dog(\"Snoopy\");\n",
        "\n",
        "let ownProps = [];\n",
        "let prototypeProps = [];\n",
        "\n",
        "// Only change code below this line\n",
        "for (let property in beagle) {\n",
        "  if (beagle.hasOwnProperty(property)) {\n",
        "    ownProps.push(property);\n",
        "  } else {\n",
        "    prototypeProps.push(property);\n",
        "  }\n",
        "}"
      ],
      "metadata": {
        "id": "rDx0qMVudcZ2"
      },
      "execution_count": null,
      "outputs": []
    },
    {
      "cell_type": "markdown",
      "source": [
        "Write a joinDogFraternity function that takes a candidate parameter and, using the constructor property, return true if the candidate is a Dog, otherwise return false."
      ],
      "metadata": {
        "id": "ToScenOZdcg9"
      }
    },
    {
      "cell_type": "code",
      "source": [
        "function Dog(name) {\n",
        "  this.name = name;\n",
        "}\n",
        "\n",
        "// Only change code below this line\n",
        "function joinDogFraternity(candidate) {\n",
        "  if (candidate.constructor === Dog) {\n",
        "    return true;\n",
        "  } else  {\n",
        "    return false;\n",
        "  }\n",
        "}"
      ],
      "metadata": {
        "id": "ODkkp7Nmdcni"
      },
      "execution_count": null,
      "outputs": []
    },
    {
      "cell_type": "markdown",
      "source": [
        "Add the property numLegs and the two methods eat() and describe() to the prototype of Dog by setting the prototype to a new object.\n",
        "\n"
      ],
      "metadata": {
        "id": "Z2VoGyDfdctb"
      }
    },
    {
      "cell_type": "code",
      "source": [
        "function Dog(name) {\n",
        "  this.name = name;\n",
        "}\n",
        "\n",
        "Dog.prototype = {\n",
        "  // Only change code below this line\n",
        "  numLegs: 2, \n",
        "  eat: function() {\n",
        "    console.log(\"nom nom nom\");\n",
        "  },\n",
        "  describe: function() {\n",
        "    console.log(\"My name is \" + this.name);\n",
        "  }\n",
        "};"
      ],
      "metadata": {
        "id": "xoTiSgnKdc1g"
      },
      "execution_count": null,
      "outputs": []
    },
    {
      "cell_type": "markdown",
      "source": [
        "Define the constructor property on the Dog prototype."
      ],
      "metadata": {
        "id": "w8UkiPtJtuqX"
      }
    },
    {
      "cell_type": "code",
      "source": [
        "function Dog(name) {\n",
        "  this.name = name;\n",
        "}\n",
        "\n",
        "// Only change code below this line\n",
        "Dog.prototype = {\n",
        "  constructor: Dog,\n",
        "  numLegs: 4,\n",
        "  eat: function() {\n",
        "    console.log(\"nom nom nom\");\n",
        "  },\n",
        "  describe: function() {\n",
        "    console.log(\"My name is \" + this.name);\n",
        "  }\n",
        "};"
      ],
      "metadata": {
        "id": "fZmAGsd0tuzm"
      },
      "execution_count": null,
      "outputs": []
    },
    {
      "cell_type": "markdown",
      "source": [
        "Use isPrototypeOf to check the prototype of beagle."
      ],
      "metadata": {
        "id": "CuARyEaXtu2r"
      }
    },
    {
      "cell_type": "code",
      "source": [
        "function Dog(name) {\n",
        "  this.name = name;\n",
        "}\n",
        "\n",
        "let beagle = new Dog(\"Snoopy\");\n",
        "\n",
        "// Only change code below this line\n",
        "\n",
        "Dog.prototype.isPrototypeOf(beagle);"
      ],
      "metadata": {
        "id": "h9L-_-QHtu-0"
      },
      "execution_count": null,
      "outputs": []
    },
    {
      "cell_type": "markdown",
      "source": [],
      "metadata": {
        "id": "svyozSsttvEI"
      }
    },
    {
      "cell_type": "code",
      "source": [],
      "metadata": {
        "id": "TntsA2GotvL_"
      },
      "execution_count": null,
      "outputs": []
    },
    {
      "cell_type": "markdown",
      "source": [],
      "metadata": {
        "id": "BECbxlD7tvST"
      }
    },
    {
      "cell_type": "code",
      "source": [],
      "metadata": {
        "id": "E4jZ6pXatvaS"
      },
      "execution_count": null,
      "outputs": []
    },
    {
      "cell_type": "markdown",
      "source": [],
      "metadata": {
        "id": "H1qYoOt6tvfy"
      }
    },
    {
      "cell_type": "code",
      "source": [],
      "metadata": {
        "id": "RB2V-owKtvnH"
      },
      "execution_count": null,
      "outputs": []
    },
    {
      "cell_type": "markdown",
      "source": [],
      "metadata": {
        "id": "GV2dUJNitvwB"
      }
    },
    {
      "cell_type": "code",
      "source": [],
      "metadata": {
        "id": "xTXlNGV-tv31"
      },
      "execution_count": null,
      "outputs": []
    },
    {
      "cell_type": "markdown",
      "source": [],
      "metadata": {
        "id": "loocq2GRtv87"
      }
    },
    {
      "cell_type": "code",
      "source": [],
      "metadata": {
        "id": "bDFl-h-YtwBs"
      },
      "execution_count": null,
      "outputs": []
    }
  ]
}