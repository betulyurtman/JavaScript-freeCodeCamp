{
  "nbformat": 4,
  "nbformat_minor": 0,
  "metadata": {
    "colab": {
      "provenance": []
    },
    "kernelspec": {
      "name": "python3",
      "display_name": "Python 3"
    },
    "language_info": {
      "name": "python"
    }
  },
  "cells": [
    {
      "cell_type": "markdown",
      "source": [
        "Use the console.log() method to print the value of the variable a where noted in the code."
      ],
      "metadata": {
        "id": "_Kers0YnQP5f"
      }
    },
    {
      "cell_type": "code",
      "execution_count": null,
      "metadata": {
        "id": "B_SDx2hqMir4"
      },
      "outputs": [],
      "source": [
        "let a = 5;\n",
        "let b = 1;\n",
        "a++;\n",
        "// Only change code below this line\n",
        "console.log(a)\n",
        "\n",
        "let sumAB = a + b;\n",
        "console.log(sumAB);"
      ]
    },
    {
      "cell_type": "markdown",
      "source": [
        "First, open your browser console so you can see the logs. To do that, you can right-click the freeCodeCamp navigation bar at the top and click inspect on most browsers. Then find the console tab in the window that opens.\n",
        "\n",
        "After that, use console.log to log the output variable. View the two consoles to see the log. Finally, use console.clear after your log to clear the browser console. View the difference in the two consoles.\n",
        "\n"
      ],
      "metadata": {
        "id": "E9wqYWJIQQ0b"
      }
    },
    {
      "cell_type": "code",
      "source": [
        "let output = \"Get this to show once in the freeCodeCamp console and not at all in the browser console\";\n",
        "\n",
        "console.log(output)\n",
        "\n",
        "console.clear()"
      ],
      "metadata": {
        "id": "K6m6Jad4QQ86"
      },
      "execution_count": null,
      "outputs": []
    },
    {
      "cell_type": "markdown",
      "source": [
        "Add two console.log() statements to check the typeof each of the two variables seven and three in the code."
      ],
      "metadata": {
        "id": "7oTRa5qQQRCX"
      }
    },
    {
      "cell_type": "code",
      "source": [
        "let seven = 7;\n",
        "let three = \"3\";\n",
        "console.log(seven + three);\n",
        "// Only change code below this line\n",
        "console.log(typeof seven);\n",
        "console.log(typeof three);"
      ],
      "metadata": {
        "id": "n60Rt-9XQRJf"
      },
      "execution_count": null,
      "outputs": []
    },
    {
      "cell_type": "markdown",
      "source": [
        "Fix the two spelling errors in the code so the netWorkingCapital calculation works.\n",
        "\n"
      ],
      "metadata": {
        "id": "sy9QkB8VQRRA"
      }
    },
    {
      "cell_type": "code",
      "source": [
        "let receivables = 10;\n",
        "let payables = 8;\n",
        "let netWorkingCapital = receivables - payables;\n",
        "console.log(`Net working capital is: ${netWorkingCapital}`);"
      ],
      "metadata": {
        "id": "z28Vl_83QRVm"
      },
      "execution_count": null,
      "outputs": []
    },
    {
      "cell_type": "markdown",
      "source": [
        "Fix the two pair errors in the code."
      ],
      "metadata": {
        "id": "5iPHisMiQRb1"
      }
    },
    {
      "cell_type": "code",
      "source": [
        "let myArray = [1, 2, 3];\n",
        "let arraySum = myArray.reduce((previous, current) =>  previous + current);\n",
        "console.log(`Sum of array values is: ${arraySum}`);"
      ],
      "metadata": {
        "id": "smLACHi2QRgt"
      },
      "execution_count": null,
      "outputs": []
    },
    {
      "cell_type": "markdown",
      "source": [
        "Fix the string so it either uses different quotes for the href value, or escape the existing ones. Keep the double quote marks around the entire string."
      ],
      "metadata": {
        "id": "WU0IZOAvQRnJ"
      }
    },
    {
      "cell_type": "code",
      "source": [],
      "metadata": {
        "id": "ASXhmKxQQRrl"
      },
      "execution_count": null,
      "outputs": []
    },
    {
      "cell_type": "markdown",
      "source": [],
      "metadata": {
        "id": "syXqr4ogQRw6"
      }
    },
    {
      "cell_type": "code",
      "source": [],
      "metadata": {
        "id": "GTpmpL17QRzy"
      },
      "execution_count": null,
      "outputs": []
    },
    {
      "cell_type": "markdown",
      "source": [],
      "metadata": {
        "id": "FUjs4tBRQR5C"
      }
    },
    {
      "cell_type": "code",
      "source": [],
      "metadata": {
        "id": "TANBoItcQR-w"
      },
      "execution_count": null,
      "outputs": []
    },
    {
      "cell_type": "markdown",
      "source": [],
      "metadata": {
        "id": "0XMQXg2TQSP6"
      }
    },
    {
      "cell_type": "code",
      "source": [],
      "metadata": {
        "id": "415aS4ujQSZ3"
      },
      "execution_count": null,
      "outputs": []
    }
  ]
}