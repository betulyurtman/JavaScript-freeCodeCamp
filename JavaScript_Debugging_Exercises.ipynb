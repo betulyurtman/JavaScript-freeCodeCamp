{
  "nbformat": 4,
  "nbformat_minor": 0,
  "metadata": {
    "colab": {
      "provenance": []
    },
    "kernelspec": {
      "name": "python3",
      "display_name": "Python 3"
    },
    "language_info": {
      "name": "python"
    }
  },
  "cells": [
    {
      "cell_type": "markdown",
      "source": [
        "Use the console.log() method to print the value of the variable a where noted in the code."
      ],
      "metadata": {
        "id": "_Kers0YnQP5f"
      }
    },
    {
      "cell_type": "code",
      "execution_count": null,
      "metadata": {
        "id": "B_SDx2hqMir4"
      },
      "outputs": [],
      "source": [
        "let a = 5;\n",
        "let b = 1;\n",
        "a++;\n",
        "// Only change code below this line\n",
        "console.log(a)\n",
        "\n",
        "let sumAB = a + b;\n",
        "console.log(sumAB);"
      ]
    },
    {
      "cell_type": "markdown",
      "source": [
        "First, open your browser console so you can see the logs. To do that, you can right-click the freeCodeCamp navigation bar at the top and click inspect on most browsers. Then find the console tab in the window that opens.\n",
        "\n",
        "After that, use console.log to log the output variable. View the two consoles to see the log. Finally, use console.clear after your log to clear the browser console. View the difference in the two consoles.\n",
        "\n"
      ],
      "metadata": {
        "id": "E9wqYWJIQQ0b"
      }
    },
    {
      "cell_type": "code",
      "source": [
        "let output = \"Get this to show once in the freeCodeCamp console and not at all in the browser console\";\n",
        "\n",
        "console.log(output)\n",
        "\n",
        "console.clear()"
      ],
      "metadata": {
        "id": "K6m6Jad4QQ86"
      },
      "execution_count": null,
      "outputs": []
    },
    {
      "cell_type": "markdown",
      "source": [
        "Add two console.log() statements to check the typeof each of the two variables seven and three in the code."
      ],
      "metadata": {
        "id": "7oTRa5qQQRCX"
      }
    },
    {
      "cell_type": "code",
      "source": [
        "let seven = 7;\n",
        "let three = \"3\";\n",
        "console.log(seven + three);\n",
        "// Only change code below this line\n",
        "console.log(typeof seven);\n",
        "console.log(typeof three);"
      ],
      "metadata": {
        "id": "n60Rt-9XQRJf"
      },
      "execution_count": null,
      "outputs": []
    },
    {
      "cell_type": "markdown",
      "source": [
        "Fix the two spelling errors in the code so the netWorkingCapital calculation works.\n",
        "\n"
      ],
      "metadata": {
        "id": "sy9QkB8VQRRA"
      }
    },
    {
      "cell_type": "code",
      "source": [
        "let receivables = 10;\n",
        "let payables = 8;\n",
        "let netWorkingCapital = receivables - payables;\n",
        "console.log(`Net working capital is: ${netWorkingCapital}`);"
      ],
      "metadata": {
        "id": "z28Vl_83QRVm"
      },
      "execution_count": null,
      "outputs": []
    },
    {
      "cell_type": "markdown",
      "source": [
        "Fix the two pair errors in the code."
      ],
      "metadata": {
        "id": "5iPHisMiQRb1"
      }
    },
    {
      "cell_type": "code",
      "source": [
        "let myArray = [1, 2, 3];\n",
        "let arraySum = myArray.reduce((previous, current) =>  previous + current);\n",
        "console.log(`Sum of array values is: ${arraySum}`);"
      ],
      "metadata": {
        "id": "smLACHi2QRgt"
      },
      "execution_count": null,
      "outputs": []
    },
    {
      "cell_type": "markdown",
      "source": [
        "Fix the string so it either uses different quotes for the href value, or escape the existing ones. Keep the double quote marks around the entire string."
      ],
      "metadata": {
        "id": "WU0IZOAvQRnJ"
      }
    },
    {
      "cell_type": "code",
      "source": [
        "let innerHtml = \"<p>Click here to <a href='#Home'>return home</a></p>\";\n",
        "console.log(innerHtml);"
      ],
      "metadata": {
        "id": "ASXhmKxQQRrl"
      },
      "execution_count": null,
      "outputs": []
    },
    {
      "cell_type": "markdown",
      "source": [
        "Fix the condition so the program runs the right branch, and the appropriate value is assigned to result.\n",
        "\n"
      ],
      "metadata": {
        "id": "syXqr4ogQRw6"
      }
    },
    {
      "cell_type": "code",
      "source": [
        "let x = 7;\n",
        "let y = 9;\n",
        "let result = \"to come\";\n",
        "\n",
        "if(x == y) {\n",
        "  result = \"Equal!\";\n",
        "} else {\n",
        "  result = \"Not equal!\";\n",
        "}\n",
        "\n",
        "console.log(result);"
      ],
      "metadata": {
        "id": "GTpmpL17QRzy"
      },
      "execution_count": null,
      "outputs": []
    },
    {
      "cell_type": "markdown",
      "source": [
        "Fix the code so the variable result is set to the value returned from calling the function getNine.\n",
        "\n"
      ],
      "metadata": {
        "id": "FUjs4tBRQR5C"
      }
    },
    {
      "cell_type": "code",
      "source": [
        "function getNine() {\n",
        "  let x = 6;\n",
        "  let y = 3;\n",
        "  return x + y;\n",
        "}\n",
        "\n",
        "let result = getNine();\n",
        "console.log(result);"
      ],
      "metadata": {
        "id": "TANBoItcQR-w"
      },
      "execution_count": null,
      "outputs": []
    },
    {
      "cell_type": "markdown",
      "source": [
        "The function raiseToPower raises a base to an exponent. Unfortunately, it's not called properly - fix the code so the value of power is the expected 8."
      ],
      "metadata": {
        "id": "0XMQXg2TQSP6"
      }
    },
    {
      "cell_type": "code",
      "source": [
        "The function raiseToPower raises a base to an exponent. Unfortunately, it's not called properly - fix the code so the value of power is the expected 8."
      ],
      "metadata": {
        "id": "415aS4ujQSZ3"
      },
      "execution_count": null,
      "outputs": []
    },
    {
      "cell_type": "markdown",
      "source": [
        "Fix the two indexing errors in the following function so all the numbers 1 through 5 are printed to the console.\n",
        "\n"
      ],
      "metadata": {
        "id": "syz41yPQWN_g"
      }
    },
    {
      "cell_type": "code",
      "source": [
        "function countToFive() {\n",
        "  let firstFive = \"12345\";\n",
        "  let len = firstFive.length;\n",
        "  // Only change code below this line\n",
        "  for (let i = 0; i < len; i++) {\n",
        "  // Only change code above this line\n",
        "    console.log(firstFive[i]);\n",
        "  }\n",
        "}\n",
        "\n",
        "countToFive();"
      ],
      "metadata": {
        "id": "VmJltUefWOE_"
      },
      "execution_count": null,
      "outputs": []
    },
    {
      "cell_type": "markdown",
      "source": [],
      "metadata": {
        "id": "s15S-E9MWOKd"
      }
    },
    {
      "cell_type": "code",
      "source": [],
      "metadata": {
        "id": "up3GD5J6WORI"
      },
      "execution_count": null,
      "outputs": []
    },
    {
      "cell_type": "markdown",
      "source": [],
      "metadata": {
        "id": "kfUimCdSWOYE"
      }
    },
    {
      "cell_type": "code",
      "source": [],
      "metadata": {
        "id": "3SeesX_lWOeJ"
      },
      "execution_count": null,
      "outputs": []
    },
    {
      "cell_type": "markdown",
      "source": [],
      "metadata": {
        "id": "WCPxSBmtWOkO"
      }
    },
    {
      "cell_type": "code",
      "source": [],
      "metadata": {
        "id": "2h19aoaIWOo3"
      },
      "execution_count": null,
      "outputs": []
    }
  ]
}