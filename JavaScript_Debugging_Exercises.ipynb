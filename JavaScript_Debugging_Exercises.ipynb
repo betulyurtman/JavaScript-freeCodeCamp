{
  "nbformat": 4,
  "nbformat_minor": 0,
  "metadata": {
    "colab": {
      "provenance": []
    },
    "kernelspec": {
      "name": "python3",
      "display_name": "Python 3"
    },
    "language_info": {
      "name": "python"
    }
  },
  "cells": [
    {
      "cell_type": "markdown",
      "source": [
        "Use the console.log() method to print the value of the variable a where noted in the code."
      ],
      "metadata": {
        "id": "_Kers0YnQP5f"
      }
    },
    {
      "cell_type": "code",
      "execution_count": null,
      "metadata": {
        "id": "B_SDx2hqMir4"
      },
      "outputs": [],
      "source": [
        "let a = 5;\n",
        "let b = 1;\n",
        "a++;\n",
        "// Only change code below this line\n",
        "console.log(a)\n",
        "\n",
        "let sumAB = a + b;\n",
        "console.log(sumAB);"
      ]
    },
    {
      "cell_type": "markdown",
      "source": [],
      "metadata": {
        "id": "E9wqYWJIQQ0b"
      }
    },
    {
      "cell_type": "code",
      "source": [],
      "metadata": {
        "id": "K6m6Jad4QQ86"
      },
      "execution_count": null,
      "outputs": []
    },
    {
      "cell_type": "markdown",
      "source": [],
      "metadata": {
        "id": "7oTRa5qQQRCX"
      }
    },
    {
      "cell_type": "code",
      "source": [],
      "metadata": {
        "id": "n60Rt-9XQRJf"
      },
      "execution_count": null,
      "outputs": []
    },
    {
      "cell_type": "markdown",
      "source": [],
      "metadata": {
        "id": "sy9QkB8VQRRA"
      }
    },
    {
      "cell_type": "code",
      "source": [],
      "metadata": {
        "id": "z28Vl_83QRVm"
      },
      "execution_count": null,
      "outputs": []
    },
    {
      "cell_type": "markdown",
      "source": [],
      "metadata": {
        "id": "5iPHisMiQRb1"
      }
    },
    {
      "cell_type": "code",
      "source": [],
      "metadata": {
        "id": "smLACHi2QRgt"
      },
      "execution_count": null,
      "outputs": []
    },
    {
      "cell_type": "markdown",
      "source": [],
      "metadata": {
        "id": "WU0IZOAvQRnJ"
      }
    },
    {
      "cell_type": "code",
      "source": [],
      "metadata": {
        "id": "ASXhmKxQQRrl"
      },
      "execution_count": null,
      "outputs": []
    },
    {
      "cell_type": "markdown",
      "source": [],
      "metadata": {
        "id": "syXqr4ogQRw6"
      }
    },
    {
      "cell_type": "code",
      "source": [],
      "metadata": {
        "id": "GTpmpL17QRzy"
      },
      "execution_count": null,
      "outputs": []
    },
    {
      "cell_type": "markdown",
      "source": [],
      "metadata": {
        "id": "FUjs4tBRQR5C"
      }
    },
    {
      "cell_type": "code",
      "source": [],
      "metadata": {
        "id": "TANBoItcQR-w"
      },
      "execution_count": null,
      "outputs": []
    },
    {
      "cell_type": "markdown",
      "source": [],
      "metadata": {
        "id": "0XMQXg2TQSP6"
      }
    },
    {
      "cell_type": "code",
      "source": [],
      "metadata": {
        "id": "415aS4ujQSZ3"
      },
      "execution_count": null,
      "outputs": []
    }
  ]
}