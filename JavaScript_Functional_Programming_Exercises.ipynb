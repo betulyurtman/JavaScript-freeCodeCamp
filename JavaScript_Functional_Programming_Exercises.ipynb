{
  "nbformat": 4,
  "nbformat_minor": 0,
  "metadata": {
    "colab": {
      "provenance": []
    },
    "kernelspec": {
      "name": "python3",
      "display_name": "Python 3"
    },
    "language_info": {
      "name": "python"
    }
  },
  "cells": [
    {
      "cell_type": "markdown",
      "source": [
        "In the code editor, the prepareTea and getTea functions are already defined for you. Call the getTea function to get 40 cups of tea for the team, and store them in the tea4TeamFCC variable."
      ],
      "metadata": {
        "id": "pwE0RwZW-AhO"
      }
    },
    {
      "cell_type": "code",
      "execution_count": null,
      "metadata": {
        "id": "AhEDA6BO8rv8"
      },
      "outputs": [],
      "source": [
        "// Function that returns a string representing a cup of green tea\n",
        "const prepareTea = () => 'greenTea';\n",
        "\n",
        "/*\n",
        "Given a function (representing the tea type) and number of cups needed, the\n",
        "following function returns an array of strings (each representing a cup of\n",
        "a specific type of tea).\n",
        "*/\n",
        "const getTea = (numOfCups) => {\n",
        "  const teaCups = [];\n",
        "\n",
        "  for(let cups = 1; cups <= numOfCups; cups += 1) {\n",
        "    const teaCup = prepareTea();\n",
        "    teaCups.push(teaCup);\n",
        "  }\n",
        "  return teaCups;\n",
        "};\n",
        "\n",
        "// Only change code below this line\n",
        "const tea4TeamFCC = getTea(40);\n",
        "// Only change code above this line"
      ]
    },
    {
      "cell_type": "markdown",
      "source": [
        "Prepare 27 cups of green tea and 13 cups of black tea and store them in tea4GreenTeamFCC and tea4BlackTeamFCC variables, respectively. Note that the getTea function has been modified so it now takes a function as the first argument.\n",
        "\n",
        "Note: The data (the number of cups of tea) is supplied as the last argument. We'll discuss this more in later lessons.\n",
        "\n"
      ],
      "metadata": {
        "id": "z2uBAb4q-BdM"
      }
    },
    {
      "cell_type": "code",
      "source": [
        "// Function that returns a string representing a cup of green tea\n",
        "const prepareGreenTea = () => 'greenTea';\n",
        "\n",
        "// Function that returns a string representing a cup of black tea\n",
        "const prepareBlackTea = () => 'blackTea';\n",
        "\n",
        "/*\n",
        "Given a function (representing the tea type) and number of cups needed, the\n",
        "following function returns an array of strings (each representing a cup of\n",
        "a specific type of tea).\n",
        "*/\n",
        "const getTea = (prepareTea, numOfCups) => {\n",
        "  const teaCups = [];\n",
        "\n",
        "  for(let cups = 1; cups <= numOfCups; cups += 1) {\n",
        "    const teaCup = prepareTea();\n",
        "    teaCups.push(teaCup);\n",
        "  }\n",
        "  return teaCups;\n",
        "};\n",
        "\n",
        "// Only change code below this line\n",
        "const tea4GreenTeamFCC = getTea(prepareGreenTea,27);\n",
        "const tea4BlackTeamFCC = getTea(prepareBlackTea,13);\n",
        "// Only change code above this line\n",
        "\n",
        "console.log(\n",
        "  tea4GreenTeamFCC,\n",
        "  tea4BlackTeamFCC\n",
        ");"
      ],
      "metadata": {
        "id": "A4uTtIer-BoW"
      },
      "execution_count": null,
      "outputs": []
    },
    {
      "cell_type": "markdown",
      "source": [
        "Examine the code in the editor. It's using a method that has side effects in the program, causing incorrect behaviour. The final list of open tabs, stored in finalTabs.tabs, should be ['FB', 'Gitter', 'Reddit', 'Twitter', 'Medium', 'new tab', 'Netflix', 'YouTube', 'Vine', 'GMail', 'Work mail', 'Docs', 'freeCodeCamp', 'new tab'] but the list produced by the code is slightly different.\n",
        "\n",
        "Change Window.prototype.tabClose so that it removes the correct tab."
      ],
      "metadata": {
        "id": "ARDvWgCM-Bv_"
      }
    },
    {
      "cell_type": "code",
      "source": [
        "// tabs is an array of titles of each site open within the window\n",
        "const Window = function(tabs) {\n",
        "  this.tabs = tabs; // We keep a record of the array inside the object\n",
        "};\n",
        "\n",
        "// When you join two windows into one window\n",
        "Window.prototype.join = function(otherWindow) {\n",
        "  this.tabs = this.tabs.concat(otherWindow.tabs);\n",
        "  return this;\n",
        "};\n",
        "\n",
        "// When you open a new tab at the end\n",
        "Window.prototype.tabOpen = function(tab) {\n",
        "  this.tabs.push('new tab'); // Let's open a new tab for now\n",
        "  return this;\n",
        "};\n",
        "\n",
        "// When you close a tab\n",
        "Window.prototype.tabClose = function(index) {\n",
        "\n",
        "  // Only change code below this line\n",
        "\n",
        "  const tabsBeforeIndex = this.tabs.slice(0, index); // Get the tabs before the tab\n",
        "  const tabsAfterIndex = this.tabs.slice(index + 1); // Get the tabs after the tab\n",
        "\n",
        "  this.tabs = tabsBeforeIndex.concat(tabsAfterIndex); // Join them together\n",
        "\n",
        "  // Only change code above this line\n",
        "\n",
        "  return this;\n",
        " };\n",
        "\n",
        "// Let's create three browser windows\n",
        "const workWindow = new Window(['GMail', 'Inbox', 'Work mail', 'Docs', 'freeCodeCamp']); // Your mailbox, drive, and other work sites\n",
        "const socialWindow = new Window(['FB', 'Gitter', 'Reddit', 'Twitter', 'Medium']); // Social sites\n",
        "const videoWindow = new Window(['Netflix', 'YouTube', 'Vimeo', 'Vine']); // Entertainment sites\n",
        "\n",
        "// Now perform the tab opening, closing, and other operations\n",
        "const finalTabs = socialWindow\n",
        "  .tabOpen() // Open a new tab for cat memes\n",
        "  .join(videoWindow.tabClose(2)) // Close third tab in video window, and join\n",
        "  .join(workWindow.tabClose(1).tabOpen());\n",
        "console.log(finalTabs.tabs);\n",
        "\n",
        "// The issue is with the splice call in the tabClose() function. Splice changes the original array it is called on, so the second uses a modified array, and gives unexpected results."
      ],
      "metadata": {
        "id": "kgpv4P5l-B5C"
      },
      "execution_count": null,
      "outputs": []
    },
    {
      "cell_type": "markdown",
      "source": [
        "Fill in the code for the function incrementer so it returns the value of the global variable fixedValue increased by one."
      ],
      "metadata": {
        "id": "6qZvtETe-B8O"
      }
    },
    {
      "cell_type": "code",
      "source": [
        "// The global variable\n",
        "let fixedValue = 4;\n",
        "\n",
        "function incrementer() {\n",
        "  // Only change code below this line\n",
        "  return fixedValue +1;\n",
        "\n",
        "  // Only change code above this line\n",
        "}"
      ],
      "metadata": {
        "id": "BOLhhA69-CDn"
      },
      "execution_count": null,
      "outputs": []
    },
    {
      "cell_type": "markdown",
      "source": [
        "Let's update the incrementer function to clearly declare its dependencies.\n",
        "\n",
        "Write the incrementer function so it takes an argument, and then returns a result after increasing the value by one."
      ],
      "metadata": {
        "id": "OBnmyHtq-CLW"
      }
    },
    {
      "cell_type": "code",
      "source": [
        "// The global variable\n",
        "let fixedValue = 4;\n",
        "\n",
        "// Only change code below this line\n",
        "function incrementer(fixedValue) {\n",
        "  fixedValue = fixedValue +1;\n",
        "  return fixedValue;\n",
        "\n",
        "  // Only change code above this line\n",
        "}"
      ],
      "metadata": {
        "id": "Z1Gxx-m5-CS7"
      },
      "execution_count": null,
      "outputs": []
    },
    {
      "cell_type": "markdown",
      "source": [
        "Rewrite the code so the global array bookList is not changed inside either function. The add function should add the given bookName to the end of the array passed to it and return a new array (list). The remove function should remove the given bookName from the array passed to it.\n",
        "\n",
        "Note: Both functions should return an array, and any new parameters should be added before the bookName parameter."
      ],
      "metadata": {
        "id": "BmzKzYOV-CZt"
      }
    },
    {
      "cell_type": "code",
      "source": [
        "// The global variable\n",
        "const bookList = [\"The Hound of the Baskervilles\", \"On The Electrodynamics of Moving Bodies\", \"Philosophiæ Naturalis Principia Mathematica\", \"Disquisitiones Arithmeticae\"];\n",
        "\n",
        "// Change code below this line\n",
        "function add (arr, bookName) {\n",
        "\n",
        "  return [...arr, bookName];\n",
        "\n",
        "  // Change code above this line\n",
        "}\n",
        "\n",
        "// Change code below this line\n",
        "function remove (arr, bookName) {\n",
        "  const bookListCopy = [...arr];\n",
        "  const book_index = arr.indexOf(bookName);\n",
        "  if (book_index >= 0) {\n",
        "\n",
        "    bookListCopy.splice(book_index, 1); // We give the index of the book name and the count for deleting so this means that we have deleted the given bookName.\n",
        "  }\n",
        "  return bookListCopy;\n",
        "\n",
        "    // Change code above this line\n",
        "\n",
        "}"
      ],
      "metadata": {
        "id": "ahpS_fAt-CkE"
      },
      "execution_count": null,
      "outputs": []
    },
    {
      "cell_type": "markdown",
      "source": [
        "The watchList array holds objects with information on several movies. Use map on watchList to assign a new array of objects to the ratings variable. Each movie in the new array should have only a title key with the name of the film, and a rating key with the IMDB rating. The code in the editor currently uses a for loop to do this, so you should replace the loop functionality with your map expression."
      ],
      "metadata": {
        "id": "5TO823NZ-Cre"
      }
    },
    {
      "cell_type": "code",
      "source": [
        "// The global variable\n",
        "const watchList = [\n",
        "  {\n",
        "    \"Title\": \"Inception\",\n",
        "    \"Year\": \"2010\",\n",
        "    \"Rated\": \"PG-13\",\n",
        "    \"Released\": \"16 Jul 2010\",\n",
        "    \"Runtime\": \"148 min\",\n",
        "    \"Genre\": \"Action, Adventure, Crime\",\n",
        "    \"Director\": \"Christopher Nolan\",\n",
        "    \"Writer\": \"Christopher Nolan\",\n",
        "    \"Actors\": \"Leonardo DiCaprio, Joseph Gordon-Levitt, Elliot Page, Tom Hardy\",\n",
        "    \"Plot\": \"A thief, who steals corporate secrets through use of dream-sharing technology, is given the inverse task of planting an idea into the mind of a CEO.\",\n",
        "    \"Language\": \"English, Japanese, French\",\n",
        "    \"Country\": \"USA, UK\",\n",
        "    \"Awards\": \"Won 4 Oscars. Another 143 wins & 198 nominations.\",\n",
        "    \"Poster\": \"http://ia.media-imdb.com/images/M/MV5BMjAxMzY3NjcxNF5BMl5BanBnXkFtZTcwNTI5OTM0Mw@@._V1_SX300.jpg\",\n",
        "    \"Metascore\": \"74\",\n",
        "    \"imdbRating\": \"8.8\",\n",
        "    \"imdbVotes\": \"1,446,708\",\n",
        "    \"imdbID\": \"tt1375666\",\n",
        "    \"Type\": \"movie\",\n",
        "    \"Response\": \"True\"\n",
        "  },\n",
        "  {\n",
        "    \"Title\": \"Interstellar\",\n",
        "    \"Year\": \"2014\",\n",
        "    \"Rated\": \"PG-13\",\n",
        "    \"Released\": \"07 Nov 2014\",\n",
        "    \"Runtime\": \"169 min\",\n",
        "    \"Genre\": \"Adventure, Drama, Sci-Fi\",\n",
        "    \"Director\": \"Christopher Nolan\",\n",
        "    \"Writer\": \"Jonathan Nolan, Christopher Nolan\",\n",
        "    \"Actors\": \"Ellen Burstyn, Matthew McConaughey, Mackenzie Foy, John Lithgow\",\n",
        "    \"Plot\": \"A team of explorers travel through a wormhole in space in an attempt to ensure humanity's survival.\",\n",
        "    \"Language\": \"English\",\n",
        "    \"Country\": \"USA, UK\",\n",
        "    \"Awards\": \"Won 1 Oscar. Another 39 wins & 132 nominations.\",\n",
        "    \"Poster\": \"http://ia.media-imdb.com/images/M/MV5BMjIxNTU4MzY4MF5BMl5BanBnXkFtZTgwMzM4ODI3MjE@._V1_SX300.jpg\",\n",
        "    \"Metascore\": \"74\",\n",
        "    \"imdbRating\": \"8.6\",\n",
        "    \"imdbVotes\": \"910,366\",\n",
        "    \"imdbID\": \"tt0816692\",\n",
        "    \"Type\": \"movie\",\n",
        "    \"Response\": \"True\"\n",
        "  },\n",
        "  {\n",
        "    \"Title\": \"The Dark Knight\",\n",
        "    \"Year\": \"2008\",\n",
        "    \"Rated\": \"PG-13\",\n",
        "    \"Released\": \"18 Jul 2008\",\n",
        "    \"Runtime\": \"152 min\",\n",
        "    \"Genre\": \"Action, Adventure, Crime\",\n",
        "    \"Director\": \"Christopher Nolan\",\n",
        "    \"Writer\": \"Jonathan Nolan (screenplay), Christopher Nolan (screenplay), Christopher Nolan (story), David S. Goyer (story), Bob Kane (characters)\",\n",
        "    \"Actors\": \"Christian Bale, Heath Ledger, Aaron Eckhart, Michael Caine\",\n",
        "    \"Plot\": \"When the menace known as the Joker wreaks havoc and chaos on the people of Gotham, the caped crusader must come to terms with one of the greatest psychological tests of his ability to fight injustice.\",\n",
        "    \"Language\": \"English, Mandarin\",\n",
        "    \"Country\": \"USA, UK\",\n",
        "    \"Awards\": \"Won 2 Oscars. Another 146 wins & 142 nominations.\",\n",
        "    \"Poster\": \"http://ia.media-imdb.com/images/M/MV5BMTMxNTMwODM0NF5BMl5BanBnXkFtZTcwODAyMTk2Mw@@._V1_SX300.jpg\",\n",
        "    \"Metascore\": \"82\",\n",
        "    \"imdbRating\": \"9.0\",\n",
        "    \"imdbVotes\": \"1,652,832\",\n",
        "    \"imdbID\": \"tt0468569\",\n",
        "    \"Type\": \"movie\",\n",
        "    \"Response\": \"True\"\n",
        "  },\n",
        "  {\n",
        "    \"Title\": \"Batman Begins\",\n",
        "    \"Year\": \"2005\",\n",
        "    \"Rated\": \"PG-13\",\n",
        "    \"Released\": \"15 Jun 2005\",\n",
        "    \"Runtime\": \"140 min\",\n",
        "    \"Genre\": \"Action, Adventure\",\n",
        "    \"Director\": \"Christopher Nolan\",\n",
        "    \"Writer\": \"Bob Kane (characters), David S. Goyer (story), Christopher Nolan (screenplay), David S. Goyer (screenplay)\",\n",
        "    \"Actors\": \"Christian Bale, Michael Caine, Liam Neeson, Katie Holmes\",\n",
        "    \"Plot\": \"After training with his mentor, Batman begins his fight to free crime-ridden Gotham City from the corruption that Scarecrow and the League of Shadows have cast upon it.\",\n",
        "    \"Language\": \"English, Urdu, Mandarin\",\n",
        "    \"Country\": \"USA, UK\",\n",
        "    \"Awards\": \"Nominated for 1 Oscar. Another 15 wins & 66 nominations.\",\n",
        "    \"Poster\": \"http://ia.media-imdb.com/images/M/MV5BNTM3OTc0MzM2OV5BMl5BanBnXkFtZTYwNzUwMTI3._V1_SX300.jpg\",\n",
        "    \"Metascore\": \"70\",\n",
        "    \"imdbRating\": \"8.3\",\n",
        "    \"imdbVotes\": \"972,584\",\n",
        "    \"imdbID\": \"tt0372784\",\n",
        "    \"Type\": \"movie\",\n",
        "    \"Response\": \"True\"\n",
        "  },\n",
        "  {\n",
        "    \"Title\": \"Avatar\",\n",
        "    \"Year\": \"2009\",\n",
        "    \"Rated\": \"PG-13\",\n",
        "    \"Released\": \"18 Dec 2009\",\n",
        "    \"Runtime\": \"162 min\",\n",
        "    \"Genre\": \"Action, Adventure, Fantasy\",\n",
        "    \"Director\": \"James Cameron\",\n",
        "    \"Writer\": \"James Cameron\",\n",
        "    \"Actors\": \"Sam Worthington, Zoe Saldana, Sigourney Weaver, Stephen Lang\",\n",
        "    \"Plot\": \"A paraplegic marine dispatched to the moon Pandora on a unique mission becomes torn between following his orders and protecting the world he feels is his home.\",\n",
        "    \"Language\": \"English, Spanish\",\n",
        "    \"Country\": \"USA, UK\",\n",
        "    \"Awards\": \"Won 3 Oscars. Another 80 wins & 121 nominations.\",\n",
        "    \"Poster\": \"http://ia.media-imdb.com/images/M/MV5BMTYwOTEwNjAzMl5BMl5BanBnXkFtZTcwODc5MTUwMw@@._V1_SX300.jpg\",\n",
        "    \"Metascore\": \"83\",\n",
        "    \"imdbRating\": \"7.9\",\n",
        "    \"imdbVotes\": \"876,575\",\n",
        "    \"imdbID\": \"tt0499549\",\n",
        "    \"Type\": \"movie\",\n",
        "    \"Response\": \"True\"\n",
        "  }\n",
        "];\n",
        "\n",
        "// Only change code below this line\n",
        "\n",
        "const ratings = watchList.map(({ Title: title, imdbRating: rating}) => ({title, rating}));\n",
        "\n",
        "// Only change code above this line\n",
        "\n",
        "console.log(JSON.stringify(ratings));"
      ],
      "metadata": {
        "id": "dEGmNw7J-C1V"
      },
      "execution_count": null,
      "outputs": []
    },
    {
      "cell_type": "markdown",
      "source": [
        "Write your own Array.prototype.myMap(), which should behave exactly like Array.prototype.map(). You should not use the built-in map method. The Array instance can be accessed in the myMap method using this.\n",
        "\n"
      ],
      "metadata": {
        "id": "85iLRQbE-C9-"
      }
    },
    {
      "cell_type": "code",
      "source": [
        "Array.prototype.myMap = function(callback) {\n",
        "  const newArray = [];\n",
        "  // Only change code below this line\n",
        "  for (let i=0; i < this.length; i++) {\n",
        "      newArray.push(callback(this[i], i, this)); // 'this' refers to the array itself, 'this[i]' accesses the current element during each iteration, and 'i' represents the index of the current element.\n",
        "    }\n",
        "\n",
        " // Only change code above this line\n",
        " return newArray;\n",
        "};\n",
        "\n",
        "?????????????"
      ],
      "metadata": {
        "id": "iV2lKtx8-DJC"
      },
      "execution_count": null,
      "outputs": []
    },
    {
      "cell_type": "markdown",
      "source": [
        "The variable watchList holds an array of objects with information on several movies. Use a combination of filter and map on watchList to assign a new array of objects with only title and rating keys. The new array should only include objects where imdbRating is greater than or equal to 8.0. Note that the rating values are saved as strings in the object and you may need to convert them into numbers to perform mathematical operations on them."
      ],
      "metadata": {
        "id": "wntl8LwZ-DSO"
      }
    },
    {
      "cell_type": "code",
      "source": [
        "// Only change code below this line\n",
        "\n",
        "const filteredList = watchList\n",
        "  .filter(({imdbRating})=> imdbRating >= 8.0)\n",
        "  .map(({Title: title, imdbRating: rating})=> ({title,rating}));\n",
        "\n",
        "// Only change code above this line\n",
        "\n",
        "console.log(filteredList);"
      ],
      "metadata": {
        "id": "GQO2SXQo-Ddi"
      },
      "execution_count": null,
      "outputs": []
    },
    {
      "cell_type": "markdown",
      "source": [
        "Write your own Array.prototype.myFilter(), which should behave exactly like Array.prototype.filter(). You should not use the built-in filter method. The Array instance can be accessed in the myFilter method using this."
      ],
      "metadata": {
        "id": "FS_vbnzc-DsG"
      }
    },
    {
      "cell_type": "code",
      "source": [
        "Array.prototype.myFilter = function(callback) {\n",
        "  const newArray = [];\n",
        "  // Only change code below this line\n",
        "  for (let i = 0; i < this.length; i++) {\n",
        "    if (callback(this[i], i, this)==true) {\n",
        "      newArray.push(this[i]);\n",
        "    }\n",
        "  }\n",
        "  // Only change code above this line\n",
        "  return newArray;\n",
        "};"
      ],
      "metadata": {
        "id": "Or2JEXG9-D3N"
      },
      "execution_count": null,
      "outputs": []
    },
    {
      "cell_type": "markdown",
      "source": [
        "Use the slice method in the sliceArray function to return part of the anim array given the provided beginSlice and endSlice indices. The function should return an array."
      ],
      "metadata": {
        "id": "mklGcpMD-D--"
      }
    },
    {
      "cell_type": "code",
      "source": [
        "function sliceArray(anim, beginSlice, endSlice) {\n",
        "  // Only change code below this line\n",
        "  return anim.slice(beginSlice, endSlice);\n",
        "\n",
        "  // Only change code above this line\n",
        "}\n",
        "\n",
        "const inputAnim = [\"Cat\", \"Dog\", \"Tiger\", \"Zebra\", \"Ant\"];\n",
        "sliceArray(inputAnim, 1, 3);"
      ],
      "metadata": {
        "id": "HjghRWLK-EI1"
      },
      "execution_count": null,
      "outputs": []
    },
    {
      "cell_type": "markdown",
      "source": [
        "Rewrite the function nonMutatingSplice by using slice instead of splice. It should limit the provided cities array to a length of 3, and return a new array with only the first three items.\n",
        "\n",
        "Do not mutate the original array provided to the function."
      ],
      "metadata": {
        "id": "RFob6Vuw-EuY"
      }
    },
    {
      "cell_type": "code",
      "source": [
        "function nonMutatingSplice(cities) {\n",
        "  // Only change code below this line\n",
        "  return cities.slice(0,3);\n",
        "\n",
        "  // Only change code above this line\n",
        "}\n",
        "\n",
        "const inputCities = [\"Chicago\", \"Delhi\", \"Islamabad\", \"London\", \"Berlin\"];\n",
        "nonMutatingSplice(inputCities);"
      ],
      "metadata": {
        "id": "7nZ9beQU-E34"
      },
      "execution_count": null,
      "outputs": []
    },
    {
      "cell_type": "markdown",
      "source": [
        "Use the concat method in the nonMutatingConcat function to concatenate attach to the end of original. The function should return the concatenated array."
      ],
      "metadata": {
        "id": "ABxOPfAJ-FAB"
      }
    },
    {
      "cell_type": "code",
      "source": [
        "function nonMutatingConcat(original, attach) {\n",
        "  // Only change code below this line\n",
        "  return original.concat(attach);\n",
        "\n",
        "  // Only change code above this line\n",
        "}\n",
        "\n",
        "const first = [1, 2, 3];\n",
        "const second = [4, 5];\n",
        "nonMutatingConcat(first, second);"
      ],
      "metadata": {
        "id": "k9jz7EN6-FHV"
      },
      "execution_count": null,
      "outputs": []
    },
    {
      "cell_type": "markdown",
      "source": [
        "Change the nonMutatingPush function so it uses concat to merge newItem to the end of original without mutating original or newItem arrays. The function should return an array."
      ],
      "metadata": {
        "id": "l84ieY_H-FPj"
      }
    },
    {
      "cell_type": "code",
      "source": [
        "function nonMutatingPush(original, newItem) {\n",
        "  // Only change code below this line\n",
        "  return original.concat(newItem);\n",
        "\n",
        "  // Only change code above this line\n",
        "}\n",
        "\n",
        "const first = [1, 2, 3];\n",
        "const second = [4, 5];\n",
        "nonMutatingPush(first, second);"
      ],
      "metadata": {
        "id": "eLg6Pomg-FYk"
      },
      "execution_count": null,
      "outputs": []
    },
    {
      "cell_type": "markdown",
      "source": [],
      "metadata": {
        "id": "Eaxf7I0X-FgD"
      }
    },
    {
      "cell_type": "code",
      "source": [],
      "metadata": {
        "id": "_NK6L2tg-Fp6"
      },
      "execution_count": null,
      "outputs": []
    },
    {
      "cell_type": "markdown",
      "source": [],
      "metadata": {
        "id": "S9l-26H9-Fy5"
      }
    },
    {
      "cell_type": "code",
      "source": [],
      "metadata": {
        "id": "TqrtwZfs-F75"
      },
      "execution_count": null,
      "outputs": []
    }
  ]
}