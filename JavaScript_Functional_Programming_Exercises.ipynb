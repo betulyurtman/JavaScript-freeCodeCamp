{
  "nbformat": 4,
  "nbformat_minor": 0,
  "metadata": {
    "colab": {
      "provenance": []
    },
    "kernelspec": {
      "name": "python3",
      "display_name": "Python 3"
    },
    "language_info": {
      "name": "python"
    }
  },
  "cells": [
    {
      "cell_type": "markdown",
      "source": [
        "In the code editor, the prepareTea and getTea functions are already defined for you. Call the getTea function to get 40 cups of tea for the team, and store them in the tea4TeamFCC variable."
      ],
      "metadata": {
        "id": "pwE0RwZW-AhO"
      }
    },
    {
      "cell_type": "code",
      "execution_count": null,
      "metadata": {
        "id": "AhEDA6BO8rv8"
      },
      "outputs": [],
      "source": [
        "// Function that returns a string representing a cup of green tea\n",
        "const prepareTea = () => 'greenTea';\n",
        "\n",
        "/*\n",
        "Given a function (representing the tea type) and number of cups needed, the\n",
        "following function returns an array of strings (each representing a cup of\n",
        "a specific type of tea).\n",
        "*/\n",
        "const getTea = (numOfCups) => {\n",
        "  const teaCups = [];\n",
        "\n",
        "  for(let cups = 1; cups <= numOfCups; cups += 1) {\n",
        "    const teaCup = prepareTea();\n",
        "    teaCups.push(teaCup);\n",
        "  }\n",
        "  return teaCups;\n",
        "};\n",
        "\n",
        "// Only change code below this line\n",
        "const tea4TeamFCC = getTea(40);\n",
        "// Only change code above this line"
      ]
    },
    {
      "cell_type": "markdown",
      "source": [
        "Prepare 27 cups of green tea and 13 cups of black tea and store them in tea4GreenTeamFCC and tea4BlackTeamFCC variables, respectively. Note that the getTea function has been modified so it now takes a function as the first argument.\n",
        "\n",
        "Note: The data (the number of cups of tea) is supplied as the last argument. We'll discuss this more in later lessons.\n",
        "\n"
      ],
      "metadata": {
        "id": "z2uBAb4q-BdM"
      }
    },
    {
      "cell_type": "code",
      "source": [
        "// Function that returns a string representing a cup of green tea\n",
        "const prepareGreenTea = () => 'greenTea';\n",
        "\n",
        "// Function that returns a string representing a cup of black tea\n",
        "const prepareBlackTea = () => 'blackTea';\n",
        "\n",
        "/*\n",
        "Given a function (representing the tea type) and number of cups needed, the\n",
        "following function returns an array of strings (each representing a cup of\n",
        "a specific type of tea).\n",
        "*/\n",
        "const getTea = (prepareTea, numOfCups) => {\n",
        "  const teaCups = [];\n",
        "\n",
        "  for(let cups = 1; cups <= numOfCups; cups += 1) {\n",
        "    const teaCup = prepareTea();\n",
        "    teaCups.push(teaCup);\n",
        "  }\n",
        "  return teaCups;\n",
        "};\n",
        "\n",
        "// Only change code below this line\n",
        "const tea4GreenTeamFCC = getTea(prepareGreenTea,27);\n",
        "const tea4BlackTeamFCC = getTea(prepareBlackTea,13);\n",
        "// Only change code above this line\n",
        "\n",
        "console.log(\n",
        "  tea4GreenTeamFCC,\n",
        "  tea4BlackTeamFCC\n",
        ");"
      ],
      "metadata": {
        "id": "A4uTtIer-BoW"
      },
      "execution_count": null,
      "outputs": []
    },
    {
      "cell_type": "markdown",
      "source": [],
      "metadata": {
        "id": "ARDvWgCM-Bv_"
      }
    },
    {
      "cell_type": "code",
      "source": [],
      "metadata": {
        "id": "kgpv4P5l-B5C"
      },
      "execution_count": null,
      "outputs": []
    },
    {
      "cell_type": "markdown",
      "source": [],
      "metadata": {
        "id": "6qZvtETe-B8O"
      }
    },
    {
      "cell_type": "code",
      "source": [],
      "metadata": {
        "id": "BOLhhA69-CDn"
      },
      "execution_count": null,
      "outputs": []
    },
    {
      "cell_type": "markdown",
      "source": [],
      "metadata": {
        "id": "OBnmyHtq-CLW"
      }
    },
    {
      "cell_type": "code",
      "source": [],
      "metadata": {
        "id": "Z1Gxx-m5-CS7"
      },
      "execution_count": null,
      "outputs": []
    },
    {
      "cell_type": "markdown",
      "source": [],
      "metadata": {
        "id": "BmzKzYOV-CZt"
      }
    },
    {
      "cell_type": "code",
      "source": [],
      "metadata": {
        "id": "ahpS_fAt-CkE"
      },
      "execution_count": null,
      "outputs": []
    },
    {
      "cell_type": "markdown",
      "source": [],
      "metadata": {
        "id": "5TO823NZ-Cre"
      }
    },
    {
      "cell_type": "code",
      "source": [],
      "metadata": {
        "id": "dEGmNw7J-C1V"
      },
      "execution_count": null,
      "outputs": []
    },
    {
      "cell_type": "markdown",
      "source": [],
      "metadata": {
        "id": "85iLRQbE-C9-"
      }
    },
    {
      "cell_type": "code",
      "source": [],
      "metadata": {
        "id": "iV2lKtx8-DJC"
      },
      "execution_count": null,
      "outputs": []
    },
    {
      "cell_type": "markdown",
      "source": [],
      "metadata": {
        "id": "wntl8LwZ-DSO"
      }
    },
    {
      "cell_type": "code",
      "source": [],
      "metadata": {
        "id": "GQO2SXQo-Ddi"
      },
      "execution_count": null,
      "outputs": []
    },
    {
      "cell_type": "markdown",
      "source": [],
      "metadata": {
        "id": "FS_vbnzc-DsG"
      }
    },
    {
      "cell_type": "code",
      "source": [],
      "metadata": {
        "id": "Or2JEXG9-D3N"
      },
      "execution_count": null,
      "outputs": []
    },
    {
      "cell_type": "markdown",
      "source": [],
      "metadata": {
        "id": "mklGcpMD-D--"
      }
    },
    {
      "cell_type": "code",
      "source": [],
      "metadata": {
        "id": "HjghRWLK-EI1"
      },
      "execution_count": null,
      "outputs": []
    },
    {
      "cell_type": "markdown",
      "source": [],
      "metadata": {
        "id": "RFob6Vuw-EuY"
      }
    },
    {
      "cell_type": "code",
      "source": [],
      "metadata": {
        "id": "7nZ9beQU-E34"
      },
      "execution_count": null,
      "outputs": []
    },
    {
      "cell_type": "markdown",
      "source": [],
      "metadata": {
        "id": "ABxOPfAJ-FAB"
      }
    },
    {
      "cell_type": "code",
      "source": [],
      "metadata": {
        "id": "k9jz7EN6-FHV"
      },
      "execution_count": null,
      "outputs": []
    },
    {
      "cell_type": "markdown",
      "source": [],
      "metadata": {
        "id": "l84ieY_H-FPj"
      }
    },
    {
      "cell_type": "code",
      "source": [],
      "metadata": {
        "id": "eLg6Pomg-FYk"
      },
      "execution_count": null,
      "outputs": []
    },
    {
      "cell_type": "markdown",
      "source": [],
      "metadata": {
        "id": "Eaxf7I0X-FgD"
      }
    },
    {
      "cell_type": "code",
      "source": [],
      "metadata": {
        "id": "_NK6L2tg-Fp6"
      },
      "execution_count": null,
      "outputs": []
    },
    {
      "cell_type": "markdown",
      "source": [],
      "metadata": {
        "id": "S9l-26H9-Fy5"
      }
    },
    {
      "cell_type": "code",
      "source": [],
      "metadata": {
        "id": "TqrtwZfs-F75"
      },
      "execution_count": null,
      "outputs": []
    }
  ]
}