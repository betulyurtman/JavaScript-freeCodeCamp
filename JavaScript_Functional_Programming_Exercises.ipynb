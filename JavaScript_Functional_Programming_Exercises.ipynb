{
  "nbformat": 4,
  "nbformat_minor": 0,
  "metadata": {
    "colab": {
      "provenance": []
    },
    "kernelspec": {
      "name": "python3",
      "display_name": "Python 3"
    },
    "language_info": {
      "name": "python"
    }
  },
  "cells": [
    {
      "cell_type": "markdown",
      "source": [
        "In the code editor, the prepareTea and getTea functions are already defined for you. Call the getTea function to get 40 cups of tea for the team, and store them in the tea4TeamFCC variable."
      ],
      "metadata": {
        "id": "pwE0RwZW-AhO"
      }
    },
    {
      "cell_type": "code",
      "execution_count": null,
      "metadata": {
        "id": "AhEDA6BO8rv8"
      },
      "outputs": [],
      "source": [
        "// Function that returns a string representing a cup of green tea\n",
        "const prepareTea = () => 'greenTea';\n",
        "\n",
        "/*\n",
        "Given a function (representing the tea type) and number of cups needed, the\n",
        "following function returns an array of strings (each representing a cup of\n",
        "a specific type of tea).\n",
        "*/\n",
        "const getTea = (numOfCups) => {\n",
        "  const teaCups = [];\n",
        "\n",
        "  for(let cups = 1; cups <= numOfCups; cups += 1) {\n",
        "    const teaCup = prepareTea();\n",
        "    teaCups.push(teaCup);\n",
        "  }\n",
        "  return teaCups;\n",
        "};\n",
        "\n",
        "// Only change code below this line\n",
        "const tea4TeamFCC = getTea(40);\n",
        "// Only change code above this line"
      ]
    },
    {
      "cell_type": "markdown",
      "source": [
        "Prepare 27 cups of green tea and 13 cups of black tea and store them in tea4GreenTeamFCC and tea4BlackTeamFCC variables, respectively. Note that the getTea function has been modified so it now takes a function as the first argument.\n",
        "\n",
        "Note: The data (the number of cups of tea) is supplied as the last argument. We'll discuss this more in later lessons.\n",
        "\n"
      ],
      "metadata": {
        "id": "z2uBAb4q-BdM"
      }
    },
    {
      "cell_type": "code",
      "source": [
        "// Function that returns a string representing a cup of green tea\n",
        "const prepareGreenTea = () => 'greenTea';\n",
        "\n",
        "// Function that returns a string representing a cup of black tea\n",
        "const prepareBlackTea = () => 'blackTea';\n",
        "\n",
        "/*\n",
        "Given a function (representing the tea type) and number of cups needed, the\n",
        "following function returns an array of strings (each representing a cup of\n",
        "a specific type of tea).\n",
        "*/\n",
        "const getTea = (prepareTea, numOfCups) => {\n",
        "  const teaCups = [];\n",
        "\n",
        "  for(let cups = 1; cups <= numOfCups; cups += 1) {\n",
        "    const teaCup = prepareTea();\n",
        "    teaCups.push(teaCup);\n",
        "  }\n",
        "  return teaCups;\n",
        "};\n",
        "\n",
        "// Only change code below this line\n",
        "const tea4GreenTeamFCC = getTea(prepareGreenTea,27);\n",
        "const tea4BlackTeamFCC = getTea(prepareBlackTea,13);\n",
        "// Only change code above this line\n",
        "\n",
        "console.log(\n",
        "  tea4GreenTeamFCC,\n",
        "  tea4BlackTeamFCC\n",
        ");"
      ],
      "metadata": {
        "id": "A4uTtIer-BoW"
      },
      "execution_count": null,
      "outputs": []
    },
    {
      "cell_type": "markdown",
      "source": [
        "Examine the code in the editor. It's using a method that has side effects in the program, causing incorrect behaviour. The final list of open tabs, stored in finalTabs.tabs, should be ['FB', 'Gitter', 'Reddit', 'Twitter', 'Medium', 'new tab', 'Netflix', 'YouTube', 'Vine', 'GMail', 'Work mail', 'Docs', 'freeCodeCamp', 'new tab'] but the list produced by the code is slightly different.\n",
        "\n",
        "Change Window.prototype.tabClose so that it removes the correct tab."
      ],
      "metadata": {
        "id": "ARDvWgCM-Bv_"
      }
    },
    {
      "cell_type": "code",
      "source": [
        "// tabs is an array of titles of each site open within the window\n",
        "const Window = function(tabs) {\n",
        "  this.tabs = tabs; // We keep a record of the array inside the object\n",
        "};\n",
        "\n",
        "// When you join two windows into one window\n",
        "Window.prototype.join = function(otherWindow) {\n",
        "  this.tabs = this.tabs.concat(otherWindow.tabs);\n",
        "  return this;\n",
        "};\n",
        "\n",
        "// When you open a new tab at the end\n",
        "Window.prototype.tabOpen = function(tab) {\n",
        "  this.tabs.push('new tab'); // Let's open a new tab for now\n",
        "  return this;\n",
        "};\n",
        "\n",
        "// When you close a tab\n",
        "Window.prototype.tabClose = function(index) {\n",
        "\n",
        "  // Only change code below this line\n",
        "\n",
        "  const tabsBeforeIndex = this.tabs.slice(0, index); // Get the tabs before the tab\n",
        "  const tabsAfterIndex = this.tabs.slice(index + 1); // Get the tabs after the tab\n",
        "\n",
        "  this.tabs = tabsBeforeIndex.concat(tabsAfterIndex); // Join them together\n",
        "\n",
        "  // Only change code above this line\n",
        "\n",
        "  return this;\n",
        " };\n",
        "\n",
        "// Let's create three browser windows\n",
        "const workWindow = new Window(['GMail', 'Inbox', 'Work mail', 'Docs', 'freeCodeCamp']); // Your mailbox, drive, and other work sites\n",
        "const socialWindow = new Window(['FB', 'Gitter', 'Reddit', 'Twitter', 'Medium']); // Social sites\n",
        "const videoWindow = new Window(['Netflix', 'YouTube', 'Vimeo', 'Vine']); // Entertainment sites\n",
        "\n",
        "// Now perform the tab opening, closing, and other operations\n",
        "const finalTabs = socialWindow\n",
        "  .tabOpen() // Open a new tab for cat memes\n",
        "  .join(videoWindow.tabClose(2)) // Close third tab in video window, and join\n",
        "  .join(workWindow.tabClose(1).tabOpen());\n",
        "console.log(finalTabs.tabs);\n",
        "\n",
        "// The issue is with the splice call in the tabClose() function. Splice changes the original array it is called on, so the second uses a modified array, and gives unexpected results."
      ],
      "metadata": {
        "id": "kgpv4P5l-B5C"
      },
      "execution_count": null,
      "outputs": []
    },
    {
      "cell_type": "markdown",
      "source": [
        "Fill in the code for the function incrementer so it returns the value of the global variable fixedValue increased by one."
      ],
      "metadata": {
        "id": "6qZvtETe-B8O"
      }
    },
    {
      "cell_type": "code",
      "source": [
        "// The global variable\n",
        "let fixedValue = 4;\n",
        "\n",
        "function incrementer() {\n",
        "  // Only change code below this line\n",
        "  return fixedValue +1;\n",
        "\n",
        "  // Only change code above this line\n",
        "}"
      ],
      "metadata": {
        "id": "BOLhhA69-CDn"
      },
      "execution_count": null,
      "outputs": []
    },
    {
      "cell_type": "markdown",
      "source": [
        "Let's update the incrementer function to clearly declare its dependencies.\n",
        "\n",
        "Write the incrementer function so it takes an argument, and then returns a result after increasing the value by one."
      ],
      "metadata": {
        "id": "OBnmyHtq-CLW"
      }
    },
    {
      "cell_type": "code",
      "source": [
        "// The global variable\n",
        "let fixedValue = 4;\n",
        "\n",
        "// Only change code below this line\n",
        "function incrementer(fixedValue) {\n",
        "  fixedValue = fixedValue +1;\n",
        "  return fixedValue;\n",
        "\n",
        "  // Only change code above this line\n",
        "}"
      ],
      "metadata": {
        "id": "Z1Gxx-m5-CS7"
      },
      "execution_count": null,
      "outputs": []
    },
    {
      "cell_type": "markdown",
      "source": [],
      "metadata": {
        "id": "BmzKzYOV-CZt"
      }
    },
    {
      "cell_type": "code",
      "source": [],
      "metadata": {
        "id": "ahpS_fAt-CkE"
      },
      "execution_count": null,
      "outputs": []
    },
    {
      "cell_type": "markdown",
      "source": [],
      "metadata": {
        "id": "5TO823NZ-Cre"
      }
    },
    {
      "cell_type": "code",
      "source": [],
      "metadata": {
        "id": "dEGmNw7J-C1V"
      },
      "execution_count": null,
      "outputs": []
    },
    {
      "cell_type": "markdown",
      "source": [],
      "metadata": {
        "id": "85iLRQbE-C9-"
      }
    },
    {
      "cell_type": "code",
      "source": [],
      "metadata": {
        "id": "iV2lKtx8-DJC"
      },
      "execution_count": null,
      "outputs": []
    },
    {
      "cell_type": "markdown",
      "source": [],
      "metadata": {
        "id": "wntl8LwZ-DSO"
      }
    },
    {
      "cell_type": "code",
      "source": [],
      "metadata": {
        "id": "GQO2SXQo-Ddi"
      },
      "execution_count": null,
      "outputs": []
    },
    {
      "cell_type": "markdown",
      "source": [],
      "metadata": {
        "id": "FS_vbnzc-DsG"
      }
    },
    {
      "cell_type": "code",
      "source": [],
      "metadata": {
        "id": "Or2JEXG9-D3N"
      },
      "execution_count": null,
      "outputs": []
    },
    {
      "cell_type": "markdown",
      "source": [],
      "metadata": {
        "id": "mklGcpMD-D--"
      }
    },
    {
      "cell_type": "code",
      "source": [],
      "metadata": {
        "id": "HjghRWLK-EI1"
      },
      "execution_count": null,
      "outputs": []
    },
    {
      "cell_type": "markdown",
      "source": [],
      "metadata": {
        "id": "RFob6Vuw-EuY"
      }
    },
    {
      "cell_type": "code",
      "source": [],
      "metadata": {
        "id": "7nZ9beQU-E34"
      },
      "execution_count": null,
      "outputs": []
    },
    {
      "cell_type": "markdown",
      "source": [],
      "metadata": {
        "id": "ABxOPfAJ-FAB"
      }
    },
    {
      "cell_type": "code",
      "source": [],
      "metadata": {
        "id": "k9jz7EN6-FHV"
      },
      "execution_count": null,
      "outputs": []
    },
    {
      "cell_type": "markdown",
      "source": [],
      "metadata": {
        "id": "l84ieY_H-FPj"
      }
    },
    {
      "cell_type": "code",
      "source": [],
      "metadata": {
        "id": "eLg6Pomg-FYk"
      },
      "execution_count": null,
      "outputs": []
    },
    {
      "cell_type": "markdown",
      "source": [],
      "metadata": {
        "id": "Eaxf7I0X-FgD"
      }
    },
    {
      "cell_type": "code",
      "source": [],
      "metadata": {
        "id": "_NK6L2tg-Fp6"
      },
      "execution_count": null,
      "outputs": []
    },
    {
      "cell_type": "markdown",
      "source": [],
      "metadata": {
        "id": "S9l-26H9-Fy5"
      }
    },
    {
      "cell_type": "code",
      "source": [],
      "metadata": {
        "id": "TqrtwZfs-F75"
      },
      "execution_count": null,
      "outputs": []
    }
  ]
}