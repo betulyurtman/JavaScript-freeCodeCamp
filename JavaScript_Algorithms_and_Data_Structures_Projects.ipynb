{
  "nbformat": 4,
  "nbformat_minor": 0,
  "metadata": {
    "colab": {
      "provenance": []
    },
    "kernelspec": {
      "name": "python3",
      "display_name": "Python 3"
    },
    "language_info": {
      "name": "python"
    }
  },
  "cells": [
    {
      "cell_type": "markdown",
      "source": [
        "# Palindrome Checker"
      ],
      "metadata": {
        "id": "5uybNpgfxgIW"
      }
    },
    {
      "cell_type": "markdown",
      "source": [
        "Return true if the given string is a palindrome. Otherwise, return false.\n",
        "\n",
        "A palindrome is a word or sentence that's spelled the same way both forward and backward, ignoring punctuation, case, and spacing.\n",
        "\n",
        "Note: You'll need to remove all non-alphanumeric characters (punctuation, spaces and symbols) and turn everything into the same case (lower or upper case) in order to check for palindromes.\n",
        "\n",
        "We'll pass strings with varying formats, such as racecar, RaceCar, and race CAR among others.\n",
        "\n",
        "We'll also pass strings with special symbols, such as 2A3*3a2, 2A3 3a2, and 2_A3*3#A2.\n",
        "\n"
      ],
      "metadata": {
        "id": "3EZddcBLqQiV"
      }
    },
    {
      "cell_type": "code",
      "execution_count": null,
      "metadata": {
        "id": "NniiMZw0qOQa"
      },
      "outputs": [],
      "source": [
        "function palindrome(str) {\n",
        "  str = str.toLowerCase().replace(/(\\W)|(\\_)/g,\"\").split(\"\");\n",
        "  for (var i = 0; i < str.length; i++) {\n",
        "    if (str[i] !== str[str.length - 1 -i]) {\n",
        "      return false;\n",
        "    }\n",
        "  }\n",
        "  return true;\n",
        "}\n",
        "\n",
        "palindrome(\"eye\");"
      ]
    },
    {
      "cell_type": "markdown",
      "source": [
        "# Roman Numeral Converter"
      ],
      "metadata": {
        "id": "LmIekPZVxj6m"
      }
    },
    {
      "cell_type": "markdown",
      "source": [
        "Convert the given number into a roman numeral.\n",
        "\n",
        "![Ekran görüntüsü 2023-07-21 170851.png](data:image/png;base64,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)\n",
        "\n",
        "All roman numerals answers should be provided in upper-case."
      ],
      "metadata": {
        "id": "UfSkKr5nqTDl"
      }
    },
    {
      "cell_type": "code",
      "source": [],
      "metadata": {
        "id": "4Ldd_ejBqTKT"
      },
      "execution_count": null,
      "outputs": []
    },
    {
      "cell_type": "markdown",
      "source": [],
      "metadata": {
        "id": "P7vkhyoDqTQQ"
      }
    },
    {
      "cell_type": "code",
      "source": [],
      "metadata": {
        "id": "ICDo_LFzqTWU"
      },
      "execution_count": null,
      "outputs": []
    },
    {
      "cell_type": "markdown",
      "source": [],
      "metadata": {
        "id": "H1njOHG5qTf6"
      }
    },
    {
      "cell_type": "code",
      "source": [],
      "metadata": {
        "id": "fu1Vsxq3qTk8"
      },
      "execution_count": null,
      "outputs": []
    },
    {
      "cell_type": "markdown",
      "source": [],
      "metadata": {
        "id": "oGjcjIN9qUvV"
      }
    },
    {
      "cell_type": "code",
      "source": [],
      "metadata": {
        "id": "VeOF4qPwqU20"
      },
      "execution_count": null,
      "outputs": []
    }
  ]
}