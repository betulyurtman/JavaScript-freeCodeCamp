{
  "nbformat": 4,
  "nbformat_minor": 0,
  "metadata": {
    "colab": {
      "provenance": []
    },
    "kernelspec": {
      "name": "python3",
      "display_name": "Python 3"
    },
    "language_info": {
      "name": "python"
    }
  },
  "cells": [
    {
      "cell_type": "markdown",
      "source": [
        "The formula to convert from Celsius to Fahrenheit is the temperature in Celsius times 9/5, plus 32.\n",
        "\n",
        "You are given a variable celsius representing a temperature in Celsius. Use the variable fahrenheit already defined and assign it the Fahrenheit temperature equivalent to the given Celsius temperature. Use the formula mentioned above to help convert the Celsius temperature to Fahrenheit."
      ],
      "metadata": {
        "id": "8Jl99JXiVheX"
      }
    },
    {
      "cell_type": "code",
      "execution_count": null,
      "metadata": {
        "id": "t1wr5uQjVaQT"
      },
      "outputs": [],
      "source": [
        "function convertCtoF(celsius) {\n",
        "  let fahrenheit = (celsius * 9/5) + 32;\n",
        "  return fahrenheit;\n",
        "}\n",
        "\n",
        "convertCtoF(30);"
      ]
    },
    {
      "cell_type": "markdown",
      "source": [
        "Reverse the provided string and return the reversed string.\n",
        "\n",
        "For example, \"hello\" should become \"olleh\"."
      ],
      "metadata": {
        "id": "A4fvRTSMViGE"
      }
    },
    {
      "cell_type": "code",
      "source": [
        "function reverseString(str) {\n",
        "  return str.split(\"\").reverse().join(\"\");\n",
        "}\n",
        "\n",
        "reverseString(\"hello\");"
      ],
      "metadata": {
        "id": "T9C541kCViPC"
      },
      "execution_count": null,
      "outputs": []
    },
    {
      "cell_type": "markdown",
      "source": [
        "Factorialize a Number\n",
        "Return the factorial of the provided integer.\n",
        "\n",
        "If the integer is represented with the letter n, a factorial is the product of all positive integers less than or equal to n.\n",
        "\n",
        "Factorials are often represented with the shorthand notation n!\n",
        "\n",
        "For example: 5! = 1 * 2 * 3 * 4 * 5 = 120\n",
        "\n",
        "Only integers greater than or equal to zero will be supplied to the function."
      ],
      "metadata": {
        "id": "OcIEk3bLViVh"
      }
    },
    {
      "cell_type": "code",
      "source": [
        "function factorialize(num) {\n",
        "  let product = 1;\n",
        "  for (let i = 2; i <= num; i++) {\n",
        "    product *= i;\n",
        "  }\n",
        "  return product;\n",
        "}\n",
        "\n",
        "factorialize(5);"
      ],
      "metadata": {
        "id": "s5n0pDH1Vifr"
      },
      "execution_count": null,
      "outputs": []
    },
    {
      "cell_type": "markdown",
      "source": [
        "Return the length of the longest word in the provided sentence.\n",
        "\n",
        "Your response should be a number."
      ],
      "metadata": {
        "id": "ARTaiDnsVilR"
      }
    },
    {
      "cell_type": "code",
      "source": [
        "function findLongestWordLength(str) {\n",
        "  let words = str.split(\" \");\n",
        "  let longestWord = 0;\n",
        "\n",
        "  for (let i = 0; i < words.length; i++) {\n",
        "    if (words[i].length > longestWord) {\n",
        "      longestWord = words[i].length;\n",
        "    }\n",
        "  }\n",
        "  return longestWord;\n",
        "}\n",
        "\n",
        "findLongestWordLength(\"The quick brown fox jumped over the lazy dog\");"
      ],
      "metadata": {
        "id": "XkvkGFHtViuF"
      },
      "execution_count": null,
      "outputs": []
    },
    {
      "cell_type": "markdown",
      "source": [
        "Return an array consisting of the largest number from each provided sub-array. For simplicity, the provided array will contain exactly 4 sub-arrays.\n",
        "\n",
        "Remember, you can iterate through an array with a simple for loop, and access each member with array syntax arr[i]."
      ],
      "metadata": {
        "id": "F-KTwPGuVi0p"
      }
    },
    {
      "cell_type": "code",
      "source": [
        "function largestOfFour(arr) {\n",
        "  let largestNums = [];\n",
        "\n",
        "  for (let i = 0; i < arr.length; i++) {\n",
        "    let largestOne = Number.NEGATIVE_INFINITY;\n",
        "    \n",
        "    for (let j = 0; j < arr[i].length; j++) {\n",
        "      if (arr[i][j] >= largestOne) {\n",
        "        largestOne = arr[i][j];\n",
        "      }\n",
        "    }\n",
        "    largestNums[i] = largestOne\n",
        "  }\n",
        "  return largestNums;\n",
        "}\n",
        "\n",
        "largestOfFour([[4, 5, 1, 3], [13, 27, 18, 26], [32, 35, 37, 39], [1000, 1001, 857, 1]]);"
      ],
      "metadata": {
        "id": "EkDK2W4xVi6O"
      },
      "execution_count": null,
      "outputs": []
    },
    {
      "cell_type": "markdown",
      "source": [
        "Check if a string (first argument, str) ends with the given target string (second argument, target).\n",
        "\n",
        "This challenge can be solved with the .endsWith() method, which was introduced in ES2015. But for the purpose of this challenge, we would like you to use one of the JavaScript substring methods instead."
      ],
      "metadata": {
        "id": "00jjNhH1VjAH"
      }
    },
    {
      "cell_type": "code",
      "source": [
        "function confirmEnding(str, target) {\n",
        "\n",
        "  return str.slice(str.length - target.length) === target;\n",
        "  \n",
        "}\n",
        "\n",
        "confirmEnding(\"Bastian\", \"n\");"
      ],
      "metadata": {
        "id": "mtqg71jEVjID"
      },
      "execution_count": null,
      "outputs": []
    },
    {
      "cell_type": "markdown",
      "source": [
        "Repeat a given string str (first argument) for num times (second argument). Return an empty string if num is not a positive number. For the purpose of this challenge, do not use the built-in .repeat() method."
      ],
      "metadata": {
        "id": "uei2bGGWVjOI"
      }
    },
    {
      "cell_type": "code",
      "source": [
        "function repeatStringNumTimes(str, num) {\n",
        "  if (num <= 0) {\n",
        "    return \"\";\n",
        "  } else {\n",
        "    let output = \"\";\n",
        "    for (let i = 0; i < num; i++) {\n",
        "      output += str;\n",
        "    }\n",
        "    return output;\n",
        "  }\n",
        "}\n",
        "\n",
        "repeatStringNumTimes(\"abc\", 3);"
      ],
      "metadata": {
        "id": "bwapmRbVVjTf"
      },
      "execution_count": null,
      "outputs": []
    },
    {
      "cell_type": "markdown",
      "source": [
        "Truncate a string (first argument) if it is longer than the given maximum string length (second argument). Return the truncated string with a ... ending."
      ],
      "metadata": {
        "id": "r1Dhv7knVjaR"
      }
    },
    {
      "cell_type": "code",
      "source": [
        "function truncateString(str, num) {\n",
        "  if (str.length > num) {\n",
        "    return str.slice(0, num) + \"...\";\n",
        "  }\n",
        "  return str;\n",
        "}\n",
        "\n",
        "truncateString(\"A-tisket a-tasket A green and yellow basket\", 8);"
      ],
      "metadata": {
        "id": "TlBlU6dqVjmp"
      },
      "execution_count": null,
      "outputs": []
    },
    {
      "cell_type": "markdown",
      "source": [
        "Create a function that looks through an array arr and returns the first element in it that passes a 'truth test'. This means that given an element x, the 'truth test' is passed if func(x) is true. If no element passes the test, return undefined."
      ],
      "metadata": {
        "id": "0CvPiXqyVjrO"
      }
    },
    {
      "cell_type": "code",
      "source": [
        "function findElement(arr, func) {\n",
        "\n",
        "  for (let i=0; i < arr.length; i++) {\n",
        "    if (func(arr[i])) {\n",
        "      return arr[i];\n",
        "    }\n",
        "  }\n",
        "  return undefined;\n",
        "}\n",
        "\n",
        "findElement([1, 2, 3, 4], num => num % 2 === 0);"
      ],
      "metadata": {
        "id": "WoNFuSRrVjyj"
      },
      "execution_count": null,
      "outputs": []
    },
    {
      "cell_type": "markdown",
      "source": [
        "Check if a value is classified as a boolean primitive. Return true or false.\n",
        "\n",
        "Boolean primitives are true and false."
      ],
      "metadata": {
        "id": "IkWv53ASVj6u"
      }
    },
    {
      "cell_type": "code",
      "source": [
        "function booWho(bool) {\n",
        "  return typeof bool === \"boolean\";\n",
        "}\n",
        "\n",
        "booWho(null);"
      ],
      "metadata": {
        "id": "sTS4npcRVkAd"
      },
      "execution_count": null,
      "outputs": []
    },
    {
      "cell_type": "markdown",
      "source": [
        "Return the provided string with the first letter of each word capitalized. Make sure the rest of the word is in lower case.\n",
        "\n",
        "For the purpose of this exercise, you should also capitalize connecting words like the and of."
      ],
      "metadata": {
        "id": "riohzE8AVkH4"
      }
    },
    {
      "cell_type": "code",
      "source": [
        "function titleCase(str) {\n",
        "  let splittedTitle = str.split(\" \");\n",
        "  let newTitle = [];\n",
        "  for (let i in splittedTitle) {\n",
        "    newTitle[i] = splittedTitle[i][0].toUpperCase() + splittedTitle[i].slice(1).toLowerCase();\n",
        "  }\n",
        "\n",
        "  return newTitle.join(\" \");\n",
        "}\n",
        "\n",
        "titleCase(\"I'm a little tea pot\");"
      ],
      "metadata": {
        "id": "ppd_0HVCVkSn"
      },
      "execution_count": null,
      "outputs": []
    },
    {
      "cell_type": "markdown",
      "source": [
        "You are given two arrays and an index.\n",
        "\n",
        "Copy each element of the first array into the second array, in order.\n",
        "\n",
        "Begin inserting elements at index n of the second array.\n",
        "\n",
        "Return the resulting array. The input arrays should remain the same after the function runs."
      ],
      "metadata": {
        "id": "xcuOkOkVVkbc"
      }
    },
    {
      "cell_type": "code",
      "source": [
        "function frankenSplice(arr1, arr2, n) {\n",
        "  let anArray = arr2.slice();\n",
        "  for (let i = 0; i < arr1.length; i++) {\n",
        "    anArray.splice(n+i, 0, arr1[i]);\n",
        "  }\n",
        "  return anArray;\n",
        "}\n",
        "\n",
        "frankenSplice([1, 2, 3], [4, 5, 6], 1);"
      ],
      "metadata": {
        "id": "gwvF4E9-VkjN"
      },
      "execution_count": null,
      "outputs": []
    },
    {
      "cell_type": "markdown",
      "source": [
        "Remove all falsy values from an array. Return a new array; do not mutate the original array.\n",
        "\n",
        "Falsy values in JavaScript are false, null, 0, \"\", undefined, and NaN.\n",
        "\n",
        "Hint: Try converting each value to a Boolean."
      ],
      "metadata": {
        "id": "jqWL21wDVkss"
      }
    },
    {
      "cell_type": "code",
      "source": [
        "function bouncer(arr) {\n",
        "  let newArr = [];\n",
        "  for (let i = 0; i < arr.length; i++) {\n",
        "    if (arr[i]) {\n",
        "      newArr.push(arr[i]);\n",
        "    }\n",
        "  }\n",
        "  return newArr;\n",
        "}\n",
        "\n",
        "bouncer([7, \"ate\", \"\", false, 9]);"
      ],
      "metadata": {
        "id": "8gEtxH_2Vkz3"
      },
      "execution_count": null,
      "outputs": []
    },
    {
      "cell_type": "markdown",
      "source": [
        "Return the lowest index at which a value (second argument) should be inserted into an array (first argument) once it has been sorted. The returned value should be a number.\n",
        "\n",
        "For example, getIndexToIns([1,2,3,4], 1.5) should return 1 because it is greater than 1 (index 0), but less than 2 (index 1).\n",
        "\n",
        "Likewise, getIndexToIns([20,3,5], 19) should return 2 because once the array has been sorted it will look like [3,5,20] and 19 is less than 20 (index 2) and greater than 5 (index 1)."
      ],
      "metadata": {
        "id": "MjLndC7bVvVy"
      }
    },
    {
      "cell_type": "code",
      "source": [
        "function getIndexToIns(arr, num) {\n",
        "  let arrSd = arr.sort((a, b) => a - b); //Sort the array in ascending order.\n",
        "  for (let i = 0; i < arrSd.length; i++) {\n",
        "    if (arrSd[i] >= num) {\n",
        "      return i;\n",
        "    }\n",
        "  }\n",
        "  return arrSd.length; //Return the length of the array if the num is greater than all the elements in the array.\n",
        "}\n",
        "\n",
        "getIndexToIns([40, 60], 50);"
      ],
      "metadata": {
        "id": "0JEVmiMBVvcS"
      },
      "execution_count": null,
      "outputs": []
    },
    {
      "cell_type": "markdown",
      "source": [
        "function getIndexToIns(arr, num) {\n",
        "  let arrSd = arr.sort((a, b) => a - b); //Sort the array in ascending order.\n",
        "  for (let i = 0; i < arrSd.length; i++) {\n",
        "    if (arrSd[i] >= num) {\n",
        "      return i;\n",
        "    }\n",
        "  }\n",
        "  return arrSd.length; //Return the length of the array if the num is greater than all the elements in the array.\n",
        "}\n",
        "\n",
        "getIndexToIns([40, 60], 50);"
      ],
      "metadata": {
        "id": "pNHLmF0tVvjV"
      }
    },
    {
      "cell_type": "code",
      "source": [
        "function mutation(arr) {\n",
        "  let target = arr[0].toLowerCase();\n",
        "  let test = arr[1].toLowerCase();\n",
        "\n",
        "  for (let i = 0; i < test.length; i++) {\n",
        "    if (target.indexOf(test[i]) < 0) {\n",
        "      return false;\n",
        "    }\n",
        "  }\n",
        "  return true;\n",
        "}\n",
        "\n",
        "mutation([\"hello\", \"hey\"]);"
      ],
      "metadata": {
        "id": "U8H0tgxkVvrt"
      },
      "execution_count": null,
      "outputs": []
    },
    {
      "cell_type": "markdown",
      "source": [],
      "metadata": {
        "id": "qsCgBICZVvzW"
      }
    },
    {
      "cell_type": "code",
      "source": [],
      "metadata": {
        "id": "pdxZm141Vv88"
      },
      "execution_count": null,
      "outputs": []
    }
  ]
}