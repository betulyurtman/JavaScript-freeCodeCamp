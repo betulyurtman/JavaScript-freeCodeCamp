{
  "nbformat": 4,
  "nbformat_minor": 0,
  "metadata": {
    "colab": {
      "provenance": []
    },
    "kernelspec": {
      "name": "python3",
      "display_name": "Python 3"
    },
    "language_info": {
      "name": "python"
    }
  },
  "cells": [
    {
      "cell_type": "markdown",
      "source": [
        "The formula to convert from Celsius to Fahrenheit is the temperature in Celsius times 9/5, plus 32.\n",
        "\n",
        "You are given a variable celsius representing a temperature in Celsius. Use the variable fahrenheit already defined and assign it the Fahrenheit temperature equivalent to the given Celsius temperature. Use the formula mentioned above to help convert the Celsius temperature to Fahrenheit."
      ],
      "metadata": {
        "id": "8Jl99JXiVheX"
      }
    },
    {
      "cell_type": "code",
      "execution_count": null,
      "metadata": {
        "id": "t1wr5uQjVaQT"
      },
      "outputs": [],
      "source": [
        "function convertCtoF(celsius) {\n",
        "  let fahrenheit = (celsius * 9/5) + 32;\n",
        "  return fahrenheit;\n",
        "}\n",
        "\n",
        "convertCtoF(30);"
      ]
    },
    {
      "cell_type": "markdown",
      "source": [
        "Reverse the provided string and return the reversed string.\n",
        "\n",
        "For example, \"hello\" should become \"olleh\"."
      ],
      "metadata": {
        "id": "A4fvRTSMViGE"
      }
    },
    {
      "cell_type": "code",
      "source": [
        "function reverseString(str) {\n",
        "  return str.split(\"\").reverse().join(\"\");\n",
        "}\n",
        "\n",
        "reverseString(\"hello\");"
      ],
      "metadata": {
        "id": "T9C541kCViPC"
      },
      "execution_count": null,
      "outputs": []
    },
    {
      "cell_type": "markdown",
      "source": [
        "Factorialize a Number\n",
        "Return the factorial of the provided integer.\n",
        "\n",
        "If the integer is represented with the letter n, a factorial is the product of all positive integers less than or equal to n.\n",
        "\n",
        "Factorials are often represented with the shorthand notation n!\n",
        "\n",
        "For example: 5! = 1 * 2 * 3 * 4 * 5 = 120\n",
        "\n",
        "Only integers greater than or equal to zero will be supplied to the function."
      ],
      "metadata": {
        "id": "OcIEk3bLViVh"
      }
    },
    {
      "cell_type": "code",
      "source": [
        "function factorialize(num) {\n",
        "  let product = 1;\n",
        "  for (let i = 2; i <= num; i++) {\n",
        "    product *= i;\n",
        "  }\n",
        "  return product;\n",
        "}\n",
        "\n",
        "factorialize(5);"
      ],
      "metadata": {
        "id": "s5n0pDH1Vifr"
      },
      "execution_count": null,
      "outputs": []
    },
    {
      "cell_type": "markdown",
      "source": [
        "Return the length of the longest word in the provided sentence.\n",
        "\n",
        "Your response should be a number."
      ],
      "metadata": {
        "id": "ARTaiDnsVilR"
      }
    },
    {
      "cell_type": "code",
      "source": [
        "function findLongestWordLength(str) {\n",
        "  let words = str.split(\" \");\n",
        "  let longestWord = 0;\n",
        "\n",
        "  for (let i = 0; i < words.length; i++) {\n",
        "    if (words[i].length > longestWord) {\n",
        "      longestWord = words[i].length;\n",
        "    }\n",
        "  }\n",
        "  return longestWord;\n",
        "}\n",
        "\n",
        "findLongestWordLength(\"The quick brown fox jumped over the lazy dog\");"
      ],
      "metadata": {
        "id": "XkvkGFHtViuF"
      },
      "execution_count": null,
      "outputs": []
    },
    {
      "cell_type": "markdown",
      "source": [],
      "metadata": {
        "id": "F-KTwPGuVi0p"
      }
    },
    {
      "cell_type": "code",
      "source": [],
      "metadata": {
        "id": "EkDK2W4xVi6O"
      },
      "execution_count": null,
      "outputs": []
    },
    {
      "cell_type": "markdown",
      "source": [],
      "metadata": {
        "id": "00jjNhH1VjAH"
      }
    },
    {
      "cell_type": "code",
      "source": [],
      "metadata": {
        "id": "mtqg71jEVjID"
      },
      "execution_count": null,
      "outputs": []
    },
    {
      "cell_type": "markdown",
      "source": [],
      "metadata": {
        "id": "uei2bGGWVjOI"
      }
    },
    {
      "cell_type": "code",
      "source": [],
      "metadata": {
        "id": "bwapmRbVVjTf"
      },
      "execution_count": null,
      "outputs": []
    },
    {
      "cell_type": "markdown",
      "source": [],
      "metadata": {
        "id": "r1Dhv7knVjaR"
      }
    },
    {
      "cell_type": "code",
      "source": [],
      "metadata": {
        "id": "TlBlU6dqVjmp"
      },
      "execution_count": null,
      "outputs": []
    },
    {
      "cell_type": "markdown",
      "source": [],
      "metadata": {
        "id": "0CvPiXqyVjrO"
      }
    },
    {
      "cell_type": "code",
      "source": [],
      "metadata": {
        "id": "WoNFuSRrVjyj"
      },
      "execution_count": null,
      "outputs": []
    },
    {
      "cell_type": "markdown",
      "source": [],
      "metadata": {
        "id": "IkWv53ASVj6u"
      }
    },
    {
      "cell_type": "code",
      "source": [],
      "metadata": {
        "id": "sTS4npcRVkAd"
      },
      "execution_count": null,
      "outputs": []
    },
    {
      "cell_type": "markdown",
      "source": [],
      "metadata": {
        "id": "riohzE8AVkH4"
      }
    },
    {
      "cell_type": "code",
      "source": [],
      "metadata": {
        "id": "ppd_0HVCVkSn"
      },
      "execution_count": null,
      "outputs": []
    },
    {
      "cell_type": "markdown",
      "source": [],
      "metadata": {
        "id": "xcuOkOkVVkbc"
      }
    },
    {
      "cell_type": "code",
      "source": [],
      "metadata": {
        "id": "gwvF4E9-VkjN"
      },
      "execution_count": null,
      "outputs": []
    },
    {
      "cell_type": "markdown",
      "source": [],
      "metadata": {
        "id": "jqWL21wDVkss"
      }
    },
    {
      "cell_type": "code",
      "source": [],
      "metadata": {
        "id": "8gEtxH_2Vkz3"
      },
      "execution_count": null,
      "outputs": []
    }
  ]
}