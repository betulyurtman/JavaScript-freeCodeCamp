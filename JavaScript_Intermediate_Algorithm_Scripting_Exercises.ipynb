{
  "nbformat": 4,
  "nbformat_minor": 0,
  "metadata": {
    "colab": {
      "provenance": []
    },
    "kernelspec": {
      "name": "python3",
      "display_name": "Python 3"
    },
    "language_info": {
      "name": "python"
    }
  },
  "cells": [
    {
      "cell_type": "markdown",
      "source": [
        "We'll pass you an array of two numbers. Return the sum of those two numbers plus the sum of all the numbers between them. The lowest number will not always come first.\n",
        "\n",
        "For example, sumAll([4,1]) should return 10 because sum of all the numbers between 1 and 4 (both inclusive) is 10.\n",
        "\n"
      ],
      "metadata": {
        "id": "lz2tcfQFr8rs"
      }
    },
    {
      "cell_type": "code",
      "execution_count": null,
      "metadata": {
        "id": "6SS6qV_brt2b"
      },
      "outputs": [],
      "source": [
        "function sumAll(arr) {\n",
        "  const min = Math.min(arr[0], arr[1]);\n",
        "  const max = Math.max(arr[0], arr[1]);\n",
        "  let sum = 0;\n",
        "  for (let i = min; i <= max; i++) {\n",
        "    sum += i;\n",
        "  }\n",
        "  return sum;\n",
        "}\n",
        "\n",
        "sumAll([1, 4]);"
      ]
    },
    {
      "cell_type": "markdown",
      "source": [
        "Compare two arrays and return a new array with any items only found in one of the two given arrays, but not both. In other words, return the symmetric difference of the two arrays.\n",
        "\n",
        "Note: You can return the array with its elements in any order.\n",
        "\n"
      ],
      "metadata": {
        "id": "gg09GHl0r996"
      }
    },
    {
      "cell_type": "code",
      "source": [
        "function diffArray(arr1, arr2) {\n",
        "  const newArr = [];\n",
        "  function onlyInFirst(first, second) {\n",
        "    for (let i = 0; i < first.length; i++) {\n",
        "      if (second.indexOf(first[i]) === -1) {\n",
        "        newArr.push(first[i]);\n",
        "      }\n",
        "    }\n",
        "  }\n",
        "  onlyInFirst(arr1, arr2);\n",
        "  onlyInFirst(arr2, arr1);\n",
        "  return newArr;\n",
        "}"
      ],
      "metadata": {
        "id": "1YIgLiG3r-E5"
      },
      "execution_count": null,
      "outputs": []
    },
    {
      "cell_type": "markdown",
      "source": [
        "You will be provided with an initial array (the first argument in the destroyer function), followed by one or more arguments. Remove all elements from the initial array that are of the same value as these arguments.\n",
        "\n",
        "Note: You have to use the arguments object."
      ],
      "metadata": {
        "id": "y7xXwn5Kr-Lk"
      }
    },
    {
      "cell_type": "code",
      "source": [
        "function destroyer(arr) {\n",
        "  const args = Array.from(arguments).slice(1); // The Array.from(arguments).slice(1) converts the arguments object into an array and removes the first element, which is the initial array (arr).\n",
        "  return arr.filter(function(element) { // the arr.filter() method is used to create a new array that contains only the elements from the arr array that satisfy a certain condition.\n",
        "    return !args.includes(element);\n",
        "  });\n",
        "}\n",
        "\n",
        "destroyer([1, 2, 3, 1, 2, 3], 2, 3);"
      ],
      "metadata": {
        "id": "4KANgDVkr-Q8"
      },
      "execution_count": null,
      "outputs": []
    },
    {
      "cell_type": "markdown",
      "source": [
        "Make a function that looks through an array of objects (first argument) and returns an array of all objects that have matching name and value pairs (second argument). Each name and value pair of the source object has to be present in the object from the collection if it is to be included in the returned array.\n",
        "\n",
        "For example, if the first argument is [{ first: \"Romeo\", last: \"Montague\" }, { first: \"Mercutio\", last: null }, { first: \"Tybalt\", last: \"Capulet\" }], and the second argument is { last: \"Capulet\" }, then you must return the third object from the array (the first argument), because it contains the name and its value, that was passed on as the second argument."
      ],
      "metadata": {
        "id": "OfqzpF9dr-bL"
      }
    },
    {
      "cell_type": "code",
      "source": [
        "function whatIsInAName(collection, source) {\n",
        "  return collection.filter(function(object) {\n",
        "    for (let i in source) {\n",
        "      if (object[i] !== source[i]) { // For each key in the source object, the code checks if the corresponding value in the object matches the value in the source object using object[key] !== source[key].\n",
        "\n",
        "// If any of the values don't match, the callback function returns false, indicating that the object does not meet the matching criteria.\n",
        "        return false;\n",
        "      }\n",
        "    }\n",
        "    return true;\n",
        "  });\n",
        "}\n",
        "\n",
        "whatIsInAName([{ first: \"Romeo\", last: \"Montague\" }, { first: \"Mercutio\", last: null }, { first: \"Tybalt\", last: \"Capulet\" }], { last: \"Capulet\" });"
      ],
      "metadata": {
        "id": "EbL9gdnqr-gM"
      },
      "execution_count": null,
      "outputs": []
    },
    {
      "cell_type": "markdown",
      "source": [
        "Convert a string to spinal case. Spinal case is all-lowercase-words-joined-by-dashes.\n",
        "\n"
      ],
      "metadata": {
        "id": "TREw-8C-r-mx"
      }
    },
    {
      "cell_type": "code",
      "source": [
        "function spinalCase(str) {\n",
        "  str = str.replace(/[\\s_]+/g, '-');\n",
        "  str = str.replace(/([a-z])([A-Z])/g, '$1-$2');\n",
        "  str = str.toLowerCase();\n",
        "  return str;\n",
        "}\n",
        "\n",
        "spinalCase('This Is Spinal Tap');"
      ],
      "metadata": {
        "id": "v2qO8fb1r-sH"
      },
      "execution_count": null,
      "outputs": []
    },
    {
      "cell_type": "markdown",
      "source": [
        "Translate the provided string to Pig Latin. Input strings are guaranteed to be English words in all lowercase.\n",
        "\n"
      ],
      "metadata": {
        "id": "Peh2xI5tr-y1"
      }
    },
    {
      "cell_type": "code",
      "source": [
        "function translatePigLatin(str) {\n",
        "  let consonantRegex = /^[^aeiou]+/;\n",
        "  let myConsonants = str.match(consonantRegex); // This extracts the consonant cluster from the start of the string.\n",
        "  return myConsonants !== null\n",
        "    ? str\n",
        "      .replace(consonantRegex, \"\") // This method searches for the first occurrence of the consonantRegex pattern in the string and replaces it with an empty string, effectively removing the consonant cluster from the start of the string.\n",
        "      .concat(myConsonants)\n",
        "      .concat(\"ay\")\n",
        "    : str.concat(\"way\")\n",
        "}\n",
        "\n",
        "translatePigLatin(\"consonant\");"
      ],
      "metadata": {
        "id": "yOYtPQk2r-6P"
      },
      "execution_count": null,
      "outputs": []
    },
    {
      "cell_type": "markdown",
      "source": [
        "Perform a search and replace on the sentence using the arguments provided and return the new sentence.\n",
        "\n",
        "First argument is the sentence to perform the search and replace on.\n",
        "\n",
        "Second argument is the word that you will be replacing (before).\n",
        "\n",
        "Third argument is what you will be replacing the second argument with (after).\n",
        "\n",
        "Note: Preserve the case of the first character in the original word when you are replacing it. For example if you mean to replace the word Book with the word dog, it should be replaced as Dog\n",
        "\n"
      ],
      "metadata": {
        "id": "_BvqwvKrr_Jy"
      }
    },
    {
      "cell_type": "code",
      "source": [
        "function myReplace(str, before, after) {\n",
        "  const firstCharUpperCase = /^[A-Z]/.test(before);\n",
        "  const replaced = str.replace(before, function(match) {\n",
        "    if (firstCharUpperCase) {\n",
        "      return after.charAt(0).toUpperCase() + after.slice(1);\n",
        "    } else {\n",
        "      return after.charAt(0).toLowerCase() + after.slice(1);\n",
        "    }\n",
        "  });\n",
        "  return replaced;\n",
        "}\n",
        "\n",
        "myReplace(\"A quick brown fox jumped over the lazy dog\", \"jumped\", \"leaped\");"
      ],
      "metadata": {
        "id": "b6Rs2caIr_LN"
      },
      "execution_count": null,
      "outputs": []
    },
    {
      "cell_type": "markdown",
      "source": [
        "Pairs of DNA strands consist of nucleobase pairs. Base pairs are represented by the characters AT and CG, which form building blocks of the DNA double helix.\n",
        "\n",
        "The DNA strand is missing the pairing element. Write a function to match the missing base pairs for the provided DNA strand. For each character in the provided string, find the base pair character. Return the results as a 2d array.\n",
        "\n",
        "For example, for the input GCG, return [[\"G\", \"C\"], [\"C\",\"G\"], [\"G\", \"C\"]]\n",
        "\n",
        "The character and its pair are paired up in an array, and all the arrays are grouped into one encapsulating array."
      ],
      "metadata": {
        "id": "pHiEbgsQr_PA"
      }
    },
    {
      "cell_type": "code",
      "source": [
        "function pairElement(str) {\n",
        "  const pairs = {\n",
        "    A: \"T\",\n",
        "    T: \"A\",\n",
        "    C: \"G\",\n",
        "    G: \"C\"\n",
        "  };\n",
        "\n",
        "  const result = []\n",
        "\n",
        "  for (let i = 0; i < str.length; i++) {\n",
        "    const currentBase = str[i];\n",
        "    const pair = [currentBase, pairs[currentBase]];\n",
        "    result.push(pair);\n",
        "  }\n",
        "  return result;\n",
        "}\n",
        "\n",
        "pairElement(\"GCG\");"
      ],
      "metadata": {
        "id": "JCG2G68ir_V7"
      },
      "execution_count": null,
      "outputs": []
    },
    {
      "cell_type": "markdown",
      "source": [
        "Find the missing letter in the passed letter range and return it.\n",
        "\n",
        "If all letters are present in the range, return undefined."
      ],
      "metadata": {
        "id": "pYMQmFBLr_mZ"
      }
    },
    {
      "cell_type": "code",
      "source": [
        "????"
      ],
      "metadata": {
        "id": "_tpQre3kr_nn"
      },
      "execution_count": null,
      "outputs": []
    },
    {
      "cell_type": "markdown",
      "source": [
        "Write a function that takes two or more arrays and returns a new array of unique values in the order of the original provided arrays.\n",
        "\n",
        "In other words, all values present from all arrays should be included in their original order, but with no duplicates in the final array.\n",
        "\n",
        "The unique numbers should be sorted by their original order, but the final array should not be sorted in numerical order.\n",
        "\n",
        "Check the assertion tests for examples.\n",
        "\n"
      ],
      "metadata": {
        "id": "q5iv3Ve6r_s9"
      }
    },
    {
      "cell_type": "code",
      "source": [
        "????"
      ],
      "metadata": {
        "id": "BXu6Eek6r_ya"
      },
      "execution_count": null,
      "outputs": []
    },
    {
      "cell_type": "markdown",
      "source": [
        "Convert HTML Entities\n",
        "Convert the characters &, <, >, \" (double quote), and ' (apostrophe), in a string to their corresponding HTML entities.\n",
        "\n"
      ],
      "metadata": {
        "id": "Ny0UfBDqr_6H"
      }
    },
    {
      "cell_type": "code",
      "source": [
        "function convertHTML(str) {\n",
        "  const entities = {\n",
        "    \"&\": \"&amp;\",\n",
        "    \"<\": \"&lt;\",\n",
        "    \">\": \"&gt;\",\n",
        "    '\"': \"&quot;\",\n",
        "    \"'\": \"&apos;\"\n",
        "  };\n",
        "\n",
        "  return str.replace(/[&<>\"'\"]/g, (i) => entities[i]);\n",
        "}\n",
        "\n",
        "convertHTML(\"Dolce & Gabbana\");"
      ],
      "metadata": {
        "id": "qpW-TGtqsANV"
      },
      "execution_count": null,
      "outputs": []
    },
    {
      "cell_type": "markdown",
      "source": [
        "Given a positive integer num, return the sum of all odd Fibonacci numbers that are less than or equal to num.\n",
        "\n",
        "The first two numbers in the Fibonacci sequence are 0 and 1. Every additional number in the sequence is the sum of the two previous numbers. The first seven numbers of the Fibonacci sequence are 0, 1, 1, 2, 3, 5 and 8.\n",
        "\n",
        "For example, sumFibs(10) should return 10 because all odd Fibonacci numbers less than or equal to 10 are 1, 1, 3, and 5.\n",
        "\n"
      ],
      "metadata": {
        "id": "1933qk3lsAOm"
      }
    },
    {
      "cell_type": "code",
      "source": [
        "function sumFibs(num) {\n",
        "  let prevNum = 0;\n",
        "  let currNum = 1;\n",
        "  let result = 0;\n",
        "  while (currNum <= num) { // We are going to get the numbers less than given num.\n",
        "    if (currNum % 2 !== 0) { // We check if the current number is odd or not.\n",
        "      result += currNum;\n",
        "    }\n",
        "    currNum += prevNum; // We update the current\n",
        "    prevNum = currNum - prevNum; // and previous numbers each time.\n",
        "  }\n",
        "  return result;\n",
        "}\n",
        "\n",
        "sumFibs(4);"
      ],
      "metadata": {
        "id": "ASG610y8sAQA"
      },
      "execution_count": null,
      "outputs": []
    },
    {
      "cell_type": "markdown",
      "source": [
        "A prime number is a whole number greater than 1 with exactly two divisors: 1 and itself. For example, 2 is a prime number because it is only divisible by 1 and 2. In contrast, 4 is not prime since it is divisible by 1, 2 and 4.\n",
        "\n",
        "Rewrite sumPrimes so it returns the sum of all prime numbers that are less than or equal to num."
      ],
      "metadata": {
        "id": "UmtVifiSsASh"
      }
    },
    {
      "cell_type": "code",
      "source": [
        "function sumPrimes(num) {\n",
        "  let result = 0;\n",
        "  for (let i = 2; i <= num; i++) {\n",
        "    var isPrime = true;\n",
        "    for (var j = 2; j <= Math.sqrt(i); j++) {\n",
        "      if (i % j === 0) {\n",
        "        isPrime = false;\n",
        "        break;\n",
        "      }\n",
        "    }\n",
        "    if (isPrime) {\n",
        "      result += i;\n",
        "    }\n",
        "  }\n",
        "  return result;\n",
        "}\n",
        "\n",
        "sumPrimes(10);"
      ],
      "metadata": {
        "id": "7OOXEnXcsAaG"
      },
      "execution_count": null,
      "outputs": []
    },
    {
      "cell_type": "markdown",
      "source": [
        "Find the smallest common multiple of the provided parameters that can be evenly divided by both, as well as by all sequential numbers in the range between these parameters.\n",
        "\n",
        "The range will be an array of two numbers that will not necessarily be in numerical order.\n",
        "\n",
        "For example, if given 1 and 3, find the smallest common multiple of both 1 and 3 that is also evenly divisible by all numbers between 1 and 3. The answer here would be 6."
      ],
      "metadata": {
        "id": "eENl5mTJsAiJ"
      }
    },
    {
      "cell_type": "code",
      "source": [
        "??????"
      ],
      "metadata": {
        "id": "1FNTzDhEsAok"
      },
      "execution_count": null,
      "outputs": []
    },
    {
      "cell_type": "markdown",
      "source": [
        "Given the array arr, iterate through and remove each element starting from the first element (the 0 index) until the function func returns true when the iterated element is passed through it.\n",
        "\n",
        "Then return the rest of the array once the condition is satisfied, otherwise, arr should be returned as an empty array.\n",
        "\n"
      ],
      "metadata": {
        "id": "6O8zg5ersBFH"
      }
    },
    {
      "cell_type": "code",
      "source": [
        "function dropElements(arr, func) {\n",
        "  let originalLen = arr.length; // We crete a variable to keep the original length because if we directly write arr.length in the for loop part, the length of the array will change after every iteration and it will stop before it should.\n",
        "  for (let i = 0; i < originalLen; i++) {\n",
        "    if(func(arr[0])) { // We take 0th element because we already removed the previous one from the array.\n",
        "      break;\n",
        "    } else {\n",
        "      arr.shift(); // We remove the elements that do not satisfies our condition and keep the other ones in the final array.\n",
        "    }\n",
        "  }\n",
        "  return arr;\n",
        "}\n",
        "\n",
        "dropElements([1, 2, 3], function(n) {return n < 3; });"
      ],
      "metadata": {
        "id": "oHVaDAlDsBG5"
      },
      "execution_count": null,
      "outputs": []
    },
    {
      "cell_type": "markdown",
      "source": [
        "Flatten a nested array. You must account for varying levels of nesting."
      ],
      "metadata": {
        "id": "afpnFKlnsBH_"
      }
    },
    {
      "cell_type": "code",
      "source": [
        "function steamrollArray(arr) {\n",
        "  const newArray = [];\n",
        "  for (const item of arr) { // The const item of array syntax is used to iterate through an array.\n",
        "    if(Array.isArray(item)) { // The Array.isArray() function is used to check if an object is a list.\n",
        "      newArray.push(...steamrollArray(item)); // The ... operator is used to spread the contents of an array into another array.\n",
        "    } else {\n",
        "      newArray.push(item);\n",
        "    }\n",
        "  }\n",
        "  return newArray;\n",
        "}\n",
        "\n",
        "steamrollArray([1, [2], [3, [[4]]]]);"
      ],
      "metadata": {
        "id": "zec6P6k8sBJr"
      },
      "execution_count": null,
      "outputs": []
    },
    {
      "cell_type": "markdown",
      "source": [
        "Return an English translated sentence of the passed binary string.\n",
        "\n",
        "The binary string will be space separated."
      ],
      "metadata": {
        "id": "KQnBLObYsBbG"
      }
    },
    {
      "cell_type": "code",
      "source": [
        "function binaryAgent(str) {\n",
        "  var biString = str.split(\" \");\n",
        "  var uniString = [];\n",
        "\n",
        "  for (var i = 0; i < biString.length; i++) {\n",
        "    uniString.push(String.fromCharCode(parseInt(biString[i], 2)));\n",
        "// The parseInt() function takes a string as input and returns the corresponding decimal number. The radix parameter in the parseInt() function specifies the base of the number. In this case, the radix parameter is set to 2, which means that the parseInt() function will convert the binary string to a decimal number. The radix parameter is used to specify which numeral system to be used\n",
        "\n",
        "// The code then uses the String.fromCharCode() function to convert the decimal number to a character. The String.fromCharCode() function takes a decimal number as input and returns the corresponding character.\n",
        "  }\n",
        "  return uniString.join(\"\");\n",
        "}\n",
        "\n",
        "binaryAgent(\"01000001 01110010 01100101 01101110 00100111 01110100 00100000 01100010 01101111 01101110 01100110 01101001 01110010 01100101 01110011 00100000 01100110 01110101 01101110 00100001 00111111\");"
      ],
      "metadata": {
        "id": "waKaa274sBfl"
      },
      "execution_count": null,
      "outputs": []
    },
    {
      "cell_type": "markdown",
      "source": [
        "Check if the predicate (second argument) is truthy on all elements of a collection (first argument).\n",
        "\n",
        "In other words, you are given an array collection of objects. The predicate pre will be an object property and you need to return true if its value is truthy. Otherwise, return false.\n",
        "\n",
        "In JavaScript, truthy values are values that translate to true when evaluated in a Boolean context.\n",
        "\n",
        "Remember, you can access object properties through either dot notation or [] notation."
      ],
      "metadata": {
        "id": "ilxPcw3bsBl9"
      }
    },
    {
      "cell_type": "code",
      "source": [
        "function truthCheck(collection, pre) {\n",
        "  return collection.every(obj => obj[pre]);\n",
        "}\n",
        "\n",
        "truthCheck([{name: \"Quincy\", role: \"Founder\", isBot: false}, {name: \"Naomi\", role: \"\", isBot: false}, {name: \"Camperbot\", role: \"Bot\", isBot: true}], \"isBot\");"
      ],
      "metadata": {
        "id": "l-wgKsNfsBuy"
      },
      "execution_count": null,
      "outputs": []
    },
    {
      "cell_type": "markdown",
      "source": [
        "Create a function that sums two arguments together. If only one argument is provided, then return a function that expects one argument and returns the sum.\n",
        "\n",
        "For example, addTogether(2, 3) should return 5, and addTogether(2) should return a function.\n",
        "\n",
        "Calling this returned function with a single argument will then return the sum:\n",
        "\n",
        "var sumTwoAnd = addTogether(2);\n",
        "sumTwoAnd(3) returns 5.\n",
        "\n",
        "If either argument isn't a valid number, return undefined."
      ],
      "metadata": {
        "id": "WlVFZZtysBzj"
      }
    },
    {
      "cell_type": "code",
      "source": [
        "function addTogether() {\n",
        "  const [first, second] = arguments; // The const [first, second] = arguments statement is used to destructure the arguments passed to the addTogether() function.\n",
        "// The arguments object is a special object in JavaScript that contains the arguments that are passed to a function. The arguments object is an array-like object, but it is not an array. This means that you cannot use the push() or pop() methods on the arguments object.\n",
        "\n",
        "  if (typeof (first) !== \"number\") { // The typeof operator is used to check the type of a variable.\n",
        "    return undefined;\n",
        "    }\n",
        "      if (typeof (second) === \"number\") return first + second;\n",
        "    if (arguments.length === 1) return (second) => addTogether(first, second);\n",
        "}\n",
        "\n",
        "addTogether(2,3);"
      ],
      "metadata": {
        "id": "ttNTG6bjsCkk"
      },
      "execution_count": null,
      "outputs": []
    },
    {
      "cell_type": "markdown",
      "source": [
        "Fill in the object constructor with the following methods below:\n",
        "\n",
        "getFirstName()\n",
        "\n",
        "getLastName()\n",
        "\n",
        "getFullName()\n",
        "\n",
        "setFirstName(first)\n",
        "\n",
        "setLastName(last)\n",
        "\n",
        "setFullName(firstAndLast)\n",
        "\n",
        "Run the tests to see the expected output for each method. The methods that take an argument must accept only one argument and it has to be a string. These methods must be the only available means of interacting with the object."
      ],
      "metadata": {
        "id": "FwFj7V8wsErd"
      }
    },
    {
      "cell_type": "code",
      "source": [
        "const Person = function(firstAndLast) {\n",
        "  let fullName = firstAndLast;\n",
        "\n",
        "  this.getFirstName = function() {\n",
        "    return fullName.split(\" \")[0];\n",
        "  };\n",
        "\n",
        "  this.getLastName = function() {\n",
        "    return fullName.split(\" \")[1];\n",
        "  };\n",
        "\n",
        "  this.getFullName = function() {\n",
        "    return fullName;\n",
        "  };\n",
        "\n",
        "  this.setFirstName = function(name) {\n",
        "    fullName = name + \" \" + fullName.split(\" \")[1];\n",
        "  };\n",
        "\n",
        "  this.setLastName = function(name) {\n",
        "    fullName = fullName.split(\" \")[0] + \" \" + name;\n",
        "  };\n",
        "\n",
        "  this.setFullName = function(name) {\n",
        "    fullName = name;\n",
        "  };\n",
        "};\n",
        "\n",
        "const bob = new Person(\"Bob Ross\");\n",
        "console.log(bob.getFullName());"
      ],
      "metadata": {
        "id": "pczqLuZrsEtV"
      },
      "execution_count": null,
      "outputs": []
    },
    {
      "cell_type": "markdown",
      "source": [
        "According to Kepler's Third Law, the orbital period  T\n",
        "  of two point masses orbiting each other in a circular or elliptic orbit is:\n",
        "\n",
        "T=2πa3μ−−−√\n",
        "\n",
        "a\n",
        "  is the orbit's semi-major axis\n",
        "μ=GM\n",
        "  is the standard gravitational parameter\n",
        "G\n",
        "  is the gravitational constant,\n",
        "M\n",
        "  is the mass of the more massive body.\n",
        "Return a new array that transforms the elements' average altitude into their orbital periods (in seconds).\n",
        "\n",
        "The array will contain objects in the format {name: 'name', avgAlt: avgAlt}.\n",
        "\n",
        "The values should be rounded to the nearest whole number. The body being orbited is Earth.\n",
        "\n",
        "The radius of the earth is 6367.4447 kilometers, and the GM value of earth is 398600.4418 km3s-2."
      ],
      "metadata": {
        "id": "MuskqiyPsExP"
      }
    },
    {
      "cell_type": "code",
      "source": [
        "function orbitalPeriod(arr) {\n",
        "  const GM = 398600.4418;\n",
        "  const earthRadius = 6367.4447;\n",
        "  const a = 2 * Math.PI;\n",
        "  const newArr = [];\n",
        "\n",
        "  const getOrbPeriod = function(obj) {\n",
        "    const c = Math.pow(earthRadius + obj.avgAlt, 3);\n",
        "    const b = Math.sqrt(c / GM);\n",
        "    const orbPeriod = Math.round(a * b);\n",
        "\n",
        "    return {name: obj.name, orbitalPeriod: orbPeriod};\n",
        "  };\n",
        "  for (let elem in arr) {\n",
        "    newArr.push(getOrbPeriod(arr[elem]));\n",
        "  }\n",
        "  return newArr;\n",
        "}\n",
        "\n",
        "orbitalPeriod([{name : \"sputnik\", avgAlt : 35873.5553}]);"
      ],
      "metadata": {
        "id": "bJ39wHpMsFOp"
      },
      "execution_count": null,
      "outputs": []
    },
    {
      "cell_type": "markdown",
      "source": [],
      "metadata": {
        "id": "aFIvZbblsI_n"
      }
    },
    {
      "cell_type": "code",
      "source": [],
      "metadata": {
        "id": "oNLOT52vsJL4"
      },
      "execution_count": null,
      "outputs": []
    }
  ]
}