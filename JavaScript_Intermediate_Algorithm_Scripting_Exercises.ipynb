{
  "nbformat": 4,
  "nbformat_minor": 0,
  "metadata": {
    "colab": {
      "provenance": []
    },
    "kernelspec": {
      "name": "python3",
      "display_name": "Python 3"
    },
    "language_info": {
      "name": "python"
    }
  },
  "cells": [
    {
      "cell_type": "markdown",
      "source": [
        "We'll pass you an array of two numbers. Return the sum of those two numbers plus the sum of all the numbers between them. The lowest number will not always come first.\n",
        "\n",
        "For example, sumAll([4,1]) should return 10 because sum of all the numbers between 1 and 4 (both inclusive) is 10.\n",
        "\n"
      ],
      "metadata": {
        "id": "lz2tcfQFr8rs"
      }
    },
    {
      "cell_type": "code",
      "execution_count": null,
      "metadata": {
        "id": "6SS6qV_brt2b"
      },
      "outputs": [],
      "source": [
        "function sumAll(arr) {\n",
        "  const min = Math.min(arr[0], arr[1]);\n",
        "  const max = Math.max(arr[0], arr[1]);\n",
        "  let sum = 0;\n",
        "  for (let i = min; i <= max; i++) {\n",
        "    sum += i;\n",
        "  }\n",
        "  return sum;\n",
        "}\n",
        "\n",
        "sumAll([1, 4]);"
      ]
    },
    {
      "cell_type": "markdown",
      "source": [
        "Compare two arrays and return a new array with any items only found in one of the two given arrays, but not both. In other words, return the symmetric difference of the two arrays.\n",
        "\n",
        "Note: You can return the array with its elements in any order.\n",
        "\n"
      ],
      "metadata": {
        "id": "gg09GHl0r996"
      }
    },
    {
      "cell_type": "code",
      "source": [
        "function diffArray(arr1, arr2) {\n",
        "  const newArr = [];\n",
        "  function onlyInFirst(first, second) {\n",
        "    for (let i = 0; i < first.length; i++) {\n",
        "      if (second.indexOf(first[i]) === -1) {\n",
        "        newArr.push(first[i]);\n",
        "      }\n",
        "    }\n",
        "  }\n",
        "  onlyInFirst(arr1, arr2);\n",
        "  onlyInFirst(arr2, arr1);\n",
        "  return newArr;\n",
        "}"
      ],
      "metadata": {
        "id": "1YIgLiG3r-E5"
      },
      "execution_count": null,
      "outputs": []
    },
    {
      "cell_type": "markdown",
      "source": [
        "You will be provided with an initial array (the first argument in the destroyer function), followed by one or more arguments. Remove all elements from the initial array that are of the same value as these arguments.\n",
        "\n",
        "Note: You have to use the arguments object."
      ],
      "metadata": {
        "id": "y7xXwn5Kr-Lk"
      }
    },
    {
      "cell_type": "code",
      "source": [
        "function destroyer(arr) {\n",
        "  const args = Array.from(arguments).slice(1); // The Array.from(arguments).slice(1) converts the arguments object into an array and removes the first element, which is the initial array (arr).\n",
        "  return arr.filter(function(element) { // the arr.filter() method is used to create a new array that contains only the elements from the arr array that satisfy a certain condition.\n",
        "    return !args.includes(element);\n",
        "  });\n",
        "}\n",
        "\n",
        "destroyer([1, 2, 3, 1, 2, 3], 2, 3);"
      ],
      "metadata": {
        "id": "4KANgDVkr-Q8"
      },
      "execution_count": null,
      "outputs": []
    },
    {
      "cell_type": "markdown",
      "source": [
        "Make a function that looks through an array of objects (first argument) and returns an array of all objects that have matching name and value pairs (second argument). Each name and value pair of the source object has to be present in the object from the collection if it is to be included in the returned array.\n",
        "\n",
        "For example, if the first argument is [{ first: \"Romeo\", last: \"Montague\" }, { first: \"Mercutio\", last: null }, { first: \"Tybalt\", last: \"Capulet\" }], and the second argument is { last: \"Capulet\" }, then you must return the third object from the array (the first argument), because it contains the name and its value, that was passed on as the second argument."
      ],
      "metadata": {
        "id": "OfqzpF9dr-bL"
      }
    },
    {
      "cell_type": "code",
      "source": [
        "function whatIsInAName(collection, source) {\n",
        "  return collection.filter(function(object) {\n",
        "    for (let i in source) {\n",
        "      if (object[i] !== source[i]) { // For each key in the source object, the code checks if the corresponding value in the object matches the value in the source object using object[key] !== source[key].\n",
        "\n",
        "// If any of the values don't match, the callback function returns false, indicating that the object does not meet the matching criteria.\n",
        "        return false;\n",
        "      }\n",
        "    }\n",
        "    return true;\n",
        "  });\n",
        "}\n",
        "\n",
        "whatIsInAName([{ first: \"Romeo\", last: \"Montague\" }, { first: \"Mercutio\", last: null }, { first: \"Tybalt\", last: \"Capulet\" }], { last: \"Capulet\" });"
      ],
      "metadata": {
        "id": "EbL9gdnqr-gM"
      },
      "execution_count": null,
      "outputs": []
    },
    {
      "cell_type": "markdown",
      "source": [
        "Convert a string to spinal case. Spinal case is all-lowercase-words-joined-by-dashes.\n",
        "\n"
      ],
      "metadata": {
        "id": "TREw-8C-r-mx"
      }
    },
    {
      "cell_type": "code",
      "source": [
        "function spinalCase(str) {\n",
        "  str = str.replace(/[\\s_]+/g, '-');\n",
        "  str = str.replace(/([a-z])([A-Z])/g, '$1-$2');\n",
        "  str = str.toLowerCase();\n",
        "  return str;\n",
        "}\n",
        "\n",
        "spinalCase('This Is Spinal Tap');"
      ],
      "metadata": {
        "id": "v2qO8fb1r-sH"
      },
      "execution_count": null,
      "outputs": []
    },
    {
      "cell_type": "markdown",
      "source": [
        "Translate the provided string to Pig Latin. Input strings are guaranteed to be English words in all lowercase.\n",
        "\n"
      ],
      "metadata": {
        "id": "Peh2xI5tr-y1"
      }
    },
    {
      "cell_type": "code",
      "source": [
        "function translatePigLatin(str) {\n",
        "  let consonantRegex = /^[^aeiou]+/;\n",
        "  let myConsonants = str.match(consonantRegex); // This extracts the consonant cluster from the start of the string.\n",
        "  return myConsonants !== null\n",
        "    ? str\n",
        "      .replace(consonantRegex, \"\") // This method searches for the first occurrence of the consonantRegex pattern in the string and replaces it with an empty string, effectively removing the consonant cluster from the start of the string.\n",
        "      .concat(myConsonants)\n",
        "      .concat(\"ay\")\n",
        "    : str.concat(\"way\")\n",
        "}\n",
        "\n",
        "translatePigLatin(\"consonant\");"
      ],
      "metadata": {
        "id": "yOYtPQk2r-6P"
      },
      "execution_count": null,
      "outputs": []
    },
    {
      "cell_type": "markdown",
      "source": [
        "Perform a search and replace on the sentence using the arguments provided and return the new sentence.\n",
        "\n",
        "First argument is the sentence to perform the search and replace on.\n",
        "\n",
        "Second argument is the word that you will be replacing (before).\n",
        "\n",
        "Third argument is what you will be replacing the second argument with (after).\n",
        "\n",
        "Note: Preserve the case of the first character in the original word when you are replacing it. For example if you mean to replace the word Book with the word dog, it should be replaced as Dog\n",
        "\n"
      ],
      "metadata": {
        "id": "_BvqwvKrr_Jy"
      }
    },
    {
      "cell_type": "code",
      "source": [
        "function myReplace(str, before, after) {\n",
        "  const firstCharUpperCase = /^[A-Z]/.test(before);\n",
        "  const replaced = str.replace(before, function(match) {\n",
        "    if (firstCharUpperCase) {\n",
        "      return after.charAt(0).toUpperCase() + after.slice(1);\n",
        "    } else {\n",
        "      return after.charAt(0).toLowerCase() + after.slice(1);\n",
        "    }\n",
        "  });\n",
        "  return replaced;\n",
        "}\n",
        "\n",
        "myReplace(\"A quick brown fox jumped over the lazy dog\", \"jumped\", \"leaped\");"
      ],
      "metadata": {
        "id": "b6Rs2caIr_LN"
      },
      "execution_count": null,
      "outputs": []
    },
    {
      "cell_type": "markdown",
      "source": [
        "Pairs of DNA strands consist of nucleobase pairs. Base pairs are represented by the characters AT and CG, which form building blocks of the DNA double helix.\n",
        "\n",
        "The DNA strand is missing the pairing element. Write a function to match the missing base pairs for the provided DNA strand. For each character in the provided string, find the base pair character. Return the results as a 2d array.\n",
        "\n",
        "For example, for the input GCG, return [[\"G\", \"C\"], [\"C\",\"G\"], [\"G\", \"C\"]]\n",
        "\n",
        "The character and its pair are paired up in an array, and all the arrays are grouped into one encapsulating array."
      ],
      "metadata": {
        "id": "pHiEbgsQr_PA"
      }
    },
    {
      "cell_type": "code",
      "source": [
        "function pairElement(str) {\n",
        "  const pairs = {\n",
        "    A: \"T\",\n",
        "    T: \"A\",\n",
        "    C: \"G\",\n",
        "    G: \"C\"\n",
        "  };\n",
        "\n",
        "  const result = []\n",
        "\n",
        "  for (let i = 0; i < str.length; i++) {\n",
        "    const currentBase = str[i];\n",
        "    const pair = [currentBase, pairs[currentBase]];\n",
        "    result.push(pair);\n",
        "  }\n",
        "  return result;\n",
        "}\n",
        "\n",
        "pairElement(\"GCG\");"
      ],
      "metadata": {
        "id": "JCG2G68ir_V7"
      },
      "execution_count": null,
      "outputs": []
    },
    {
      "cell_type": "markdown",
      "source": [
        "Find the missing letter in the passed letter range and return it.\n",
        "\n",
        "If all letters are present in the range, return undefined."
      ],
      "metadata": {
        "id": "pYMQmFBLr_mZ"
      }
    },
    {
      "cell_type": "code",
      "source": [
        "????"
      ],
      "metadata": {
        "id": "_tpQre3kr_nn"
      },
      "execution_count": null,
      "outputs": []
    },
    {
      "cell_type": "markdown",
      "source": [
        "Write a function that takes two or more arrays and returns a new array of unique values in the order of the original provided arrays.\n",
        "\n",
        "In other words, all values present from all arrays should be included in their original order, but with no duplicates in the final array.\n",
        "\n",
        "The unique numbers should be sorted by their original order, but the final array should not be sorted in numerical order.\n",
        "\n",
        "Check the assertion tests for examples.\n",
        "\n"
      ],
      "metadata": {
        "id": "q5iv3Ve6r_s9"
      }
    },
    {
      "cell_type": "code",
      "source": [
        "????"
      ],
      "metadata": {
        "id": "BXu6Eek6r_ya"
      },
      "execution_count": null,
      "outputs": []
    },
    {
      "cell_type": "markdown",
      "source": [
        "Convert HTML Entities\n",
        "Convert the characters &, <, >, \" (double quote), and ' (apostrophe), in a string to their corresponding HTML entities.\n",
        "\n"
      ],
      "metadata": {
        "id": "Ny0UfBDqr_6H"
      }
    },
    {
      "cell_type": "code",
      "source": [
        "function convertHTML(str) {\n",
        "  const entities = {\n",
        "    \"&\": \"&amp;\",\n",
        "    \"<\": \"&lt;\",\n",
        "    \">\": \"&gt;\",\n",
        "    '\"': \"&quot;\",\n",
        "    \"'\": \"&apos;\"\n",
        "  };\n",
        "\n",
        "  return str.replace(/[&<>\"'\"]/g, (i) => entities[i]);\n",
        "}\n",
        "\n",
        "convertHTML(\"Dolce & Gabbana\");"
      ],
      "metadata": {
        "id": "qpW-TGtqsANV"
      },
      "execution_count": null,
      "outputs": []
    },
    {
      "cell_type": "markdown",
      "source": [
        "Given a positive integer num, return the sum of all odd Fibonacci numbers that are less than or equal to num.\n",
        "\n",
        "The first two numbers in the Fibonacci sequence are 0 and 1. Every additional number in the sequence is the sum of the two previous numbers. The first seven numbers of the Fibonacci sequence are 0, 1, 1, 2, 3, 5 and 8.\n",
        "\n",
        "For example, sumFibs(10) should return 10 because all odd Fibonacci numbers less than or equal to 10 are 1, 1, 3, and 5.\n",
        "\n"
      ],
      "metadata": {
        "id": "1933qk3lsAOm"
      }
    },
    {
      "cell_type": "code",
      "source": [
        "function sumFibs(num) {\n",
        "  let prevNum = 0;\n",
        "  let currNum = 1;\n",
        "  let result = 0;\n",
        "  while (currNum <= num) { // We are going to get the numbers less than given num.\n",
        "    if (currNum % 2 !== 0) { // We check if the current number is odd or not.\n",
        "      result += currNum;\n",
        "    }\n",
        "    currNum += prevNum; // We update the current\n",
        "    prevNum = currNum - prevNum; // and previous numbers each time.\n",
        "  }\n",
        "  return result;\n",
        "}\n",
        "\n",
        "sumFibs(4);"
      ],
      "metadata": {
        "id": "ASG610y8sAQA"
      },
      "execution_count": null,
      "outputs": []
    },
    {
      "cell_type": "markdown",
      "source": [],
      "metadata": {
        "id": "UmtVifiSsASh"
      }
    },
    {
      "cell_type": "code",
      "source": [],
      "metadata": {
        "id": "7OOXEnXcsAaG"
      },
      "execution_count": null,
      "outputs": []
    },
    {
      "cell_type": "markdown",
      "source": [],
      "metadata": {
        "id": "eENl5mTJsAiJ"
      }
    },
    {
      "cell_type": "code",
      "source": [],
      "metadata": {
        "id": "1FNTzDhEsAok"
      },
      "execution_count": null,
      "outputs": []
    },
    {
      "cell_type": "markdown",
      "source": [],
      "metadata": {
        "id": "6O8zg5ersBFH"
      }
    },
    {
      "cell_type": "code",
      "source": [],
      "metadata": {
        "id": "oHVaDAlDsBG5"
      },
      "execution_count": null,
      "outputs": []
    },
    {
      "cell_type": "markdown",
      "source": [],
      "metadata": {
        "id": "afpnFKlnsBH_"
      }
    },
    {
      "cell_type": "code",
      "source": [],
      "metadata": {
        "id": "zec6P6k8sBJr"
      },
      "execution_count": null,
      "outputs": []
    },
    {
      "cell_type": "markdown",
      "source": [],
      "metadata": {
        "id": "KQnBLObYsBbG"
      }
    },
    {
      "cell_type": "code",
      "source": [],
      "metadata": {
        "id": "waKaa274sBfl"
      },
      "execution_count": null,
      "outputs": []
    },
    {
      "cell_type": "markdown",
      "source": [],
      "metadata": {
        "id": "ilxPcw3bsBl9"
      }
    },
    {
      "cell_type": "code",
      "source": [],
      "metadata": {
        "id": "l-wgKsNfsBuy"
      },
      "execution_count": null,
      "outputs": []
    },
    {
      "cell_type": "markdown",
      "source": [],
      "metadata": {
        "id": "WlVFZZtysBzj"
      }
    },
    {
      "cell_type": "code",
      "source": [],
      "metadata": {
        "id": "ttNTG6bjsCkk"
      },
      "execution_count": null,
      "outputs": []
    },
    {
      "cell_type": "markdown",
      "source": [],
      "metadata": {
        "id": "FwFj7V8wsErd"
      }
    },
    {
      "cell_type": "code",
      "source": [],
      "metadata": {
        "id": "pczqLuZrsEtV"
      },
      "execution_count": null,
      "outputs": []
    },
    {
      "cell_type": "markdown",
      "source": [],
      "metadata": {
        "id": "MuskqiyPsExP"
      }
    },
    {
      "cell_type": "code",
      "source": [],
      "metadata": {
        "id": "bJ39wHpMsFOp"
      },
      "execution_count": null,
      "outputs": []
    },
    {
      "cell_type": "markdown",
      "source": [],
      "metadata": {
        "id": "aFIvZbblsI_n"
      }
    },
    {
      "cell_type": "code",
      "source": [],
      "metadata": {
        "id": "oNLOT52vsJL4"
      },
      "execution_count": null,
      "outputs": []
    }
  ]
}