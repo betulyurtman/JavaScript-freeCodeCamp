{
  "nbformat": 4,
  "nbformat_minor": 0,
  "metadata": {
    "colab": {
      "provenance": []
    },
    "kernelspec": {
      "name": "python3",
      "display_name": "Python 3"
    },
    "language_info": {
      "name": "python"
    }
  },
  "cells": [
    {
      "cell_type": "markdown",
      "source": [
        "We'll pass you an array of two numbers. Return the sum of those two numbers plus the sum of all the numbers between them. The lowest number will not always come first.\n",
        "\n",
        "For example, sumAll([4,1]) should return 10 because sum of all the numbers between 1 and 4 (both inclusive) is 10.\n",
        "\n"
      ],
      "metadata": {
        "id": "lz2tcfQFr8rs"
      }
    },
    {
      "cell_type": "code",
      "execution_count": null,
      "metadata": {
        "id": "6SS6qV_brt2b"
      },
      "outputs": [],
      "source": [
        "function sumAll(arr) {\n",
        "  const min = Math.min(arr[0], arr[1]);\n",
        "  const max = Math.max(arr[0], arr[1]);\n",
        "  let sum = 0;\n",
        "  for (let i = min; i <= max; i++) {\n",
        "    sum += i;\n",
        "  }\n",
        "  return sum;\n",
        "}\n",
        "\n",
        "sumAll([1, 4]);"
      ]
    },
    {
      "cell_type": "markdown",
      "source": [],
      "metadata": {
        "id": "gg09GHl0r996"
      }
    },
    {
      "cell_type": "code",
      "source": [],
      "metadata": {
        "id": "1YIgLiG3r-E5"
      },
      "execution_count": null,
      "outputs": []
    },
    {
      "cell_type": "markdown",
      "source": [],
      "metadata": {
        "id": "y7xXwn5Kr-Lk"
      }
    },
    {
      "cell_type": "code",
      "source": [],
      "metadata": {
        "id": "4KANgDVkr-Q8"
      },
      "execution_count": null,
      "outputs": []
    },
    {
      "cell_type": "markdown",
      "source": [],
      "metadata": {
        "id": "OfqzpF9dr-bL"
      }
    },
    {
      "cell_type": "code",
      "source": [],
      "metadata": {
        "id": "EbL9gdnqr-gM"
      },
      "execution_count": null,
      "outputs": []
    },
    {
      "cell_type": "markdown",
      "source": [],
      "metadata": {
        "id": "TREw-8C-r-mx"
      }
    },
    {
      "cell_type": "code",
      "source": [],
      "metadata": {
        "id": "v2qO8fb1r-sH"
      },
      "execution_count": null,
      "outputs": []
    },
    {
      "cell_type": "markdown",
      "source": [],
      "metadata": {
        "id": "Peh2xI5tr-y1"
      }
    },
    {
      "cell_type": "code",
      "source": [],
      "metadata": {
        "id": "yOYtPQk2r-6P"
      },
      "execution_count": null,
      "outputs": []
    },
    {
      "cell_type": "markdown",
      "source": [],
      "metadata": {
        "id": "_BvqwvKrr_Jy"
      }
    },
    {
      "cell_type": "code",
      "source": [],
      "metadata": {
        "id": "b6Rs2caIr_LN"
      },
      "execution_count": null,
      "outputs": []
    },
    {
      "cell_type": "markdown",
      "source": [],
      "metadata": {
        "id": "pHiEbgsQr_PA"
      }
    },
    {
      "cell_type": "code",
      "source": [],
      "metadata": {
        "id": "JCG2G68ir_V7"
      },
      "execution_count": null,
      "outputs": []
    },
    {
      "cell_type": "markdown",
      "source": [],
      "metadata": {
        "id": "pYMQmFBLr_mZ"
      }
    },
    {
      "cell_type": "code",
      "source": [],
      "metadata": {
        "id": "_tpQre3kr_nn"
      },
      "execution_count": null,
      "outputs": []
    },
    {
      "cell_type": "markdown",
      "source": [],
      "metadata": {
        "id": "q5iv3Ve6r_s9"
      }
    },
    {
      "cell_type": "code",
      "source": [],
      "metadata": {
        "id": "BXu6Eek6r_ya"
      },
      "execution_count": null,
      "outputs": []
    },
    {
      "cell_type": "markdown",
      "source": [],
      "metadata": {
        "id": "Ny0UfBDqr_6H"
      }
    },
    {
      "cell_type": "code",
      "source": [],
      "metadata": {
        "id": "qpW-TGtqsANV"
      },
      "execution_count": null,
      "outputs": []
    },
    {
      "cell_type": "markdown",
      "source": [],
      "metadata": {
        "id": "1933qk3lsAOm"
      }
    },
    {
      "cell_type": "code",
      "source": [],
      "metadata": {
        "id": "ASG610y8sAQA"
      },
      "execution_count": null,
      "outputs": []
    },
    {
      "cell_type": "markdown",
      "source": [],
      "metadata": {
        "id": "UmtVifiSsASh"
      }
    },
    {
      "cell_type": "code",
      "source": [],
      "metadata": {
        "id": "7OOXEnXcsAaG"
      },
      "execution_count": null,
      "outputs": []
    },
    {
      "cell_type": "markdown",
      "source": [],
      "metadata": {
        "id": "eENl5mTJsAiJ"
      }
    },
    {
      "cell_type": "code",
      "source": [],
      "metadata": {
        "id": "1FNTzDhEsAok"
      },
      "execution_count": null,
      "outputs": []
    },
    {
      "cell_type": "markdown",
      "source": [],
      "metadata": {
        "id": "6O8zg5ersBFH"
      }
    },
    {
      "cell_type": "code",
      "source": [],
      "metadata": {
        "id": "oHVaDAlDsBG5"
      },
      "execution_count": null,
      "outputs": []
    },
    {
      "cell_type": "markdown",
      "source": [],
      "metadata": {
        "id": "afpnFKlnsBH_"
      }
    },
    {
      "cell_type": "code",
      "source": [],
      "metadata": {
        "id": "zec6P6k8sBJr"
      },
      "execution_count": null,
      "outputs": []
    },
    {
      "cell_type": "markdown",
      "source": [],
      "metadata": {
        "id": "KQnBLObYsBbG"
      }
    },
    {
      "cell_type": "code",
      "source": [],
      "metadata": {
        "id": "waKaa274sBfl"
      },
      "execution_count": null,
      "outputs": []
    },
    {
      "cell_type": "markdown",
      "source": [],
      "metadata": {
        "id": "ilxPcw3bsBl9"
      }
    },
    {
      "cell_type": "code",
      "source": [],
      "metadata": {
        "id": "l-wgKsNfsBuy"
      },
      "execution_count": null,
      "outputs": []
    },
    {
      "cell_type": "markdown",
      "source": [],
      "metadata": {
        "id": "WlVFZZtysBzj"
      }
    },
    {
      "cell_type": "code",
      "source": [],
      "metadata": {
        "id": "ttNTG6bjsCkk"
      },
      "execution_count": null,
      "outputs": []
    },
    {
      "cell_type": "markdown",
      "source": [],
      "metadata": {
        "id": "FwFj7V8wsErd"
      }
    },
    {
      "cell_type": "code",
      "source": [],
      "metadata": {
        "id": "pczqLuZrsEtV"
      },
      "execution_count": null,
      "outputs": []
    },
    {
      "cell_type": "markdown",
      "source": [],
      "metadata": {
        "id": "MuskqiyPsExP"
      }
    },
    {
      "cell_type": "code",
      "source": [],
      "metadata": {
        "id": "bJ39wHpMsFOp"
      },
      "execution_count": null,
      "outputs": []
    },
    {
      "cell_type": "markdown",
      "source": [],
      "metadata": {
        "id": "aFIvZbblsI_n"
      }
    },
    {
      "cell_type": "code",
      "source": [],
      "metadata": {
        "id": "oNLOT52vsJL4"
      },
      "execution_count": null,
      "outputs": []
    }
  ]
}